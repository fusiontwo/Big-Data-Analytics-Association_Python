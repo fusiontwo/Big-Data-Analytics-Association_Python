{
 "cells": [
  {
   "cell_type": "code",
   "execution_count": 1,
   "id": "583f49d4",
   "metadata": {},
   "outputs": [],
   "source": [
    "import random"
   ]
  },
  {
   "cell_type": "code",
   "execution_count": 2,
   "id": "b1c651cb",
   "metadata": {},
   "outputs": [],
   "source": [
    "# 아래 두 코드처럼 반복문 안의 내용 순서에 따라 다른 내용이 된다."
   ]
  },
  {
   "cell_type": "code",
   "execution_count": 14,
   "id": "e3a4d28a",
   "metadata": {
    "scrolled": true
   },
   "outputs": [
    {
     "name": "stdout",
     "output_type": "stream",
     "text": [
      "1\n",
      "4\n",
      "2\n",
      "4\n",
      "1\n",
      "6\n",
      "3\n",
      "1\n",
      "2\n",
      "3\n"
     ]
    }
   ],
   "source": [
    "# i는 5가 아닐 때까지 i를 출력한다.(5는 출력하지 않음)\n",
    "i = 1\n",
    "while i != 5:\n",
    "    print(i)\n",
    "    i = random.randint(1,6)"
   ]
  },
  {
   "cell_type": "code",
   "execution_count": 18,
   "id": "63db9268",
   "metadata": {},
   "outputs": [
    {
     "name": "stdout",
     "output_type": "stream",
     "text": [
      "6\n",
      "3\n",
      "2\n",
      "5\n"
     ]
    }
   ],
   "source": [
    "# i는 5가 아닐 때까지 i를 출력한다.(5는 출력함)\n",
    "i = 1\n",
    "while i != 5:\n",
    "    i = random.randint(1,6)\n",
    "    print(i)"
   ]
  },
  {
   "cell_type": "markdown",
   "id": "53093428",
   "metadata": {},
   "source": [
    "### continue 문 이해하기!"
   ]
  },
  {
   "cell_type": "code",
   "execution_count": 19,
   "id": "b9f675bf",
   "metadata": {},
   "outputs": [
    {
     "name": "stdout",
     "output_type": "stream",
     "text": [
      "1\n",
      "3\n",
      "5\n",
      "7\n",
      "9\n",
      "11\n",
      "13\n",
      "15\n",
      "17\n",
      "19\n",
      "21\n",
      "23\n",
      "25\n",
      "27\n",
      "29\n"
     ]
    }
   ],
   "source": [
    "# 홀수만 출력하고 싶은 경우\n",
    "for i in range(30):\n",
    "    if i % 2 == 1:\n",
    "        print(i)"
   ]
  },
  {
   "cell_type": "code",
   "execution_count": 20,
   "id": "0985a2dd",
   "metadata": {},
   "outputs": [
    {
     "name": "stdout",
     "output_type": "stream",
     "text": [
      "1\n",
      "3\n",
      "5\n",
      "7\n",
      "9\n",
      "11\n",
      "13\n",
      "15\n",
      "17\n",
      "19\n",
      "21\n",
      "23\n",
      "25\n",
      "27\n",
      "29\n"
     ]
    }
   ],
   "source": [
    "# 짝수를 건너뛰는 코드\n",
    "for i in range(30):\n",
    "    if i % 2 == 0:\n",
    "        continue\n",
    "    print(i)"
   ]
  },
  {
   "cell_type": "code",
   "execution_count": 22,
   "id": "cde39bbb",
   "metadata": {},
   "outputs": [
    {
     "name": "stdout",
     "output_type": "stream",
     "text": [
      "1\n",
      "3\n",
      "5\n",
      "7\n",
      "9\n",
      "11\n",
      "13\n",
      "15\n",
      "17\n",
      "19\n",
      "21\n",
      "23\n",
      "25\n",
      "27\n",
      "29\n"
     ]
    }
   ],
   "source": [
    "# while 문을 이용해서 동일하게 진행하기\n",
    "i = 0\n",
    "while i < 30:\n",
    "    i += 1\n",
    "    if i % 2 == 0:\n",
    "        continue\n",
    "    print(i)"
   ]
  },
  {
   "cell_type": "markdown",
   "id": "d7b832ce",
   "metadata": {},
   "source": [
    "## 문제1.\n",
    "- 유저에게 숫자를 입력받아서\n",
    "- 입력받은 숫자만큼 반복하고 그 숫자에는 멈추는 while문을 만들어 주세요\n",
    "- 실행 예시\n",
    "- 0\n",
    "- 1\n",
    "- 2\n",
    "- 3 (4를 입력하면 4번 반복하고 끝남)"
   ]
  },
  {
   "cell_type": "code",
   "execution_count": 23,
   "id": "3d2472df",
   "metadata": {},
   "outputs": [
    {
     "name": "stdout",
     "output_type": "stream",
     "text": [
      "숫자를 입력하세요: 4\n",
      "0\n",
      "1\n",
      "2\n",
      "3\n"
     ]
    }
   ],
   "source": [
    "num = int(input(\"숫자를 입력하세요: \"))\n",
    "for i in range(num):\n",
    "    print(i)\n",
    "    if i == num:\n",
    "        break"
   ]
  },
  {
   "cell_type": "code",
   "execution_count": 24,
   "id": "971ee234",
   "metadata": {},
   "outputs": [
    {
     "name": "stdout",
     "output_type": "stream",
     "text": [
      "숫자를 입력하세요: 4\n",
      "0\n",
      "1\n",
      "2\n"
     ]
    }
   ],
   "source": [
    "num = int(input(\"숫자를 입력하세요: \"))\n",
    "a = 0\n",
    "while a < num + 1:\n",
    "    print(a)\n",
    "    a += 1\n",
    "    if a == i:\n",
    "        break"
   ]
  },
  {
   "cell_type": "code",
   "execution_count": 25,
   "id": "be631892",
   "metadata": {},
   "outputs": [
    {
     "name": "stdout",
     "output_type": "stream",
     "text": [
      "숫자를 입력하세요: 4\n",
      "0\n",
      "1\n",
      "2\n",
      "3\n"
     ]
    }
   ],
   "source": [
    "a = int(input(\"숫자를 입력하세요: \"))\n",
    "\n",
    "i = 0\n",
    "while True:\n",
    "    print(i)\n",
    "    i += 1\n",
    "    if i == a:\n",
    "        break"
   ]
  },
  {
   "cell_type": "markdown",
   "id": "d8be236f",
   "metadata": {},
   "source": [
    "### 중첩 루프\n",
    "- 반복문 안에 또 반복문이 있다.\n",
    "- for i in range(횟수):\n",
    "    print(i)\n",
    "  기본적인 반복문\n",
    "- for i in range(횟수):  # 바깥쪽 루프\n",
    "-  -  for j in range(횟수):  # 안쪽 루프\n",
    "-  -  - 가로 처리 코드\n",
    "-  -  세로 처리 코드"
   ]
  },
  {
   "cell_type": "code",
   "execution_count": 29,
   "id": "e3364b9f",
   "metadata": {},
   "outputs": [
    {
     "name": "stdout",
     "output_type": "stream",
     "text": [
      "0 1 2 3 4 0 1 2 3 4 0 1 2 3 4 0 1 2 3 4 0 1 2 3 4 "
     ]
    }
   ],
   "source": [
    "for i in range(5):\n",
    "    for j in range(5):\n",
    "        print(j, sep='', end=' ')"
   ]
  },
  {
   "cell_type": "code",
   "execution_count": 30,
   "id": "86d5cd80",
   "metadata": {},
   "outputs": [
    {
     "name": "stdout",
     "output_type": "stream",
     "text": [
      "0 1 2 3 4 "
     ]
    }
   ],
   "source": [
    "for j in range(5):\n",
    "    print(j, sep='', end=' ')"
   ]
  },
  {
   "cell_type": "code",
   "execution_count": 31,
   "id": "66c25812",
   "metadata": {},
   "outputs": [
    {
     "name": "stdout",
     "output_type": "stream",
     "text": [
      "j:0 j:1 j:2 j:3 j:4    i:0\n",
      "j:0 j:1 j:2 j:3 j:4    i:1\n",
      "j:0 j:1 j:2 j:3 j:4    i:2\n",
      "j:0 j:1 j:2 j:3 j:4    i:3\n",
      "j:0 j:1 j:2 j:3 j:4    i:4\n"
     ]
    }
   ],
   "source": [
    "for i in range(5):\n",
    "    for j in range(5):\n",
    "        print('j:', j, sep='', end=' ')\n",
    "    print('   i:', i, sep='')"
   ]
  },
  {
   "cell_type": "code",
   "execution_count": 35,
   "id": "a39d8886",
   "metadata": {},
   "outputs": [
    {
     "name": "stdout",
     "output_type": "stream",
     "text": [
      "j:0 j:1 j:2 j:3 j:4    i:0\n",
      "j:0 j:1 j:2 j:3 j:4    i:1\n"
     ]
    }
   ],
   "source": [
    "for i in range(2):\n",
    "    for j in range(5):\n",
    "        print('j:', j, sep='', end=' ')\n",
    "    print('   i:', i, sep='')"
   ]
  },
  {
   "cell_type": "code",
   "execution_count": 44,
   "id": "3fc37a62",
   "metadata": {},
   "outputs": [
    {
     "name": "stdout",
     "output_type": "stream",
     "text": [
      "j:0 j:1 j:2 j:3 j:4 j:5 j:6   i:0\n",
      "j:0 j:1 j:2 j:3 j:4 j:5 j:6   i:1\n"
     ]
    }
   ],
   "source": [
    "for i in range(2):\n",
    "    for j in range(7):\n",
    "        print('j:', j, sep='', end=' ')\n",
    "    print('  i:', i, sep='')"
   ]
  },
  {
   "cell_type": "code",
   "execution_count": 45,
   "id": "278dd2a6",
   "metadata": {},
   "outputs": [
    {
     "name": "stdout",
     "output_type": "stream",
     "text": [
      "j:0 j:1   i:0\n",
      "j:0 j:1   i:1\n",
      "j:0 j:1   i:2\n",
      "j:0 j:1   i:3\n",
      "j:0 j:1   i:4\n",
      "j:0 j:1   i:5\n",
      "j:0 j:1   i:6\n"
     ]
    }
   ],
   "source": [
    "for i in range(7):\n",
    "    for j in range(2):\n",
    "        print('j:', j, sep='', end=' ')\n",
    "    print('  i:', i, sep='')"
   ]
  },
  {
   "cell_type": "code",
   "execution_count": 46,
   "id": "b9196647",
   "metadata": {},
   "outputs": [
    {
     "name": "stdout",
     "output_type": "stream",
     "text": [
      "k:0  k:1  k:2  k:3   j:0\n",
      "k:0  k:1  k:2  k:3   j:1\n",
      "i:0\n",
      "k:0  k:1  k:2  k:3   j:0\n",
      "k:0  k:1  k:2  k:3   j:1\n",
      "i:1\n",
      "k:0  k:1  k:2  k:3   j:0\n",
      "k:0  k:1  k:2  k:3   j:1\n",
      "i:2\n"
     ]
    }
   ],
   "source": [
    "for i in range(3):\n",
    "    for j in range(2):\n",
    "        for k in range(4):\n",
    "            print('k:', k, sep='', end='  ')\n",
    "        print(' j:', j, sep='')\n",
    "    print('i:', i, sep='')"
   ]
  },
  {
   "cell_type": "markdown",
   "id": "f627f66a",
   "metadata": {},
   "source": [
    "## 과제1. 중첩루프(2중, 3중, 4중 반복문 작성 후)\n",
    "- 주석 처리로 코드에 대한 설명과\n",
    "- 출력에 대한 정보를 마크다운으로 정리해 주세요!"
   ]
  },
  {
   "cell_type": "code",
   "execution_count": 52,
   "id": "f4b63217",
   "metadata": {},
   "outputs": [
    {
     "name": "stdout",
     "output_type": "stream",
     "text": [
      "j:0 j:1 j:2    i: 0\n",
      "j:0 j:1 j:2    i: 1\n"
     ]
    }
   ],
   "source": [
    "for i in range(2):  # i 반복\n",
    "    for j in range(3):  # j 반복\n",
    "        print('j:', j, sep='', end=' ')  # end=' ' 사용해서 한 줄에 출력되도록\n",
    "    print('   i:', i)"
   ]
  },
  {
   "cell_type": "code",
   "execution_count": 57,
   "id": "3bae6fc6",
   "metadata": {},
   "outputs": [
    {
     "name": "stdout",
     "output_type": "stream",
     "text": [
      "k:0 k:1 k:2 k:3    j:0\n",
      "k:0 k:1 k:2 k:3    j:1\n",
      "k:0 k:1 k:2 k:3    j:2\n",
      "i: 0\n",
      "k:0 k:1 k:2 k:3    j:0\n",
      "k:0 k:1 k:2 k:3    j:1\n",
      "k:0 k:1 k:2 k:3    j:2\n",
      "i: 1\n"
     ]
    }
   ],
   "source": [
    "for i in range(2):  # i 반복\n",
    "    for j in range(3):  # j 반복\n",
    "        for k in range(4):  # k 반복\n",
    "            print('k:', k, sep='', end=' ')  # end=' ' 사용해서 한 줄에 출력되도록\n",
    "        print('   j:', j, sep='')  \n",
    "    print('i:', i)"
   ]
  },
  {
   "cell_type": "code",
   "execution_count": 62,
   "id": "ffc01210",
   "metadata": {},
   "outputs": [
    {
     "name": "stdout",
     "output_type": "stream",
     "text": [
      "m:0 m:1 m:2 m:3 m:4   k:0\n",
      "m:0 m:1 m:2 m:3 m:4   k:1\n",
      "m:0 m:1 m:2 m:3 m:4   k:2\n",
      "m:0 m:1 m:2 m:3 m:4   k:3\n",
      "j:0\n",
      "m:0 m:1 m:2 m:3 m:4   k:0\n",
      "m:0 m:1 m:2 m:3 m:4   k:1\n",
      "m:0 m:1 m:2 m:3 m:4   k:2\n",
      "m:0 m:1 m:2 m:3 m:4   k:3\n",
      "j:1\n",
      "m:0 m:1 m:2 m:3 m:4   k:0\n",
      "m:0 m:1 m:2 m:3 m:4   k:1\n",
      "m:0 m:1 m:2 m:3 m:4   k:2\n",
      "m:0 m:1 m:2 m:3 m:4   k:3\n",
      "j:2\n",
      "        i: 0\n",
      "m:0 m:1 m:2 m:3 m:4   k:0\n",
      "m:0 m:1 m:2 m:3 m:4   k:1\n",
      "m:0 m:1 m:2 m:3 m:4   k:2\n",
      "m:0 m:1 m:2 m:3 m:4   k:3\n",
      "j:0\n",
      "m:0 m:1 m:2 m:3 m:4   k:0\n",
      "m:0 m:1 m:2 m:3 m:4   k:1\n",
      "m:0 m:1 m:2 m:3 m:4   k:2\n",
      "m:0 m:1 m:2 m:3 m:4   k:3\n",
      "j:1\n",
      "m:0 m:1 m:2 m:3 m:4   k:0\n",
      "m:0 m:1 m:2 m:3 m:4   k:1\n",
      "m:0 m:1 m:2 m:3 m:4   k:2\n",
      "m:0 m:1 m:2 m:3 m:4   k:3\n",
      "j:2\n",
      "        i: 1\n"
     ]
    }
   ],
   "source": [
    "for i in range(2):  # i 반복\n",
    "    for j in range(3):  # j 반복\n",
    "        for k in range(4):  # k 반복\n",
    "            for m in range(5):  # m 반복\n",
    "                print('m:', m, sep='', end=' ')\n",
    "            print('  k:', k, sep='')  # end=' ' 사용해서 한 줄에 출력되도록\n",
    "        print('j:', j, sep='')  \n",
    "    print('        i:', i)"
   ]
  },
  {
   "cell_type": "markdown",
   "id": "452806ad",
   "metadata": {},
   "source": [
    "## 문제\n",
    "- 아래와 같이 출력해주세요!\n",
    "### *\n",
    "### **\n",
    "### ***\n",
    "### ****\n",
    "### *****"
   ]
  },
  {
   "cell_type": "code",
   "execution_count": 65,
   "id": "7f368c00",
   "metadata": {},
   "outputs": [
    {
     "name": "stdout",
     "output_type": "stream",
     "text": [
      "*\n",
      "**\n",
      "***\n",
      "****\n",
      "*****\n"
     ]
    }
   ],
   "source": [
    "# 0>=0(참) 0>=1(거짓)\n",
    "# 1>=0(참) 1>=1(참) 1>=2(거짓)\n",
    "# 2>=0(참) 2>=1(참) 2>=2(참) 2>=3(거짓)\n",
    "# 3>=0(참) 3>=1(참) 3>=2(참) 3>=3(참) 3>=4(거짓)\n",
    "# ...\n",
    "for i in range(5):\n",
    "    for j in range(5):\n",
    "        if i >= j:\n",
    "            print('*', end='')\n",
    "    print()  # 공백을 넣는다."
   ]
  }
 ],
 "metadata": {
  "kernelspec": {
   "display_name": "Python 3 (ipykernel)",
   "language": "python",
   "name": "python3"
  },
  "language_info": {
   "codemirror_mode": {
    "name": "ipython",
    "version": 3
   },
   "file_extension": ".py",
   "mimetype": "text/x-python",
   "name": "python",
   "nbconvert_exporter": "python",
   "pygments_lexer": "ipython3",
   "version": "3.9.12"
  }
 },
 "nbformat": 4,
 "nbformat_minor": 5
}
