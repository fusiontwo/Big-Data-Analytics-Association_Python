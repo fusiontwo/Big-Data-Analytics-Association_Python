{
 "cells": [
  {
   "cell_type": "markdown",
   "id": "19b9d3d3",
   "metadata": {},
   "source": [
    "### 불린(Boolean) 값"
   ]
  },
  {
   "cell_type": "markdown",
   "id": "ee79ae01",
   "metadata": {},
   "source": [
    "#### 참(True), 거짓(False)"
   ]
  },
  {
   "cell_type": "code",
   "execution_count": 2,
   "id": "0d619d93",
   "metadata": {},
   "outputs": [
    {
     "data": {
      "text/plain": [
       "False"
      ]
     },
     "execution_count": 2,
     "metadata": {},
     "output_type": "execute_result"
    }
   ],
   "source": [
    "1>3"
   ]
  },
  {
   "cell_type": "code",
   "execution_count": 3,
   "id": "2699a0d8",
   "metadata": {},
   "outputs": [
    {
     "data": {
      "text/plain": [
       "1"
      ]
     },
     "execution_count": 3,
     "metadata": {},
     "output_type": "execute_result"
    }
   ],
   "source": [
    "1"
   ]
  },
  {
   "cell_type": "code",
   "execution_count": 4,
   "id": "27e62ed9",
   "metadata": {},
   "outputs": [
    {
     "data": {
      "text/plain": [
       "True"
      ]
     },
     "execution_count": 4,
     "metadata": {},
     "output_type": "execute_result"
    }
   ],
   "source": [
    "'안녕?'\n",
    "10 == 10"
   ]
  },
  {
   "cell_type": "code",
   "execution_count": 5,
   "id": "9a0a8972",
   "metadata": {},
   "outputs": [
    {
     "data": {
      "text/plain": [
       "False"
      ]
     },
     "execution_count": 5,
     "metadata": {},
     "output_type": "execute_result"
    }
   ],
   "source": [
    "10 != 10"
   ]
  },
  {
   "cell_type": "code",
   "execution_count": 6,
   "id": "b12f1337",
   "metadata": {},
   "outputs": [
    {
     "data": {
      "text/plain": [
       "True"
      ]
     },
     "execution_count": 6,
     "metadata": {},
     "output_type": "execute_result"
    }
   ],
   "source": [
    "'ABC' == 'ABC'"
   ]
  },
  {
   "cell_type": "code",
   "execution_count": 7,
   "id": "a045f19e",
   "metadata": {},
   "outputs": [
    {
     "data": {
      "text/plain": [
       "False"
      ]
     },
     "execution_count": 7,
     "metadata": {},
     "output_type": "execute_result"
    }
   ],
   "source": [
    "'ABC' == 'ABC ' # 공백 하나로도 거짓이 된다."
   ]
  },
  {
   "cell_type": "code",
   "execution_count": 8,
   "id": "196fc343",
   "metadata": {},
   "outputs": [
    {
     "data": {
      "text/plain": [
       "False"
      ]
     },
     "execution_count": 8,
     "metadata": {},
     "output_type": "execute_result"
    }
   ],
   "source": [
    "10>20"
   ]
  },
  {
   "cell_type": "code",
   "execution_count": 9,
   "id": "77a3c807",
   "metadata": {},
   "outputs": [
    {
     "data": {
      "text/plain": [
       "True"
      ]
     },
     "execution_count": 9,
     "metadata": {},
     "output_type": "execute_result"
    }
   ],
   "source": [
    "100>10"
   ]
  },
  {
   "cell_type": "code",
   "execution_count": 10,
   "id": "12752018",
   "metadata": {},
   "outputs": [
    {
     "data": {
      "text/plain": [
       "True"
      ]
     },
     "execution_count": 10,
     "metadata": {},
     "output_type": "execute_result"
    }
   ],
   "source": [
    "10>=10"
   ]
  },
  {
   "cell_type": "markdown",
   "id": "5ad481b3",
   "metadata": {},
   "source": [
    "=="
   ]
  },
  {
   "cell_type": "markdown",
   "id": "9315dd92",
   "metadata": {},
   "source": [
    "is"
   ]
  },
  {
   "cell_type": "markdown",
   "id": "bb938a20",
   "metadata": {},
   "source": [
    "### 두 개의 비교방법"
   ]
  },
  {
   "cell_type": "code",
   "execution_count": 13,
   "id": "4cb4206d",
   "metadata": {},
   "outputs": [
    {
     "data": {
      "text/plain": [
       "True"
      ]
     },
     "execution_count": 13,
     "metadata": {},
     "output_type": "execute_result"
    }
   ],
   "source": [
    "1 == 1.0 # 숫자를 비교하는 개념"
   ]
  },
  {
   "cell_type": "code",
   "execution_count": 14,
   "id": "61665e2a",
   "metadata": {},
   "outputs": [
    {
     "name": "stderr",
     "output_type": "stream",
     "text": [
      "<>:1: SyntaxWarning: \"is\" with a literal. Did you mean \"==\"?\n",
      "<>:1: SyntaxWarning: \"is\" with a literal. Did you mean \"==\"?\n",
      "C:\\Users\\Public\\Documents\\ESTsoft\\CreatorTemp\\ipykernel_7940\\1507576414.py:1: SyntaxWarning: \"is\" with a literal. Did you mean \"==\"?\n",
      "  1 is 1.0 # 거짓의 개념이 나온다.\n"
     ]
    },
    {
     "data": {
      "text/plain": [
       "False"
      ]
     },
     "execution_count": 14,
     "metadata": {},
     "output_type": "execute_result"
    }
   ],
   "source": [
    "1 is 1.0 # 거짓의 개념이 나온다."
   ]
  },
  {
   "cell_type": "markdown",
   "id": "45a0a41c",
   "metadata": {},
   "source": [
    "## 논리 연산자!\n",
    "- and, or, not"
   ]
  },
  {
   "cell_type": "code",
   "execution_count": 15,
   "id": "27c2fb23",
   "metadata": {},
   "outputs": [
    {
     "data": {
      "text/plain": [
       "True"
      ]
     },
     "execution_count": 15,
     "metadata": {},
     "output_type": "execute_result"
    }
   ],
   "source": [
    "# a and b\n",
    "\n",
    "True and True"
   ]
  },
  {
   "cell_type": "code",
   "execution_count": 16,
   "id": "6caa2bc3",
   "metadata": {},
   "outputs": [
    {
     "data": {
      "text/plain": [
       "False"
      ]
     },
     "execution_count": 16,
     "metadata": {},
     "output_type": "execute_result"
    }
   ],
   "source": [
    "True and False"
   ]
  },
  {
   "cell_type": "code",
   "execution_count": 17,
   "id": "f4b435c3",
   "metadata": {},
   "outputs": [
    {
     "data": {
      "text/plain": [
       "False"
      ]
     },
     "execution_count": 17,
     "metadata": {},
     "output_type": "execute_result"
    }
   ],
   "source": [
    "False and True"
   ]
  },
  {
   "cell_type": "code",
   "execution_count": 18,
   "id": "e89e02b0",
   "metadata": {},
   "outputs": [
    {
     "data": {
      "text/plain": [
       "False"
      ]
     },
     "execution_count": 18,
     "metadata": {},
     "output_type": "execute_result"
    }
   ],
   "source": [
    "False and False"
   ]
  },
  {
   "cell_type": "code",
   "execution_count": 19,
   "id": "08675d09",
   "metadata": {},
   "outputs": [],
   "source": [
    "# and 조건은 둘 다 참이어야지만 참이 나온다!"
   ]
  },
  {
   "cell_type": "code",
   "execution_count": 20,
   "id": "717d23b8",
   "metadata": {},
   "outputs": [
    {
     "data": {
      "text/plain": [
       "True"
      ]
     },
     "execution_count": 20,
     "metadata": {},
     "output_type": "execute_result"
    }
   ],
   "source": [
    "# a or b\n",
    "True or True"
   ]
  },
  {
   "cell_type": "code",
   "execution_count": 21,
   "id": "2d077620",
   "metadata": {},
   "outputs": [
    {
     "data": {
      "text/plain": [
       "True"
      ]
     },
     "execution_count": 21,
     "metadata": {},
     "output_type": "execute_result"
    }
   ],
   "source": [
    "True or False"
   ]
  },
  {
   "cell_type": "code",
   "execution_count": 22,
   "id": "b5d7a22a",
   "metadata": {},
   "outputs": [
    {
     "data": {
      "text/plain": [
       "True"
      ]
     },
     "execution_count": 22,
     "metadata": {},
     "output_type": "execute_result"
    }
   ],
   "source": [
    "False or True"
   ]
  },
  {
   "cell_type": "code",
   "execution_count": 23,
   "id": "00ad9131",
   "metadata": {},
   "outputs": [
    {
     "data": {
      "text/plain": [
       "False"
      ]
     },
     "execution_count": 23,
     "metadata": {},
     "output_type": "execute_result"
    }
   ],
   "source": [
    "False or False"
   ]
  },
  {
   "cell_type": "code",
   "execution_count": 24,
   "id": "d4456cf5",
   "metadata": {},
   "outputs": [],
   "source": [
    "# or 조건은 하나라도 참이 있으면 참을 반환!"
   ]
  },
  {
   "cell_type": "code",
   "execution_count": 25,
   "id": "ad65653f",
   "metadata": {},
   "outputs": [
    {
     "data": {
      "text/plain": [
       "False"
      ]
     },
     "execution_count": 25,
     "metadata": {},
     "output_type": "execute_result"
    }
   ],
   "source": [
    "# not True, False\n",
    "not True"
   ]
  },
  {
   "cell_type": "code",
   "execution_count": 26,
   "id": "8bd97d5e",
   "metadata": {},
   "outputs": [
    {
     "data": {
      "text/plain": [
       "True"
      ]
     },
     "execution_count": 26,
     "metadata": {},
     "output_type": "execute_result"
    }
   ],
   "source": [
    "not False"
   ]
  },
  {
   "cell_type": "markdown",
   "id": "00d555de",
   "metadata": {},
   "source": [
    "#### not, and, or 순으로 문제를 풀면 된다."
   ]
  },
  {
   "cell_type": "markdown",
   "id": "69cd8f3e",
   "metadata": {},
   "source": [
    "---"
   ]
  },
  {
   "cell_type": "markdown",
   "id": "3fd4a7f9",
   "metadata": {},
   "source": [
    "### 예제1"
   ]
  },
  {
   "cell_type": "code",
   "execution_count": 27,
   "id": "94415b44",
   "metadata": {},
   "outputs": [
    {
     "data": {
      "text/plain": [
       "True"
      ]
     },
     "execution_count": 27,
     "metadata": {},
     "output_type": "execute_result"
    }
   ],
   "source": [
    "not True and False or not False and True"
   ]
  },
  {
   "cell_type": "code",
   "execution_count": 28,
   "id": "bf101248",
   "metadata": {},
   "outputs": [
    {
     "data": {
      "text/plain": [
       "True"
      ]
     },
     "execution_count": 28,
     "metadata": {},
     "output_type": "execute_result"
    }
   ],
   "source": [
    "False and False or True and True"
   ]
  },
  {
   "cell_type": "code",
   "execution_count": 29,
   "id": "9b135808",
   "metadata": {},
   "outputs": [
    {
     "data": {
      "text/plain": [
       "True"
      ]
     },
     "execution_count": 29,
     "metadata": {},
     "output_type": "execute_result"
    }
   ],
   "source": [
    "False or True"
   ]
  },
  {
   "cell_type": "markdown",
   "id": "c781e54a",
   "metadata": {},
   "source": [
    "### 예제2"
   ]
  },
  {
   "cell_type": "code",
   "execution_count": 30,
   "id": "0a099f32",
   "metadata": {},
   "outputs": [
    {
     "data": {
      "text/plain": [
       "True"
      ]
     },
     "execution_count": 30,
     "metadata": {},
     "output_type": "execute_result"
    }
   ],
   "source": [
    "10 == 10 and 10 != 7"
   ]
  },
  {
   "cell_type": "code",
   "execution_count": 31,
   "id": "28a327a7",
   "metadata": {},
   "outputs": [
    {
     "data": {
      "text/plain": [
       "True"
      ]
     },
     "execution_count": 31,
     "metadata": {},
     "output_type": "execute_result"
    }
   ],
   "source": [
    "True and True"
   ]
  },
  {
   "cell_type": "markdown",
   "id": "b0862a58",
   "metadata": {},
   "source": [
    "### 예제3"
   ]
  },
  {
   "cell_type": "code",
   "execution_count": 32,
   "id": "2d4b62d1",
   "metadata": {},
   "outputs": [
    {
     "data": {
      "text/plain": [
       "True"
      ]
     },
     "execution_count": 32,
     "metadata": {},
     "output_type": "execute_result"
    }
   ],
   "source": [
    "10<2 or 100<200"
   ]
  },
  {
   "cell_type": "code",
   "execution_count": 33,
   "id": "27e38fc0",
   "metadata": {},
   "outputs": [
    {
     "data": {
      "text/plain": [
       "True"
      ]
     },
     "execution_count": 33,
     "metadata": {},
     "output_type": "execute_result"
    }
   ],
   "source": [
    "False or True"
   ]
  },
  {
   "cell_type": "markdown",
   "id": "42d37372",
   "metadata": {},
   "source": [
    "---"
   ]
  },
  {
   "cell_type": "code",
   "execution_count": 36,
   "id": "80a9e06b",
   "metadata": {},
   "outputs": [
    {
     "name": "stdout",
     "output_type": "stream",
     "text": [
      "False\n",
      "False\n"
     ]
    }
   ],
   "source": [
    "print(False and True)\n",
    "print(False and False)"
   ]
  },
  {
   "cell_type": "code",
   "execution_count": 37,
   "id": "6d562c6d",
   "metadata": {},
   "outputs": [
    {
     "name": "stdout",
     "output_type": "stream",
     "text": [
      "True\n",
      "True\n"
     ]
    }
   ],
   "source": [
    "print(True or True)\n",
    "print(True or False)"
   ]
  },
  {
   "cell_type": "code",
   "execution_count": 38,
   "id": "9cfcbbf5",
   "metadata": {},
   "outputs": [
    {
     "data": {
      "text/plain": [
       "'안녕?'"
      ]
     },
     "execution_count": 38,
     "metadata": {},
     "output_type": "execute_result"
    }
   ],
   "source": [
    "True and '안녕?' # 참이니까 and 뒤의 조건을 봐야지. 안녕? 을 실행"
   ]
  },
  {
   "cell_type": "code",
   "execution_count": 39,
   "id": "48bf5edf",
   "metadata": {},
   "outputs": [
    {
     "data": {
      "text/plain": [
       "False"
      ]
     },
     "execution_count": 39,
     "metadata": {},
     "output_type": "execute_result"
    }
   ],
   "source": [
    "False and '안녕?'"
   ]
  },
  {
   "cell_type": "code",
   "execution_count": 40,
   "id": "8fae4154",
   "metadata": {},
   "outputs": [
    {
     "data": {
      "text/plain": [
       "'안녕?'"
      ]
     },
     "execution_count": 40,
     "metadata": {},
     "output_type": "execute_result"
    }
   ],
   "source": [
    "False or '안녕?' # 파이썬은 문자열을 참으로 본다."
   ]
  },
  {
   "cell_type": "code",
   "execution_count": 41,
   "id": "076506fe",
   "metadata": {},
   "outputs": [
    {
     "data": {
      "text/plain": [
       "'안녕?'"
      ]
     },
     "execution_count": 41,
     "metadata": {},
     "output_type": "execute_result"
    }
   ],
   "source": [
    "'안녕?'"
   ]
  },
  {
   "cell_type": "code",
   "execution_count": 42,
   "id": "a655e3e6",
   "metadata": {},
   "outputs": [
    {
     "data": {
      "text/plain": [
       "123"
      ]
     },
     "execution_count": 42,
     "metadata": {},
     "output_type": "execute_result"
    }
   ],
   "source": [
    "True and 123"
   ]
  },
  {
   "cell_type": "code",
   "execution_count": 43,
   "id": "ef1b5a70",
   "metadata": {},
   "outputs": [
    {
     "data": {
      "text/plain": [
       "False"
      ]
     },
     "execution_count": 43,
     "metadata": {},
     "output_type": "execute_result"
    }
   ],
   "source": [
    "False and 123"
   ]
  },
  {
   "cell_type": "code",
   "execution_count": 44,
   "id": "cd16e5f8",
   "metadata": {},
   "outputs": [
    {
     "data": {
      "text/plain": [
       "123"
      ]
     },
     "execution_count": 44,
     "metadata": {},
     "output_type": "execute_result"
    }
   ],
   "source": [
    "False or 123"
   ]
  },
  {
   "cell_type": "code",
   "execution_count": 45,
   "id": "6fa357be",
   "metadata": {},
   "outputs": [
    {
     "name": "stdout",
     "output_type": "stream",
     "text": [
      "123\n",
      "0\n",
      "123\n"
     ]
    }
   ],
   "source": [
    "# 참과 거짓의 숫자 표현\n",
    "print(True and 123)\n",
    "print(0 and 123)\n",
    "print(0 or 123)"
   ]
  },
  {
   "cell_type": "code",
   "execution_count": 46,
   "id": "8ab31276",
   "metadata": {},
   "outputs": [
    {
     "name": "stdout",
     "output_type": "stream",
     "text": [
      "123\n",
      "0\n",
      "0\n"
     ]
    }
   ],
   "source": [
    "print(1 and 123)\n",
    "print(0 and 1)\n",
    "print(0 or 0)"
   ]
  },
  {
   "cell_type": "markdown",
   "id": "da5cf35d",
   "metadata": {},
   "source": [
    "## 문자열 다루기!"
   ]
  },
  {
   "cell_type": "code",
   "execution_count": 47,
   "id": "227fbe3a",
   "metadata": {},
   "outputs": [
    {
     "data": {
      "text/plain": [
       "0"
      ]
     },
     "execution_count": 47,
     "metadata": {},
     "output_type": "execute_result"
    }
   ],
   "source": [
    "0 and True"
   ]
  },
  {
   "cell_type": "code",
   "execution_count": 48,
   "id": "f475ac89",
   "metadata": {},
   "outputs": [
    {
     "data": {
      "text/plain": [
       "0"
      ]
     },
     "execution_count": 48,
     "metadata": {},
     "output_type": "execute_result"
    }
   ],
   "source": [
    "True and 0"
   ]
  },
  {
   "cell_type": "code",
   "execution_count": 49,
   "id": "d8ef49c1",
   "metadata": {},
   "outputs": [
    {
     "data": {
      "text/plain": [
       "True"
      ]
     },
     "execution_count": 49,
     "metadata": {},
     "output_type": "execute_result"
    }
   ],
   "source": [
    "2 and True"
   ]
  },
  {
   "cell_type": "code",
   "execution_count": 50,
   "id": "138794e6",
   "metadata": {},
   "outputs": [
    {
     "data": {
      "text/plain": [
       "2"
      ]
     },
     "execution_count": 50,
     "metadata": {},
     "output_type": "execute_result"
    }
   ],
   "source": [
    "True and 2"
   ]
  },
  {
   "cell_type": "code",
   "execution_count": 51,
   "id": "29c7b796",
   "metadata": {},
   "outputs": [
    {
     "name": "stderr",
     "output_type": "stream",
     "text": [
      "<>:1: SyntaxWarning: \"is\" with a literal. Did you mean \"==\"?\n",
      "<>:1: SyntaxWarning: \"is\" with a literal. Did you mean \"==\"?\n",
      "C:\\Users\\Public\\Documents\\ESTsoft\\CreatorTemp\\ipykernel_7940\\216712726.py:1: SyntaxWarning: \"is\" with a literal. Did you mean \"==\"?\n",
      "  0 is False\n"
     ]
    },
    {
     "data": {
      "text/plain": [
       "False"
      ]
     },
     "execution_count": 51,
     "metadata": {},
     "output_type": "execute_result"
    }
   ],
   "source": [
    "0 is False"
   ]
  },
  {
   "cell_type": "code",
   "execution_count": 52,
   "id": "44e1d652",
   "metadata": {},
   "outputs": [
    {
     "name": "stderr",
     "output_type": "stream",
     "text": [
      "<>:1: SyntaxWarning: \"is\" with a literal. Did you mean \"==\"?\n",
      "<>:1: SyntaxWarning: \"is\" with a literal. Did you mean \"==\"?\n",
      "C:\\Users\\Public\\Documents\\ESTsoft\\CreatorTemp\\ipykernel_7940\\3336455986.py:1: SyntaxWarning: \"is\" with a literal. Did you mean \"==\"?\n",
      "  1 is 1.0\n"
     ]
    },
    {
     "data": {
      "text/plain": [
       "False"
      ]
     },
     "execution_count": 52,
     "metadata": {},
     "output_type": "execute_result"
    }
   ],
   "source": [
    "1 is 1.0"
   ]
  },
  {
   "cell_type": "markdown",
   "id": "7b76d0b1",
   "metadata": {},
   "source": [
    "### 문자열 다루기!"
   ]
  },
  {
   "cell_type": "code",
   "execution_count": 53,
   "id": "75f69728",
   "metadata": {},
   "outputs": [],
   "source": [
    "a = 'Hello, Python!'"
   ]
  },
  {
   "cell_type": "code",
   "execution_count": 54,
   "id": "56b54c7c",
   "metadata": {},
   "outputs": [
    {
     "data": {
      "text/plain": [
       "'Hello, Python!'"
      ]
     },
     "execution_count": 54,
     "metadata": {},
     "output_type": "execute_result"
    }
   ],
   "source": [
    "a"
   ]
  },
  {
   "cell_type": "code",
   "execution_count": 55,
   "id": "5ae324ea",
   "metadata": {},
   "outputs": [],
   "source": [
    "b = '안녕하세요!'"
   ]
  },
  {
   "cell_type": "code",
   "execution_count": 56,
   "id": "abf243ab",
   "metadata": {},
   "outputs": [
    {
     "data": {
      "text/plain": [
       "'안녕하세요!'"
      ]
     },
     "execution_count": 56,
     "metadata": {},
     "output_type": "execute_result"
    }
   ],
   "source": [
    "b"
   ]
  },
  {
   "cell_type": "code",
   "execution_count": 57,
   "id": "b1701f77",
   "metadata": {},
   "outputs": [
    {
     "data": {
      "text/plain": [
       "\"sifj'lsdfil\""
      ]
     },
     "execution_count": 57,
     "metadata": {},
     "output_type": "execute_result"
    }
   ],
   "source": [
    "'''sifj'lsdfil'''"
   ]
  },
  {
   "cell_type": "code",
   "execution_count": 62,
   "id": "368e21fd",
   "metadata": {},
   "outputs": [],
   "source": [
    "abc = 'She said \"Hello, Python\"' # 안과 밖의 따옴표가 구분이 된다."
   ]
  },
  {
   "cell_type": "code",
   "execution_count": 59,
   "id": "f0abaea5",
   "metadata": {},
   "outputs": [
    {
     "data": {
      "text/plain": [
       "'She said \"Hello, Python\"'"
      ]
     },
     "execution_count": 59,
     "metadata": {},
     "output_type": "execute_result"
    }
   ],
   "source": [
    "abc"
   ]
  },
  {
   "cell_type": "code",
   "execution_count": 60,
   "id": "d143cd79",
   "metadata": {},
   "outputs": [],
   "source": [
    "abcd = \"Python isn't difficult\" # 안과 밖의 따옴표가 구분이 된다."
   ]
  },
  {
   "cell_type": "code",
   "execution_count": 61,
   "id": "750e7443",
   "metadata": {},
   "outputs": [
    {
     "data": {
      "text/plain": [
       "\"Python isn't difficult\""
      ]
     },
     "execution_count": 61,
     "metadata": {},
     "output_type": "execute_result"
    }
   ],
   "source": [
    "abcd"
   ]
  },
  {
   "cell_type": "code",
   "execution_count": 64,
   "id": "cc42eac1",
   "metadata": {},
   "outputs": [
    {
     "ename": "SyntaxError",
     "evalue": "invalid syntax (3457329495.py, line 1)",
     "output_type": "error",
     "traceback": [
      "\u001b[1;36m  Input \u001b[1;32mIn [64]\u001b[1;36m\u001b[0m\n\u001b[1;33m    'Python isn't difficult' # 따옴표 구분이 되지 않는다.\u001b[0m\n\u001b[1;37m                ^\u001b[0m\n\u001b[1;31mSyntaxError\u001b[0m\u001b[1;31m:\u001b[0m invalid syntax\n"
     ]
    }
   ],
   "source": [
    "'Python isn't difficult' # 따옴표 구분이 되지 않는다."
   ]
  },
  {
   "cell_type": "code",
   "execution_count": 65,
   "id": "27bd608a",
   "metadata": {},
   "outputs": [
    {
     "data": {
      "text/plain": [
       "'ㅁㄴㅇㅇㄹㅇ'"
      ]
     },
     "execution_count": 65,
     "metadata": {},
     "output_type": "execute_result"
    }
   ],
   "source": [
    "\"\"\"ㅁㅇㄹㄴㅇㄹㅇㅇㄴ\"\"\"\n",
    "'''ㅁㄴㅇㅇㄹㅇ'''"
   ]
  },
  {
   "cell_type": "markdown",
   "id": "a2b062fe",
   "metadata": {},
   "source": [
    "## 리스트와 튜플\n",
    "- 리스트와 튜플은 주머니의 개념이고, 둘은 크게 다른 점이 있다."
   ]
  },
  {
   "cell_type": "code",
   "execution_count": 66,
   "id": "b58f6e4b",
   "metadata": {},
   "outputs": [
    {
     "data": {
      "text/plain": [
       "2"
      ]
     },
     "execution_count": 66,
     "metadata": {},
     "output_type": "execute_result"
    }
   ],
   "source": [
    "1+1"
   ]
  },
  {
   "cell_type": "code",
   "execution_count": 67,
   "id": "0b463141",
   "metadata": {},
   "outputs": [
    {
     "data": {
      "text/plain": [
       "(1, 2, 3, 4, 5, 6, 1000)"
      ]
     },
     "execution_count": 67,
     "metadata": {},
     "output_type": "execute_result"
    }
   ],
   "source": [
    "1,2,3,4,5,6,---- 1000"
   ]
  },
  {
   "cell_type": "markdown",
   "id": "3cd4f73a",
   "metadata": {},
   "source": [
    "### 리스트 = [1,2,3,...~]\n",
    "- 도라에몽주머니\n",
    "- 문자열, 정수, 실수, 불, 다 들어간다."
   ]
  },
  {
   "cell_type": "markdown",
   "id": "63a02ce5",
   "metadata": {},
   "source": [
    "리스트를 만드는 법\n",
    "\n",
    "a = []\n",
    "\n",
    "a = list()"
   ]
  },
  {
   "cell_type": "code",
   "execution_count": 70,
   "id": "7bd807ee",
   "metadata": {},
   "outputs": [],
   "source": [
    "a = [1,2,3,4,5]"
   ]
  },
  {
   "cell_type": "code",
   "execution_count": 71,
   "id": "45712556",
   "metadata": {},
   "outputs": [],
   "source": [
    "a = ['a', 123, 1.0, True]"
   ]
  },
  {
   "cell_type": "code",
   "execution_count": 72,
   "id": "7e47d41c",
   "metadata": {},
   "outputs": [
    {
     "data": {
      "text/plain": [
       "['a', 123, 1.0, True]"
      ]
     },
     "execution_count": 72,
     "metadata": {},
     "output_type": "execute_result"
    }
   ],
   "source": [
    "a"
   ]
  },
  {
   "cell_type": "code",
   "execution_count": 73,
   "id": "637dc8ed",
   "metadata": {},
   "outputs": [],
   "source": [
    "a = []"
   ]
  },
  {
   "cell_type": "code",
   "execution_count": 74,
   "id": "b0e75bce",
   "metadata": {},
   "outputs": [
    {
     "data": {
      "text/plain": [
       "[]"
      ]
     },
     "execution_count": 74,
     "metadata": {},
     "output_type": "execute_result"
    }
   ],
   "source": [
    "a"
   ]
  },
  {
   "cell_type": "code",
   "execution_count": 75,
   "id": "553a7d94",
   "metadata": {},
   "outputs": [],
   "source": [
    "b = list()"
   ]
  },
  {
   "cell_type": "code",
   "execution_count": 76,
   "id": "74f3d38c",
   "metadata": {},
   "outputs": [
    {
     "data": {
      "text/plain": [
       "[]"
      ]
     },
     "execution_count": 76,
     "metadata": {},
     "output_type": "execute_result"
    }
   ],
   "source": [
    "b"
   ]
  },
  {
   "cell_type": "code",
   "execution_count": 77,
   "id": "eb1415a7",
   "metadata": {},
   "outputs": [],
   "source": [
    "b = ['a', True, 1.0]"
   ]
  },
  {
   "cell_type": "code",
   "execution_count": 78,
   "id": "d9540c7e",
   "metadata": {},
   "outputs": [
    {
     "data": {
      "text/plain": [
       "['a', True, 1.0]"
      ]
     },
     "execution_count": 78,
     "metadata": {},
     "output_type": "execute_result"
    }
   ],
   "source": [
    "b"
   ]
  },
  {
   "cell_type": "markdown",
   "id": "cb88c41a",
   "metadata": {},
   "source": [
    "### range 함수\n",
    "- 연속된 숫자를 지정해서 만들 수 있다."
   ]
  },
  {
   "cell_type": "code",
   "execution_count": 79,
   "id": "fd456299",
   "metadata": {},
   "outputs": [
    {
     "data": {
      "text/plain": [
       "range(0, 100)"
      ]
     },
     "execution_count": 79,
     "metadata": {},
     "output_type": "execute_result"
    }
   ],
   "source": [
    "range(100)"
   ]
  },
  {
   "cell_type": "code",
   "execution_count": 80,
   "id": "9702a81c",
   "metadata": {},
   "outputs": [
    {
     "data": {
      "text/plain": [
       "[0, 1, 2, 3, 4, 5, 6, 7, 8, 9, 10, 11, 12, 13, 14, 15, 16, 17, 18, 19]"
      ]
     },
     "execution_count": 80,
     "metadata": {},
     "output_type": "execute_result"
    }
   ],
   "source": [
    "list(range(20))"
   ]
  },
  {
   "cell_type": "code",
   "execution_count": 82,
   "id": "84c979c2",
   "metadata": {},
   "outputs": [
    {
     "data": {
      "text/plain": [
       "[0, 1, 2, 3, 4, 5, 6, 7, 8, 9, 10, 11, 12, 13, 14, 15, 16, 17, 18, 19]"
      ]
     },
     "execution_count": 82,
     "metadata": {},
     "output_type": "execute_result"
    }
   ],
   "source": [
    "df = list(range(20))\n",
    "df"
   ]
  },
  {
   "cell_type": "code",
   "execution_count": 83,
   "id": "2ea002c7",
   "metadata": {},
   "outputs": [
    {
     "data": {
      "text/plain": [
       "[0, 1, 2, 3, 4, 5, 6]"
      ]
     },
     "execution_count": 83,
     "metadata": {},
     "output_type": "execute_result"
    }
   ],
   "source": [
    "df = list(range(7))\n",
    "df"
   ]
  },
  {
   "cell_type": "markdown",
   "id": "1667d372",
   "metadata": {},
   "source": [
    "#### 리스트 = list(range(시작,끝))"
   ]
  },
  {
   "cell_type": "code",
   "execution_count": 84,
   "id": "ab588ce7",
   "metadata": {},
   "outputs": [],
   "source": [
    "df = list(range(1,11)) # df(dataframe)는 그냥 변수명"
   ]
  },
  {
   "cell_type": "code",
   "execution_count": 85,
   "id": "f4b8610f",
   "metadata": {},
   "outputs": [
    {
     "data": {
      "text/plain": [
       "[1, 2, 3, 4, 5, 6, 7, 8, 9, 10]"
      ]
     },
     "execution_count": 85,
     "metadata": {},
     "output_type": "execute_result"
    }
   ],
   "source": [
    "df"
   ]
  },
  {
   "cell_type": "code",
   "execution_count": 89,
   "id": "b58f53fa",
   "metadata": {},
   "outputs": [],
   "source": [
    "df = list(range(5,22)) # range(x,y) 에서 x 이상 y 미만인 값을 출력"
   ]
  },
  {
   "cell_type": "code",
   "execution_count": 87,
   "id": "ced0322e",
   "metadata": {},
   "outputs": [
    {
     "data": {
      "text/plain": [
       "[5, 6, 7, 8, 9, 10, 11, 12, 13, 14, 15, 16, 17, 18, 19, 20, 21]"
      ]
     },
     "execution_count": 87,
     "metadata": {},
     "output_type": "execute_result"
    }
   ],
   "source": [
    "df"
   ]
  },
  {
   "cell_type": "markdown",
   "id": "13527656",
   "metadata": {},
   "source": [
    "#### 리스트 = list(range(시작, 끝, 증가폭))"
   ]
  },
  {
   "cell_type": "code",
   "execution_count": 90,
   "id": "f6e54295",
   "metadata": {},
   "outputs": [],
   "source": [
    "a = list(range(1,11,2))"
   ]
  },
  {
   "cell_type": "code",
   "execution_count": 91,
   "id": "a999c7ef",
   "metadata": {},
   "outputs": [
    {
     "data": {
      "text/plain": [
       "[1, 3, 5, 7, 9]"
      ]
     },
     "execution_count": 91,
     "metadata": {},
     "output_type": "execute_result"
    }
   ],
   "source": [
    "a"
   ]
  },
  {
   "cell_type": "code",
   "execution_count": 92,
   "id": "48f8edc8",
   "metadata": {},
   "outputs": [],
   "source": [
    "a = list(range(1,101,2)) # 홀수만 출력"
   ]
  },
  {
   "cell_type": "code",
   "execution_count": 93,
   "id": "4e83031e",
   "metadata": {},
   "outputs": [
    {
     "data": {
      "text/plain": [
       "[1,\n",
       " 3,\n",
       " 5,\n",
       " 7,\n",
       " 9,\n",
       " 11,\n",
       " 13,\n",
       " 15,\n",
       " 17,\n",
       " 19,\n",
       " 21,\n",
       " 23,\n",
       " 25,\n",
       " 27,\n",
       " 29,\n",
       " 31,\n",
       " 33,\n",
       " 35,\n",
       " 37,\n",
       " 39,\n",
       " 41,\n",
       " 43,\n",
       " 45,\n",
       " 47,\n",
       " 49,\n",
       " 51,\n",
       " 53,\n",
       " 55,\n",
       " 57,\n",
       " 59,\n",
       " 61,\n",
       " 63,\n",
       " 65,\n",
       " 67,\n",
       " 69,\n",
       " 71,\n",
       " 73,\n",
       " 75,\n",
       " 77,\n",
       " 79,\n",
       " 81,\n",
       " 83,\n",
       " 85,\n",
       " 87,\n",
       " 89,\n",
       " 91,\n",
       " 93,\n",
       " 95,\n",
       " 97,\n",
       " 99]"
      ]
     },
     "execution_count": 93,
     "metadata": {},
     "output_type": "execute_result"
    }
   ],
   "source": [
    "a"
   ]
  },
  {
   "cell_type": "code",
   "execution_count": 94,
   "id": "bf08c72e",
   "metadata": {},
   "outputs": [
    {
     "name": "stdout",
     "output_type": "stream",
     "text": [
      "[1, 3, 5, 7, 9, 11, 13, 15, 17, 19, 21, 23, 25, 27, 29, 31, 33, 35, 37, 39, 41, 43, 45, 47, 49, 51, 53, 55, 57, 59, 61, 63, 65, 67, 69, 71, 73, 75, 77, 79, 81, 83, 85, 87, 89, 91, 93, 95, 97, 99] "
     ]
    }
   ],
   "source": [
    "a = list(range(1,101,2)) # 홀수만 출력\n",
    "print(a, end=\" \")"
   ]
  },
  {
   "cell_type": "markdown",
   "id": "e3fc0c36",
   "metadata": {},
   "source": [
    "### 튜플\n",
    "- ()\n",
    "- 리스트처럼 일렬로 저장을 하지만, 안에 저장된 요소를변경, 추가, 삭제할 수 없다.\n",
    "\n",
    "튜플 = (값,값,값...)\n",
    "\n",
    "튜플 = 값,값,값..."
   ]
  },
  {
   "cell_type": "code",
   "execution_count": 95,
   "id": "fe99a47d",
   "metadata": {},
   "outputs": [
    {
     "data": {
      "text/plain": [
       "(1, 2, 3, 4, 5)"
      ]
     },
     "execution_count": 95,
     "metadata": {},
     "output_type": "execute_result"
    }
   ],
   "source": [
    "1,2,3,4,5"
   ]
  },
  {
   "cell_type": "code",
   "execution_count": 96,
   "id": "d170627c",
   "metadata": {},
   "outputs": [],
   "source": [
    "a = (1,2,3,4,5)"
   ]
  },
  {
   "cell_type": "code",
   "execution_count": 97,
   "id": "52c5d785",
   "metadata": {},
   "outputs": [],
   "source": [
    "a = ('1', 1.0, '안녕', True, 21)"
   ]
  },
  {
   "cell_type": "code",
   "execution_count": 98,
   "id": "3361f0e7",
   "metadata": {},
   "outputs": [
    {
     "data": {
      "text/plain": [
       "('1', 1.0, '안녕', True, 21)"
      ]
     },
     "execution_count": 98,
     "metadata": {},
     "output_type": "execute_result"
    }
   ],
   "source": [
    "a"
   ]
  }
 ],
 "metadata": {
  "kernelspec": {
   "display_name": "Python 3 (ipykernel)",
   "language": "python",
   "name": "python3"
  },
  "language_info": {
   "codemirror_mode": {
    "name": "ipython",
    "version": 3
   },
   "file_extension": ".py",
   "mimetype": "text/x-python",
   "name": "python",
   "nbconvert_exporter": "python",
   "pygments_lexer": "ipython3",
   "version": "3.9.12"
  }
 },
 "nbformat": 4,
 "nbformat_minor": 5
}
