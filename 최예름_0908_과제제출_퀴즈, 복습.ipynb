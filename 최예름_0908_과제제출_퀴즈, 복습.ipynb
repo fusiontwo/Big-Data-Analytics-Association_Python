{
 "cells": [
  {
   "cell_type": "markdown",
   "id": "98a21011",
   "metadata": {},
   "source": [
    "Quiz 1.\n",
    "유저에게 학점을 입력받고\n",
    "4.5 A+, 4.0 A, 3.5 B+, 3.0 B, 2.5 C+, 2.0 C, 1.0 D,\n",
    "그외 점수는 '정신 차리세요!'\n",
    "해당 점수를 입력하면 아래 학점이 나오는 조건문 코딩을 만들어 주세요!"
   ]
  },
  {
   "cell_type": "code",
   "execution_count": 63,
   "id": "e2fe586b",
   "metadata": {},
   "outputs": [
    {
     "name": "stdout",
     "output_type": "stream",
     "text": [
      "학점을 입력하세요: 4.0\n",
      "A 등급입니다.\n"
     ]
    }
   ],
   "source": [
    "grade1 = float(input(\"학점을 입력하세요: \"))\n",
    "if grade1 == 4.5 :\n",
    "    print(\"A+ 등급입니다.\")\n",
    "elif grade1 == 4.0 :\n",
    "    print(\"A 등급입니다.\")\n",
    "elif grade1 == 3.5 :\n",
    "    print(\"B+ 등급입니다.\")\n",
    "elif grade1 == 3.0 :\n",
    "    print(\"B 등급입니다.\")\n",
    "elif grade1 == 2.5 :\n",
    "    print(\"C+ 등급입니다.\")\n",
    "elif grade1 == 2.0 :\n",
    "    print(\"C 등급입니다.\")\n",
    "elif grade1 == 1.0 :\n",
    "    print(\"D 등급입니다.\")\n",
    "else:\n",
    "    print(\"'정신 차리세요!'\")"
   ]
  },
  {
   "cell_type": "markdown",
   "id": "b6bf0d9c",
   "metadata": {},
   "source": [
    "### 딕셔너리\n",
    "\n",
    "1. {} 중괄호!\n",
    "2. key : value (키 : 값)\n",
    "3. 4기 문법 기초반: 본인 이름\n",
    "4. 내구성 : 12  공격치 : 131"
   ]
  },
  {
   "cell_type": "code",
   "execution_count": 1,
   "id": "39825fbc",
   "metadata": {},
   "outputs": [],
   "source": [
    "a = [1,2,3,4,5]"
   ]
  },
  {
   "cell_type": "code",
   "execution_count": 2,
   "id": "c6dceb14",
   "metadata": {},
   "outputs": [
    {
     "data": {
      "text/plain": [
       "[1, 2, 3, 4, 5]"
      ]
     },
     "execution_count": 2,
     "metadata": {},
     "output_type": "execute_result"
    }
   ],
   "source": [
    "a"
   ]
  },
  {
   "cell_type": "code",
   "execution_count": 3,
   "id": "4287b33a",
   "metadata": {},
   "outputs": [],
   "source": [
    "a = {'이름':'Jun', '성별':'남자', '사는곳':'서울'}"
   ]
  },
  {
   "cell_type": "code",
   "execution_count": 4,
   "id": "f1ce4c84",
   "metadata": {},
   "outputs": [
    {
     "data": {
      "text/plain": [
       "{'이름': 'Jun', '성별': '남자', '사는곳': '서울'}"
      ]
     },
     "execution_count": 4,
     "metadata": {},
     "output_type": "execute_result"
    }
   ],
   "source": [
    "a"
   ]
  },
  {
   "cell_type": "code",
   "execution_count": 5,
   "id": "fa7a4dfe",
   "metadata": {},
   "outputs": [],
   "source": [
    "a = {'이름':'Jun', '이름':'안녕?', '성별':'남자', '사는곳':'서울'}"
   ]
  },
  {
   "cell_type": "code",
   "execution_count": 6,
   "id": "1e318ae8",
   "metadata": {},
   "outputs": [
    {
     "data": {
      "text/plain": [
       "{'이름': '안녕?', '성별': '남자', '사는곳': '서울'}"
      ]
     },
     "execution_count": 6,
     "metadata": {},
     "output_type": "execute_result"
    }
   ],
   "source": [
    "a # 가장 늦게 들어온 값을 반환한다."
   ]
  },
  {
   "cell_type": "markdown",
   "id": "3aaa0b3c",
   "metadata": {},
   "source": [
    "### 키의 자료형(key 값은 리스트의 장점인 정수, 실수, 불린이 모두 가능하다!)"
   ]
  },
  {
   "cell_type": "code",
   "execution_count": 7,
   "id": "129a7793",
   "metadata": {},
   "outputs": [],
   "source": [
    "a = {1:'jun', 1.5:'hi', True:'바보'}"
   ]
  },
  {
   "cell_type": "code",
   "execution_count": 8,
   "id": "7c240d02",
   "metadata": {},
   "outputs": [
    {
     "data": {
      "text/plain": [
       "{1: '바보', 1.5: 'hi'}"
      ]
     },
     "execution_count": 8,
     "metadata": {},
     "output_type": "execute_result"
    }
   ],
   "source": [
    "a"
   ]
  },
  {
   "cell_type": "markdown",
   "id": "f3294225",
   "metadata": {},
   "source": [
    "### 딕셔너리를 만들어야 하는 경우!\n",
    "\n",
    "- 딕셔너리 = {}\n",
    "- 딕셔너리 = dict()"
   ]
  },
  {
   "cell_type": "markdown",
   "id": "3513c09c",
   "metadata": {},
   "source": [
    "### 딕셔너리는 키와 값으로 구성\n",
    "- a = dict(키1=값1, 키2=값2)\n",
    "- a = dict(zip([키1,키2],[값1,값2]))\n",
    "- a = dict([(키1,값1),(키2,값2)])\n",
    "- a = dict({키1:값1,키2:값2})"
   ]
  },
  {
   "cell_type": "code",
   "execution_count": 9,
   "id": "b6bc165f",
   "metadata": {},
   "outputs": [],
   "source": [
    "c = dict(zip(['여러분','안녕하세요'],[1,2]))"
   ]
  },
  {
   "cell_type": "code",
   "execution_count": 10,
   "id": "06608c94",
   "metadata": {},
   "outputs": [
    {
     "data": {
      "text/plain": [
       "{'여러분': 1, '안녕하세요': 2}"
      ]
     },
     "execution_count": 10,
     "metadata": {},
     "output_type": "execute_result"
    }
   ],
   "source": [
    "c"
   ]
  },
  {
   "cell_type": "code",
   "execution_count": 11,
   "id": "5889ceb2",
   "metadata": {},
   "outputs": [],
   "source": [
    "a = dict(a='안녕', b='바보')"
   ]
  },
  {
   "cell_type": "code",
   "execution_count": 12,
   "id": "5cef3146",
   "metadata": {},
   "outputs": [
    {
     "data": {
      "text/plain": [
       "{'a': '안녕', 'b': '바보'}"
      ]
     },
     "execution_count": 12,
     "metadata": {},
     "output_type": "execute_result"
    }
   ],
   "source": [
    "a"
   ]
  },
  {
   "cell_type": "markdown",
   "id": "96ed4919",
   "metadata": {},
   "source": [
    "### 딕셔너리에 접근하는 방법!\n",
    "- 딕셔너리[키]"
   ]
  },
  {
   "cell_type": "code",
   "execution_count": 13,
   "id": "8fbe7a2f",
   "metadata": {},
   "outputs": [],
   "source": [
    "a=[1,2,3,4]"
   ]
  },
  {
   "cell_type": "code",
   "execution_count": 14,
   "id": "2a654fc8",
   "metadata": {},
   "outputs": [
    {
     "data": {
      "text/plain": [
       "[1, 2, 3, 4]"
      ]
     },
     "execution_count": 14,
     "metadata": {},
     "output_type": "execute_result"
    }
   ],
   "source": [
    "a"
   ]
  },
  {
   "cell_type": "code",
   "execution_count": 15,
   "id": "6c6856e2",
   "metadata": {},
   "outputs": [],
   "source": [
    "a = dict(a='안녕', b='바보')  # 변수를 넣을 때 문자열 즉, '',\"\" 그대로 넣는다!"
   ]
  },
  {
   "cell_type": "code",
   "execution_count": 16,
   "id": "30710e15",
   "metadata": {},
   "outputs": [
    {
     "data": {
      "text/plain": [
       "'바보'"
      ]
     },
     "execution_count": 16,
     "metadata": {},
     "output_type": "execute_result"
    }
   ],
   "source": [
    "a['b']"
   ]
  },
  {
   "cell_type": "code",
   "execution_count": 17,
   "id": "d60b6fec",
   "metadata": {},
   "outputs": [
    {
     "data": {
      "text/plain": [
       "'안녕'"
      ]
     },
     "execution_count": 17,
     "metadata": {},
     "output_type": "execute_result"
    }
   ],
   "source": [
    "a['a']"
   ]
  },
  {
   "cell_type": "code",
   "execution_count": 18,
   "id": "6cc5ec75",
   "metadata": {},
   "outputs": [],
   "source": [
    "a = dict(zip(['여러분','안녕하세요'],[1,2]))"
   ]
  },
  {
   "cell_type": "code",
   "execution_count": 19,
   "id": "5fbe29f9",
   "metadata": {},
   "outputs": [
    {
     "data": {
      "text/plain": [
       "{'여러분': 1, '안녕하세요': 2}"
      ]
     },
     "execution_count": 19,
     "metadata": {},
     "output_type": "execute_result"
    }
   ],
   "source": [
    "a"
   ]
  },
  {
   "cell_type": "markdown",
   "id": "f50e3f94",
   "metadata": {},
   "source": [
    "### 딕셔너리에 대해서 값을 할당"
   ]
  },
  {
   "cell_type": "code",
   "execution_count": 21,
   "id": "ac85a7a0",
   "metadata": {},
   "outputs": [],
   "source": [
    "a=[1,2,3,4,5] # 리스트"
   ]
  },
  {
   "cell_type": "code",
   "execution_count": 22,
   "id": "bd5f8e88",
   "metadata": {},
   "outputs": [
    {
     "data": {
      "text/plain": [
       "[1, 2, 3, 4, 5]"
      ]
     },
     "execution_count": 22,
     "metadata": {},
     "output_type": "execute_result"
    }
   ],
   "source": [
    "a"
   ]
  },
  {
   "cell_type": "code",
   "execution_count": 23,
   "id": "cfdc323e",
   "metadata": {},
   "outputs": [],
   "source": [
    "a[0] = 100"
   ]
  },
  {
   "cell_type": "code",
   "execution_count": 24,
   "id": "ac78c4c1",
   "metadata": {},
   "outputs": [
    {
     "data": {
      "text/plain": [
       "[100, 2, 3, 4, 5]"
      ]
     },
     "execution_count": 24,
     "metadata": {},
     "output_type": "execute_result"
    }
   ],
   "source": [
    "a"
   ]
  },
  {
   "cell_type": "markdown",
   "id": "9f303490",
   "metadata": {},
   "source": [
    "### 딕셔너리에 키가 있는지 확인!"
   ]
  },
  {
   "cell_type": "code",
   "execution_count": 28,
   "id": "e21b5a68",
   "metadata": {},
   "outputs": [
    {
     "data": {
      "text/plain": [
       "True"
      ]
     },
     "execution_count": 28,
     "metadata": {},
     "output_type": "execute_result"
    }
   ],
   "source": [
    "'사람3' not in a # 키 값이 있는지 확인!"
   ]
  },
  {
   "cell_type": "code",
   "execution_count": 29,
   "id": "1a07968b",
   "metadata": {},
   "outputs": [
    {
     "data": {
      "text/plain": [
       "[100, 2, 3, 4, 5]"
      ]
     },
     "execution_count": 29,
     "metadata": {},
     "output_type": "execute_result"
    }
   ],
   "source": [
    "a"
   ]
  },
  {
   "cell_type": "markdown",
   "id": "1ba60119",
   "metadata": {},
   "source": [
    "### 조건문 - if문\n",
    "- 비가 오면(조건식)\n",
    "- 우산을 가지고 나가라!(출력문)\n",
    "\n",
    "\n",
    "- if 비가 오면:\n",
    "- print('우산을 가지고 나가라!')\n",
    "\n",
    "\n",
    "- 간단한 조건 예시로 출력을 해보자!"
   ]
  },
  {
   "cell_type": "code",
   "execution_count": 37,
   "id": "4844b9a3",
   "metadata": {},
   "outputs": [],
   "source": [
    "x = 200"
   ]
  },
  {
   "cell_type": "code",
   "execution_count": 38,
   "id": "1ea5ecae",
   "metadata": {},
   "outputs": [
    {
     "data": {
      "text/plain": [
       "200"
      ]
     },
     "execution_count": 38,
     "metadata": {},
     "output_type": "execute_result"
    }
   ],
   "source": [
    "x"
   ]
  },
  {
   "cell_type": "code",
   "execution_count": 42,
   "id": "ddd70ebc",
   "metadata": {},
   "outputs": [],
   "source": [
    "x = 100"
   ]
  },
  {
   "cell_type": "code",
   "execution_count": 43,
   "id": "4c5bd26c",
   "metadata": {},
   "outputs": [
    {
     "data": {
      "text/plain": [
       "100"
      ]
     },
     "execution_count": 43,
     "metadata": {},
     "output_type": "execute_result"
    }
   ],
   "source": [
    "x"
   ]
  },
  {
   "cell_type": "markdown",
   "id": "63f05409",
   "metadata": {},
   "source": [
    "- 만약 x가 100이라면\n",
    "- 100이다!\n",
    "- if x == 100:\n",
    "        print('100이다!')"
   ]
  },
  {
   "cell_type": "code",
   "execution_count": 44,
   "id": "0fcf6c3a",
   "metadata": {},
   "outputs": [
    {
     "name": "stdout",
     "output_type": "stream",
     "text": [
      "100입니다!\n"
     ]
    }
   ],
   "source": [
    "if x == 100:\n",
    "    print('100입니다!')"
   ]
  },
  {
   "cell_type": "markdown",
   "id": "132fb40e",
   "metadata": {},
   "source": [
    "### 조건문을 만드는 문법(공식)\n",
    "if 조건식:\n",
    "\n",
    "(들여쓰기)코드"
   ]
  },
  {
   "cell_type": "code",
   "execution_count": 45,
   "id": "4f338269",
   "metadata": {},
   "outputs": [
    {
     "name": "stdout",
     "output_type": "stream",
     "text": [
      "100입니다!\n"
     ]
    }
   ],
   "source": [
    "if x == 100:\n",
    "    print('100입니다!')"
   ]
  },
  {
   "cell_type": "markdown",
   "id": "63e4c631",
   "metadata": {},
   "source": [
    "- 들여쓰기\n",
    "- 스페이스바 4번\n",
    "- 탭 1번"
   ]
  },
  {
   "cell_type": "code",
   "execution_count": 46,
   "id": "b90518b4",
   "metadata": {},
   "outputs": [],
   "source": [
    "a = '사과'"
   ]
  },
  {
   "cell_type": "code",
   "execution_count": 47,
   "id": "f8eb7a95",
   "metadata": {},
   "outputs": [
    {
     "data": {
      "text/plain": [
       "'사과'"
      ]
     },
     "execution_count": 47,
     "metadata": {},
     "output_type": "execute_result"
    }
   ],
   "source": [
    "a"
   ]
  },
  {
   "cell_type": "code",
   "execution_count": 48,
   "id": "01048863",
   "metadata": {},
   "outputs": [
    {
     "name": "stdout",
     "output_type": "stream",
     "text": [
      "사과입니다!\n"
     ]
    }
   ],
   "source": [
    "if a == '사과':\n",
    "    print('사과입니다!')"
   ]
  },
  {
   "cell_type": "markdown",
   "id": "d055258f",
   "metadata": {},
   "source": [
    "### 중첩 if문\n",
    "- if문을 두 번 이상 사용하는 경우!"
   ]
  },
  {
   "cell_type": "code",
   "execution_count": 49,
   "id": "fd575454",
   "metadata": {},
   "outputs": [
    {
     "name": "stdout",
     "output_type": "stream",
     "text": [
      "10입니다.\n",
      "10이 맞습니다!\n"
     ]
    }
   ],
   "source": [
    "x = 10\n",
    "\n",
    "if x == 10:\n",
    "    print('10입니다.')\n",
    "    if x == 10:\n",
    "        print('10이 맞습니다!')"
   ]
  },
  {
   "cell_type": "code",
   "execution_count": 50,
   "id": "fdbc6c80",
   "metadata": {},
   "outputs": [
    {
     "name": "stdout",
     "output_type": "stream",
     "text": [
      "10입니다.\n"
     ]
    }
   ],
   "source": [
    "x = 10\n",
    "\n",
    "if x >= 10:\n",
    "    print('10입니다.')\n",
    "if x == 15:\n",
    "    print('15가 맞습니다!')"
   ]
  },
  {
   "cell_type": "code",
   "execution_count": 51,
   "id": "e76d8bef",
   "metadata": {},
   "outputs": [
    {
     "name": "stdout",
     "output_type": "stream",
     "text": [
      "10 이상입니다.\n",
      "15가 맞습니다!\n"
     ]
    }
   ],
   "source": [
    "x = 15\n",
    "\n",
    "if x >= 10:\n",
    "    print('10 이상입니다.')\n",
    "if x == 15:\n",
    "    print('15가 맞습니다!')"
   ]
  },
  {
   "cell_type": "code",
   "execution_count": 53,
   "id": "1c238493",
   "metadata": {},
   "outputs": [],
   "source": [
    "x = 9\n",
    "\n",
    "if x >= 10:  # 거짓 False\n",
    "    print('10 이상입니다.')\n",
    "    if x == 9:\n",
    "        print('9가 맞습니다!')"
   ]
  },
  {
   "cell_type": "code",
   "execution_count": 54,
   "id": "010b48e6",
   "metadata": {},
   "outputs": [
    {
     "name": "stdout",
     "output_type": "stream",
     "text": [
      "9가 맞습니다!\n"
     ]
    }
   ],
   "source": [
    "if x >= 10:\n",
    "    print('10 이상입니다.')\n",
    "if x == 9:\n",
    "    print('9가 맞습니다!')"
   ]
  }
 ],
 "metadata": {
  "kernelspec": {
   "display_name": "Python 3 (ipykernel)",
   "language": "python",
   "name": "python3"
  },
  "language_info": {
   "codemirror_mode": {
    "name": "ipython",
    "version": 3
   },
   "file_extension": ".py",
   "mimetype": "text/x-python",
   "name": "python",
   "nbconvert_exporter": "python",
   "pygments_lexer": "ipython3",
   "version": "3.9.12"
  }
 },
 "nbformat": 4,
 "nbformat_minor": 5
}
