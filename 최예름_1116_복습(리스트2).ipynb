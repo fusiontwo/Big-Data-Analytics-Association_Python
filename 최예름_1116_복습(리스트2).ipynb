{
 "cells": [
  {
   "cell_type": "markdown",
   "id": "2e952d36",
   "metadata": {},
   "source": [
    "### 리스트로 다양한 상황에서 문제를 해결하는 방법"
   ]
  },
  {
   "cell_type": "code",
   "execution_count": 1,
   "id": "c8ebdd34",
   "metadata": {},
   "outputs": [],
   "source": [
    "a = [11,25,27,29,58,56]"
   ]
  },
  {
   "cell_type": "markdown",
   "id": "68110179",
   "metadata": {},
   "source": [
    "### 반복문을 이용해서 가장 작은 수와 가장 큰 수를 찾는 방법"
   ]
  },
  {
   "cell_type": "code",
   "execution_count": 2,
   "id": "93b416de",
   "metadata": {},
   "outputs": [
    {
     "name": "stdout",
     "output_type": "stream",
     "text": [
      "58\n"
     ]
    }
   ],
   "source": [
    "a = [11,25,27,29,58,56]\n",
    "max = 0\n",
    "for i in a:\n",
    "    if max < i:\n",
    "        max = i\n",
    "print(max)"
   ]
  },
  {
   "cell_type": "code",
   "execution_count": 3,
   "id": "6cc4ec6d",
   "metadata": {},
   "outputs": [
    {
     "name": "stdout",
     "output_type": "stream",
     "text": [
      "11\n",
      "58\n"
     ]
    }
   ],
   "source": [
    "# 모범 답안 예시\n",
    "a = [11,25,27,29,58,56]\n",
    "\n",
    "min = a[0]\n",
    "for i in range(len(a)):\n",
    "    if min > a[i]:\n",
    "        min = a[i]\n",
    "print(min)\n",
    "\n",
    "max = a[0]\n",
    "for i in range(len(a)):\n",
    "    if max < a[i]:\n",
    "        max = a[i]\n",
    "print(max)"
   ]
  },
  {
   "cell_type": "markdown",
   "id": "625b23a5",
   "metadata": {},
   "source": [
    "- 단순히 리스트 a가 있을 때, min(a), max(a)를 사용해도 된다."
   ]
  },
  {
   "cell_type": "markdown",
   "id": "08e72694",
   "metadata": {},
   "source": [
    "### 리스트 표현식\n",
    "- 리스트 컴프리헨션(list comprehension)\n",
    "- 리스트 안에 반복문을 간단하게 만들어서 사용할 수 있음\n",
    "- [식 for 변수 in 리스트]\n",
    "- list(식 for 변수 in 리스트)"
   ]
  },
  {
   "cell_type": "code",
   "execution_count": 5,
   "id": "e8bab1f3",
   "metadata": {},
   "outputs": [
    {
     "name": "stdout",
     "output_type": "stream",
     "text": [
      "0\n",
      "1\n",
      "2\n",
      "3\n",
      "4\n",
      "5\n",
      "6\n",
      "7\n",
      "8\n",
      "9\n"
     ]
    }
   ],
   "source": [
    "for i in range(10):\n",
    "    print(i)"
   ]
  },
  {
   "cell_type": "code",
   "execution_count": 6,
   "id": "2bda35e3",
   "metadata": {},
   "outputs": [
    {
     "data": {
      "text/plain": [
       "[0, 1, 2, 3, 4, 5, 6, 7, 8, 9]"
      ]
     },
     "execution_count": 6,
     "metadata": {},
     "output_type": "execute_result"
    }
   ],
   "source": [
    "a = [i for i in range(10)]\n",
    "a"
   ]
  },
  {
   "cell_type": "code",
   "execution_count": 7,
   "id": "fe0ecbc7",
   "metadata": {},
   "outputs": [
    {
     "data": {
      "text/plain": [
       "[100, 101, 102, 103, 104, 105, 106, 107, 108, 109]"
      ]
     },
     "execution_count": 7,
     "metadata": {},
     "output_type": "execute_result"
    }
   ],
   "source": [
    "a = [i+100 for i in range(10)]\n",
    "a"
   ]
  },
  {
   "cell_type": "code",
   "execution_count": 8,
   "id": "91204d19",
   "metadata": {},
   "outputs": [
    {
     "data": {
      "text/plain": [
       "[0, 100, 200, 300, 400, 500, 600, 700, 800, 900]"
      ]
     },
     "execution_count": 8,
     "metadata": {},
     "output_type": "execute_result"
    }
   ],
   "source": [
    "a = [i*100 for i in range(10)]\n",
    "a"
   ]
  },
  {
   "cell_type": "code",
   "execution_count": 9,
   "id": "3746e20c",
   "metadata": {},
   "outputs": [
    {
     "data": {
      "text/plain": [
       "['',\n",
       " '과제를 꼭 해주세요. ',\n",
       " '과제를 꼭 해주세요. 과제를 꼭 해주세요. ',\n",
       " '과제를 꼭 해주세요. 과제를 꼭 해주세요. 과제를 꼭 해주세요. ']"
      ]
     },
     "execution_count": 9,
     "metadata": {},
     "output_type": "execute_result"
    }
   ],
   "source": [
    "a = [i*'과제를 꼭 해주세요. ' for i in range(4)]\n",
    "a"
   ]
  },
  {
   "cell_type": "markdown",
   "id": "3fd99359",
   "metadata": {},
   "source": [
    "### 리스트 표현식에서 if 조건문을 사용하는 법\n",
    "- [식 for 변수 in 리스트 if 조건식]\n",
    "- list(식 for 변수 in 리스트 if 조건식)"
   ]
  },
  {
   "cell_type": "code",
   "execution_count": 10,
   "id": "feca5551",
   "metadata": {},
   "outputs": [
    {
     "data": {
      "text/plain": [
       "[0, 1, 2, 3, 4, 5, 6, 7, 8, 9]"
      ]
     },
     "execution_count": 10,
     "metadata": {},
     "output_type": "execute_result"
    }
   ],
   "source": [
    "a = [i for i in range(10)]\n",
    "a"
   ]
  },
  {
   "cell_type": "code",
   "execution_count": 12,
   "id": "c56d129d",
   "metadata": {},
   "outputs": [
    {
     "data": {
      "text/plain": [
       "[0, 1, 2, 3, 4, 5, 6, 7, 8, 9]"
      ]
     },
     "execution_count": 12,
     "metadata": {},
     "output_type": "execute_result"
    }
   ],
   "source": [
    "# 조건문을 이용해서 리스트에 값을 넣기\n",
    "\n",
    "a = [i for i in range(10)]\n",
    "a"
   ]
  },
  {
   "cell_type": "code",
   "execution_count": 13,
   "id": "389fb28a",
   "metadata": {},
   "outputs": [
    {
     "data": {
      "text/plain": [
       "[0, 2, 4, 6, 8]"
      ]
     },
     "execution_count": 13,
     "metadata": {},
     "output_type": "execute_result"
    }
   ],
   "source": [
    "# 2의 배수를 넣어주세요!\n",
    "\n",
    "a = [i for i in range(10) if i%2 == 0]\n",
    "a"
   ]
  },
  {
   "cell_type": "markdown",
   "id": "8928d715",
   "metadata": {},
   "source": [
    "### for 반복문과 if 조건문이 여러 번 사용되는 경우\n",
    "-[식 for 변수 in 리스트1 if 조건식1 식 for 변수 in 리스트2 if 조건식2...n번째]"
   ]
  },
  {
   "cell_type": "markdown",
   "id": "53b7bd56",
   "metadata": {},
   "source": [
    "### 구구단 2~4까지 값이 출력되는 코드"
   ]
  },
  {
   "cell_type": "code",
   "execution_count": 14,
   "id": "9049b132",
   "metadata": {},
   "outputs": [
    {
     "name": "stdout",
     "output_type": "stream",
     "text": [
      "2\n",
      "4\n",
      "6\n",
      "8\n",
      "10\n",
      "12\n",
      "14\n",
      "16\n",
      "18\n",
      "3\n",
      "6\n",
      "9\n",
      "12\n",
      "15\n",
      "18\n",
      "21\n",
      "24\n",
      "27\n",
      "4\n",
      "8\n",
      "12\n",
      "16\n",
      "20\n",
      "24\n",
      "28\n",
      "32\n",
      "36\n"
     ]
    }
   ],
   "source": [
    "a = [(i+2)*(j+1) for i in range(3) for j in range(9)]\n",
    "for k in a:\n",
    "    print(k)"
   ]
  },
  {
   "cell_type": "code",
   "execution_count": 15,
   "id": "5e09f218",
   "metadata": {},
   "outputs": [
    {
     "data": {
      "text/plain": [
       "[2,\n",
       " 4,\n",
       " 6,\n",
       " 8,\n",
       " 10,\n",
       " 12,\n",
       " 14,\n",
       " 16,\n",
       " 18,\n",
       " 3,\n",
       " 6,\n",
       " 9,\n",
       " 12,\n",
       " 15,\n",
       " 18,\n",
       " 21,\n",
       " 24,\n",
       " 27,\n",
       " 4,\n",
       " 8,\n",
       " 12,\n",
       " 16,\n",
       " 20,\n",
       " 24,\n",
       " 28,\n",
       " 32,\n",
       " 36]"
      ]
     },
     "execution_count": 15,
     "metadata": {},
     "output_type": "execute_result"
    }
   ],
   "source": [
    "# 모범 답안\n",
    "a = [i*j for i in range(2,5) for j in range(1,10)]\n",
    "a"
   ]
  },
  {
   "cell_type": "markdown",
   "id": "52ce3cdc",
   "metadata": {},
   "source": [
    "### 리스트에 map을 사용하기\n",
    "map은 리스트의 요소를 지정된 함수로 처리해준다.\n",
    "- list(map(함수, 리스트))\n",
    "- tuple(map(함수, 튜플))"
   ]
  },
  {
   "cell_type": "code",
   "execution_count": 16,
   "id": "3eea3c64",
   "metadata": {},
   "outputs": [
    {
     "data": {
      "text/plain": [
       "[0, 1, 2, 3, 4, 5, 6, 7, 8, 9]"
      ]
     },
     "execution_count": 16,
     "metadata": {},
     "output_type": "execute_result"
    }
   ],
   "source": [
    "a = [i for i in range(10)]\n",
    "a"
   ]
  },
  {
   "cell_type": "code",
   "execution_count": 17,
   "id": "e8071e85",
   "metadata": {},
   "outputs": [
    {
     "data": {
      "text/plain": [
       "[1.2, 3.5, 10.8, 7.6]"
      ]
     },
     "execution_count": 17,
     "metadata": {},
     "output_type": "execute_result"
    }
   ],
   "source": [
    "a = [1.2, 3.5, 10.8, 7.6]\n",
    "a"
   ]
  },
  {
   "cell_type": "code",
   "execution_count": 18,
   "id": "d95ded49",
   "metadata": {},
   "outputs": [
    {
     "data": {
      "text/plain": [
       "[1, 3, 10, 7]"
      ]
     },
     "execution_count": 18,
     "metadata": {},
     "output_type": "execute_result"
    }
   ],
   "source": [
    "a = list(map(int,a))\n",
    "a"
   ]
  },
  {
   "cell_type": "code",
   "execution_count": 19,
   "id": "cb1f54b7",
   "metadata": {},
   "outputs": [
    {
     "data": {
      "text/plain": [
       "[1, 3, 10, 7]"
      ]
     },
     "execution_count": 19,
     "metadata": {},
     "output_type": "execute_result"
    }
   ],
   "source": [
    "list((map(int,a)))"
   ]
  },
  {
   "cell_type": "markdown",
   "id": "6546093f",
   "metadata": {},
   "source": [
    "### 2차원 리스트"
   ]
  },
  {
   "cell_type": "code",
   "execution_count": 20,
   "id": "d9f99df5",
   "metadata": {},
   "outputs": [
    {
     "data": {
      "text/plain": [
       "[1, 2, 3, 4, 5]"
      ]
     },
     "execution_count": 20,
     "metadata": {},
     "output_type": "execute_result"
    }
   ],
   "source": [
    "a = [1,2,3,4,5]\n",
    "a"
   ]
  },
  {
   "cell_type": "code",
   "execution_count": 21,
   "id": "c9869ba6",
   "metadata": {},
   "outputs": [],
   "source": [
    "# 2차원은 y축이 들어간 개념\n",
    "# x축 y축 개념은 행과 열\n",
    "# 차원을 표시할 때 []\n",
    "\n",
    "a = [1,2,3,4]\n",
    "b = [[1], [2], [3], [4]]"
   ]
  },
  {
   "cell_type": "code",
   "execution_count": 22,
   "id": "d2d082d7",
   "metadata": {},
   "outputs": [
    {
     "data": {
      "text/plain": [
       "[[1], [2], [3], [4]]"
      ]
     },
     "execution_count": 22,
     "metadata": {},
     "output_type": "execute_result"
    }
   ],
   "source": [
    "b  # 2차원"
   ]
  },
  {
   "cell_type": "code",
   "execution_count": 23,
   "id": "096a3a3e",
   "metadata": {},
   "outputs": [
    {
     "data": {
      "text/plain": [
       "[[[1], [2], [3], [4]]]"
      ]
     },
     "execution_count": 23,
     "metadata": {},
     "output_type": "execute_result"
    }
   ],
   "source": [
    "b = [[[1], [2], [3], [4]]]\n",
    "b  # 3차원"
   ]
  },
  {
   "cell_type": "markdown",
   "id": "de13a7a3",
   "metadata": {},
   "source": [
    "### 2차원 리스트를 만드는 방법\n",
    "- 리스트 = [[1],[2],[3],[4]]"
   ]
  },
  {
   "cell_type": "code",
   "execution_count": 25,
   "id": "302a79e1",
   "metadata": {},
   "outputs": [
    {
     "data": {
      "text/plain": [
       "[[1, 2], [3, 4], [5, 6]]"
      ]
     },
     "execution_count": 25,
     "metadata": {},
     "output_type": "execute_result"
    }
   ],
   "source": [
    "a = [[1,2],[3,4],[5,6]]\n",
    "a"
   ]
  },
  {
   "cell_type": "markdown",
   "id": "385d4a7d",
   "metadata": {},
   "source": [
    "### index로 리스트의 값에 접근"
   ]
  },
  {
   "cell_type": "code",
   "execution_count": 27,
   "id": "10cfa67e",
   "metadata": {},
   "outputs": [
    {
     "data": {
      "text/plain": [
       "1"
      ]
     },
     "execution_count": 27,
     "metadata": {},
     "output_type": "execute_result"
    }
   ],
   "source": [
    "b = [1,2,3,4]\n",
    "b[0]"
   ]
  },
  {
   "cell_type": "code",
   "execution_count": 28,
   "id": "7b2c3f15",
   "metadata": {},
   "outputs": [
    {
     "data": {
      "text/plain": [
       "[1, 2]"
      ]
     },
     "execution_count": 28,
     "metadata": {},
     "output_type": "execute_result"
    }
   ],
   "source": [
    "a = [[1,2],[3,4],[5,6]]\n",
    "a[0]"
   ]
  },
  {
   "cell_type": "code",
   "execution_count": 29,
   "id": "8d146cdc",
   "metadata": {},
   "outputs": [
    {
     "data": {
      "text/plain": [
       "1"
      ]
     },
     "execution_count": 29,
     "metadata": {},
     "output_type": "execute_result"
    }
   ],
   "source": [
    "a = [[1,2],[3,4],[5,6]]\n",
    "a[0][0]  # 0번째 행, 0번째 열"
   ]
  },
  {
   "cell_type": "code",
   "execution_count": 30,
   "id": "b62ad7e7",
   "metadata": {},
   "outputs": [
    {
     "data": {
      "text/plain": [
       "3"
      ]
     },
     "execution_count": 30,
     "metadata": {},
     "output_type": "execute_result"
    }
   ],
   "source": [
    "a = [[1,2],[3,4],[5,6]]\n",
    "a[1][0]  # 1번째 행, 0번째 열"
   ]
  },
  {
   "cell_type": "markdown",
   "id": "4d2607a3",
   "metadata": {},
   "source": [
    "1[0][0], 2[0][1]\n",
    "\n",
    "3[1][0], 4[1][1]\n",
    "\n",
    "5[2][0], 6[2][1]"
   ]
  },
  {
   "cell_type": "code",
   "execution_count": 32,
   "id": "1c3c8c89",
   "metadata": {},
   "outputs": [
    {
     "data": {
      "text/plain": [
       "1"
      ]
     },
     "execution_count": 32,
     "metadata": {},
     "output_type": "execute_result"
    }
   ],
   "source": [
    "a = [[[1,2],[3,4],[5,6]]]  # 3차원에서의 인덱스 접근\n",
    "a[0][0][0]"
   ]
  },
  {
   "cell_type": "code",
   "execution_count": 34,
   "id": "cdcc6d66",
   "metadata": {},
   "outputs": [
    {
     "data": {
      "text/html": [
       "<div>\n",
       "<style scoped>\n",
       "    .dataframe tbody tr th:only-of-type {\n",
       "        vertical-align: middle;\n",
       "    }\n",
       "\n",
       "    .dataframe tbody tr th {\n",
       "        vertical-align: top;\n",
       "    }\n",
       "\n",
       "    .dataframe thead th {\n",
       "        text-align: right;\n",
       "    }\n",
       "</style>\n",
       "<table border=\"1\" class=\"dataframe\">\n",
       "  <thead>\n",
       "    <tr style=\"text-align: right;\">\n",
       "      <th></th>\n",
       "      <th>A</th>\n",
       "      <th>B</th>\n",
       "    </tr>\n",
       "  </thead>\n",
       "  <tbody>\n",
       "    <tr>\n",
       "      <th>0</th>\n",
       "      <td>1</td>\n",
       "      <td>3</td>\n",
       "    </tr>\n",
       "    <tr>\n",
       "      <th>1</th>\n",
       "      <td>2</td>\n",
       "      <td>4</td>\n",
       "    </tr>\n",
       "  </tbody>\n",
       "</table>\n",
       "</div>"
      ],
      "text/plain": [
       "   A  B\n",
       "0  1  3\n",
       "1  2  4"
      ]
     },
     "execution_count": 34,
     "metadata": {},
     "output_type": "execute_result"
    }
   ],
   "source": [
    "import pandas as pd\n",
    "df = pd.DataFrame({'A':[1,2],\n",
    "                  'B':[3,4]})\n",
    "df"
   ]
  }
 ],
 "metadata": {
  "kernelspec": {
   "display_name": "Python 3 (ipykernel)",
   "language": "python",
   "name": "python3"
  },
  "language_info": {
   "codemirror_mode": {
    "name": "ipython",
    "version": 3
   },
   "file_extension": ".py",
   "mimetype": "text/x-python",
   "name": "python",
   "nbconvert_exporter": "python",
   "pygments_lexer": "ipython3",
   "version": "3.9.12"
  }
 },
 "nbformat": 4,
 "nbformat_minor": 5
}
