{
 "cells": [
  {
   "cell_type": "markdown",
   "id": "f776a927",
   "metadata": {},
   "source": [
    "# 주피터 노트북 단축키 정리"
   ]
  },
  {
   "cell_type": "markdown",
   "id": "f125f387",
   "metadata": {},
   "source": [
    "+ 파란색 커맨드 셀에서 m키 : 코드 창을 마크다운 창으로 변경\n",
    "+ 파란색 커맨드 셀에서 y키 : 마크다운 창을 다시 코드 창으로 변경\n",
    "+ 제목 만들기 : 마크다운 창으로 변경 후, # 뒤에 원하는 제목 적기   \n",
    "(#의 개수가 많을수록 글자 크기는 작아진다.)\n",
    "+ shift+Enter: 코드창 실행, Esc: 코드창 빠져나오기\n",
    "+ 커맨드 창 모드에서는 화살표로 위, 아래 셀로 이동 가능\n",
    "+ b(below): 아래에 셀 추가\n",
    "+ a(above): 위에 셀 추가\n",
    "+ dd(delete): 셀 삭제\n",
    "+ 줄 바꾸기 : 띄어쓰기 3번 또는 \"<비알>\" 입력(비알 영어 소문자로 입력해야 함)\n",
    "+ 글머리 : -, +, 숫자형 글머리는 1. 2. 와 같이 입력\n",
    "+ 수평선 : ---"
   ]
  },
  {
   "cell_type": "markdown",
   "id": "2c0ce91d",
   "metadata": {},
   "source": [
    "## 기본문법"
   ]
  },
  {
   "cell_type": "code",
   "execution_count": 1,
   "id": "3c2a2c48",
   "metadata": {
    "scrolled": true
   },
   "outputs": [
    {
     "name": "stdout",
     "output_type": "stream",
     "text": [
      "hi\n"
     ]
    }
   ],
   "source": [
    "print('hi')"
   ]
  },
  {
   "cell_type": "code",
   "execution_count": 2,
   "id": "0f54022f",
   "metadata": {},
   "outputs": [
    {
     "name": "stdout",
     "output_type": "stream",
     "text": [
      "1\n"
     ]
    }
   ],
   "source": [
    "print(1)"
   ]
  },
  {
   "cell_type": "code",
   "execution_count": 5,
   "id": "d9a1a663",
   "metadata": {},
   "outputs": [
    {
     "name": "stdout",
     "output_type": "stream",
     "text": [
      "안녕?\n"
     ]
    }
   ],
   "source": [
    "print('안녕?')"
   ]
  },
  {
   "cell_type": "code",
   "execution_count": 7,
   "id": "6272bdeb",
   "metadata": {},
   "outputs": [
    {
     "name": "stdout",
     "output_type": "stream",
     "text": [
      "안녕?\n"
     ]
    }
   ],
   "source": [
    "#주석 처리\n",
    "#코드를 설명해야 하는 경우나, 어떤 특정 설명이 필요한 경우\n",
    "print('안녕?')"
   ]
  },
  {
   "cell_type": "code",
   "execution_count": 10,
   "id": "eb9a9e98",
   "metadata": {},
   "outputs": [
    {
     "ename": "SyntaxError",
     "evalue": "invalid syntax (751334808.py, line 2)",
     "output_type": "error",
     "traceback": [
      "\u001b[1;36m  Input \u001b[1;32mIn [10]\u001b[1;36m\u001b[0m\n\u001b[1;33m    주석 처리 comment\u001b[0m\n\u001b[1;37m       ^\u001b[0m\n\u001b[1;31mSyntaxError\u001b[0m\u001b[1;31m:\u001b[0m invalid syntax\n"
     ]
    }
   ],
   "source": [
    "# '#'을 안 붙이면 에러가 난다.\n",
    "주석 처리 comment\n",
    "코드를 설명해야 하는 경우나, 어떤 특정 설명이 필요한 경우\n",
    "print('안녕?')"
   ]
  },
  {
   "cell_type": "code",
   "execution_count": 11,
   "id": "697afb70",
   "metadata": {},
   "outputs": [
    {
     "data": {
      "text/plain": [
       "2"
      ]
     },
     "execution_count": 11,
     "metadata": {},
     "output_type": "execute_result"
    }
   ],
   "source": [
    "1+1"
   ]
  },
  {
   "cell_type": "code",
   "execution_count": 13,
   "id": "aac638ad",
   "metadata": {},
   "outputs": [
    {
     "data": {
      "text/plain": [
       "4"
      ]
     },
     "execution_count": 13,
     "metadata": {},
     "output_type": "execute_result"
    }
   ],
   "source": [
    "2+2"
   ]
  },
  {
   "cell_type": "code",
   "execution_count": 14,
   "id": "3d417c3a",
   "metadata": {},
   "outputs": [
    {
     "data": {
      "text/plain": [
       "200"
      ]
     },
     "execution_count": 14,
     "metadata": {},
     "output_type": "execute_result"
    }
   ],
   "source": [
    "100+100"
   ]
  },
  {
   "cell_type": "code",
   "execution_count": 15,
   "id": "acca13e2",
   "metadata": {},
   "outputs": [
    {
     "data": {
      "text/plain": [
       "600"
      ]
     },
     "execution_count": 15,
     "metadata": {},
     "output_type": "execute_result"
    }
   ],
   "source": [
    "200*3"
   ]
  },
  {
   "cell_type": "markdown",
   "id": "fbf9aff2",
   "metadata": {},
   "source": [
    "### 파이썬에서 가장 중요한 자료형\n",
    "- 숫자\n",
    "- 문자\n",
    "- 불린\n",
    "\n",
    "\n",
    "- 우리가 사용하는 문자, 알파벳, 특수문자는 이해하지 못한다.\n",
    "- 모든 문자열은 ' ', \" \", \"\"\" \"\"\" 이 안에 넣어야 문자로 인식한다!\n",
    "- 문자열을 인식하게 되면 색상이 다르다!\n",
    "- 문자열은 대소문자를 다 구분한다!\n",
    "---\n",
    "- 숫자는 바로 연산이 된다.\n",
    "- 문자열 표시가 필요 없다!\n",
    "- 정수, 실수, 허수\n",
    "---\n",
    "- 불린은 참과 거짓\n",
    "\n",
    "True(1), False(0)"
   ]
  },
  {
   "cell_type": "code",
   "execution_count": 16,
   "id": "88495abc",
   "metadata": {},
   "outputs": [
    {
     "name": "stdout",
     "output_type": "stream",
     "text": [
      "안녕하세요?\n"
     ]
    }
   ],
   "source": [
    "print(\"안녕하세요?\")"
   ]
  },
  {
   "cell_type": "code",
   "execution_count": 17,
   "id": "b8cce766",
   "metadata": {},
   "outputs": [
    {
     "data": {
      "text/plain": [
       "'Hello'"
      ]
     },
     "execution_count": 17,
     "metadata": {},
     "output_type": "execute_result"
    }
   ],
   "source": [
    "\"Hello\""
   ]
  },
  {
   "cell_type": "code",
   "execution_count": 18,
   "id": "ff2e448c",
   "metadata": {},
   "outputs": [
    {
     "data": {
      "text/plain": [
       "'(100+100)*3'"
      ]
     },
     "execution_count": 18,
     "metadata": {},
     "output_type": "execute_result"
    }
   ],
   "source": [
    "\"(100+100)*3\" #그대로 문자가 된다!"
   ]
  },
  {
   "cell_type": "code",
   "execution_count": 19,
   "id": "0f7242ac",
   "metadata": {},
   "outputs": [
    {
     "data": {
      "text/plain": [
       "'(100+100)*3'"
      ]
     },
     "execution_count": 19,
     "metadata": {},
     "output_type": "execute_result"
    }
   ],
   "source": [
    "\"\"\"(100+100)*3\"\"\""
   ]
  },
  {
   "cell_type": "code",
   "execution_count": 20,
   "id": "3ee0dc5a",
   "metadata": {},
   "outputs": [
    {
     "data": {
      "text/plain": [
       "10"
      ]
     },
     "execution_count": 20,
     "metadata": {},
     "output_type": "execute_result"
    }
   ],
   "source": [
    "abs(-10)"
   ]
  },
  {
   "cell_type": "code",
   "execution_count": 21,
   "id": "8510b5b7",
   "metadata": {},
   "outputs": [
    {
     "data": {
      "text/plain": [
       "'abd'"
      ]
     },
     "execution_count": 21,
     "metadata": {},
     "output_type": "execute_result"
    }
   ],
   "source": [
    "'abd'"
   ]
  },
  {
   "cell_type": "code",
   "execution_count": 22,
   "id": "030e66f3",
   "metadata": {},
   "outputs": [
    {
     "data": {
      "text/plain": [
       "1"
      ]
     },
     "execution_count": 22,
     "metadata": {},
     "output_type": "execute_result"
    }
   ],
   "source": [
    "1"
   ]
  },
  {
   "cell_type": "code",
   "execution_count": 23,
   "id": "ec70fb61",
   "metadata": {},
   "outputs": [
    {
     "data": {
      "text/plain": [
       "False"
      ]
     },
     "execution_count": 23,
     "metadata": {},
     "output_type": "execute_result"
    }
   ],
   "source": [
    "4 < 0"
   ]
  },
  {
   "cell_type": "code",
   "execution_count": 24,
   "id": "4b85b478",
   "metadata": {},
   "outputs": [
    {
     "data": {
      "text/plain": [
       "'1'"
      ]
     },
     "execution_count": 24,
     "metadata": {},
     "output_type": "execute_result"
    }
   ],
   "source": [
    "'1'"
   ]
  },
  {
   "cell_type": "code",
   "execution_count": 25,
   "id": "ff7e5c88",
   "metadata": {},
   "outputs": [
    {
     "ename": "SyntaxError",
     "evalue": "invalid syntax (338231430.py, line 1)",
     "output_type": "error",
     "traceback": [
      "\u001b[1;36m  Input \u001b[1;32mIn [25]\u001b[1;36m\u001b[0m\n\u001b[1;33m    print(안녕?)\u001b[0m\n\u001b[1;37m            ^\u001b[0m\n\u001b[1;31mSyntaxError\u001b[0m\u001b[1;31m:\u001b[0m invalid syntax\n"
     ]
    }
   ],
   "source": [
    "print(안녕?)"
   ]
  },
  {
   "cell_type": "code",
   "execution_count": 26,
   "id": "2a16c4e2",
   "metadata": {},
   "outputs": [
    {
     "name": "stdout",
     "output_type": "stream",
     "text": [
      "True\n"
     ]
    }
   ],
   "source": [
    "print(True)"
   ]
  },
  {
   "cell_type": "code",
   "execution_count": 27,
   "id": "45f2506a",
   "metadata": {},
   "outputs": [
    {
     "name": "stdout",
     "output_type": "stream",
     "text": [
      "안녕?\n"
     ]
    }
   ],
   "source": [
    "print('안녕?')"
   ]
  },
  {
   "cell_type": "code",
   "execution_count": 28,
   "id": "6fc6720a",
   "metadata": {},
   "outputs": [
    {
     "ename": "NameError",
     "evalue": "name 'ᄂᄋᄅᄂᄋᄅᄂᄅᄋᄂᄅᄋᄅᄋ' is not defined",
     "output_type": "error",
     "traceback": [
      "\u001b[1;31m---------------------------------------------------------------------------\u001b[0m",
      "\u001b[1;31mNameError\u001b[0m                                 Traceback (most recent call last)",
      "Input \u001b[1;32mIn [28]\u001b[0m, in \u001b[0;36m<cell line: 1>\u001b[1;34m()\u001b[0m\n\u001b[1;32m----> 1\u001b[0m \u001b[43mㄴㅇㄹㄴㅇㄹㄴㄹㅇㄴㄹㅇㄹㅇ\u001b[49m\n",
      "\u001b[1;31mNameError\u001b[0m: name 'ᄂᄋᄅᄂᄋᄅᄂᄅᄋᄂᄅᄋᄅᄋ' is not defined"
     ]
    }
   ],
   "source": [
    "ㄴㅇㄹㄴㅇㄹㄴㄹㅇㄴㄹㅇㄹㅇ"
   ]
  },
  {
   "cell_type": "code",
   "execution_count": 29,
   "id": "bc0088a7",
   "metadata": {},
   "outputs": [
    {
     "ename": "NameError",
     "evalue": "name 'true' is not defined",
     "output_type": "error",
     "traceback": [
      "\u001b[1;31m---------------------------------------------------------------------------\u001b[0m",
      "\u001b[1;31mNameError\u001b[0m                                 Traceback (most recent call last)",
      "Input \u001b[1;32mIn [29]\u001b[0m, in \u001b[0;36m<cell line: 1>\u001b[1;34m()\u001b[0m\n\u001b[1;32m----> 1\u001b[0m \u001b[43mtrue\u001b[49m\n",
      "\u001b[1;31mNameError\u001b[0m: name 'true' is not defined"
     ]
    }
   ],
   "source": [
    "true"
   ]
  },
  {
   "cell_type": "code",
   "execution_count": 30,
   "id": "4807b6d5",
   "metadata": {},
   "outputs": [],
   "source": [
    "## 사칙연산"
   ]
  },
  {
   "cell_type": "code",
   "execution_count": 32,
   "id": "df9d0070",
   "metadata": {},
   "outputs": [
    {
     "name": "stdout",
     "output_type": "stream",
     "text": [
      "2\n",
      "4\n",
      "6\n"
     ]
    }
   ],
   "source": [
    "print(1+1)\n",
    "print(2+2)\n",
    "print(3+3)"
   ]
  },
  {
   "cell_type": "code",
   "execution_count": 34,
   "id": "b18e85a8",
   "metadata": {},
   "outputs": [
    {
     "data": {
      "text/plain": [
       "6"
      ]
     },
     "execution_count": 34,
     "metadata": {},
     "output_type": "execute_result"
    }
   ],
   "source": [
    "1+1\n",
    "2+2\n",
    "3+3 #print() 안에 각각을 넣지 않아서 아래 식만 출력되었다. "
   ]
  },
  {
   "cell_type": "code",
   "execution_count": 35,
   "id": "8c7e0a93",
   "metadata": {},
   "outputs": [
    {
     "data": {
      "text/plain": [
       "16"
      ]
     },
     "execution_count": 35,
     "metadata": {},
     "output_type": "execute_result"
    }
   ],
   "source": [
    "4*4"
   ]
  },
  {
   "cell_type": "code",
   "execution_count": 36,
   "id": "db443bc9",
   "metadata": {},
   "outputs": [
    {
     "data": {
      "text/plain": [
       "2.0"
      ]
     },
     "execution_count": 36,
     "metadata": {},
     "output_type": "execute_result"
    }
   ],
   "source": [
    "4/2"
   ]
  },
  {
   "cell_type": "code",
   "execution_count": 39,
   "id": "056dc628",
   "metadata": {},
   "outputs": [
    {
     "data": {
      "text/plain": [
       "2.5"
      ]
     },
     "execution_count": 39,
     "metadata": {},
     "output_type": "execute_result"
    }
   ],
   "source": [
    "5/2 #전체"
   ]
  },
  {
   "cell_type": "code",
   "execution_count": 40,
   "id": "e846b2d7",
   "metadata": {},
   "outputs": [
    {
     "data": {
      "text/plain": [
       "2"
      ]
     },
     "execution_count": 40,
     "metadata": {},
     "output_type": "execute_result"
    }
   ],
   "source": [
    "5//2 #버림"
   ]
  },
  {
   "cell_type": "code",
   "execution_count": 41,
   "id": "2c8a9049",
   "metadata": {},
   "outputs": [
    {
     "data": {
      "text/plain": [
       "1"
      ]
     },
     "execution_count": 41,
     "metadata": {},
     "output_type": "execute_result"
    }
   ],
   "source": [
    "5%2 #나머지"
   ]
  },
  {
   "cell_type": "code",
   "execution_count": 42,
   "id": "daa8ab6a",
   "metadata": {},
   "outputs": [
    {
     "data": {
      "text/plain": [
       "(2, 1)"
      ]
     },
     "execution_count": 42,
     "metadata": {},
     "output_type": "execute_result"
    }
   ],
   "source": [
    "#몫과 나머지를 함께 보고 싶으면!\n",
    "divmod(5,2)"
   ]
  },
  {
   "cell_type": "code",
   "execution_count": 43,
   "id": "6ed3e001",
   "metadata": {},
   "outputs": [
    {
     "data": {
      "text/plain": [
       "1024"
      ]
     },
     "execution_count": 43,
     "metadata": {},
     "output_type": "execute_result"
    }
   ],
   "source": [
    "#거듭제곱\n",
    "2**10"
   ]
  },
  {
   "cell_type": "markdown",
   "id": "ee072477",
   "metadata": {},
   "source": [
    "## Type\n",
    "- 자료형을 알아보는 방법!\n",
    "- type(값)"
   ]
  },
  {
   "cell_type": "code",
   "execution_count": 44,
   "id": "75425a8e",
   "metadata": {},
   "outputs": [
    {
     "data": {
      "text/plain": [
       "int"
      ]
     },
     "execution_count": 44,
     "metadata": {},
     "output_type": "execute_result"
    }
   ],
   "source": [
    "type(1)"
   ]
  },
  {
   "cell_type": "code",
   "execution_count": 45,
   "id": "1325c1c2",
   "metadata": {},
   "outputs": [
    {
     "data": {
      "text/plain": [
       "float"
      ]
     },
     "execution_count": 45,
     "metadata": {},
     "output_type": "execute_result"
    }
   ],
   "source": [
    "type(1.0)"
   ]
  },
  {
   "cell_type": "code",
   "execution_count": 46,
   "id": "306d2d4f",
   "metadata": {},
   "outputs": [
    {
     "data": {
      "text/plain": [
       "str"
      ]
     },
     "execution_count": 46,
     "metadata": {},
     "output_type": "execute_result"
    }
   ],
   "source": [
    "type('안녕?') #string"
   ]
  },
  {
   "cell_type": "code",
   "execution_count": 55,
   "id": "7fe59480",
   "metadata": {},
   "outputs": [
    {
     "ename": "SyntaxError",
     "evalue": "invalid syntax (3266225118.py, line 1)",
     "output_type": "error",
     "traceback": [
      "\u001b[1;36m  Input \u001b[1;32mIn [55]\u001b[1;36m\u001b[0m\n\u001b[1;33m    type(안녕?) #모든 문자열은 따옴표 안에 넣어야 한다.\u001b[0m\n\u001b[1;37m           ^\u001b[0m\n\u001b[1;31mSyntaxError\u001b[0m\u001b[1;31m:\u001b[0m invalid syntax\n"
     ]
    }
   ],
   "source": [
    "type(안녕?) #모든 문자열은 따옴표 안에 넣어야 한다."
   ]
  },
  {
   "cell_type": "code",
   "execution_count": 48,
   "id": "efecdd46",
   "metadata": {},
   "outputs": [
    {
     "data": {
      "text/plain": [
       "bool"
      ]
     },
     "execution_count": 48,
     "metadata": {},
     "output_type": "execute_result"
    }
   ],
   "source": [
    "type(True)"
   ]
  },
  {
   "cell_type": "code",
   "execution_count": 49,
   "id": "0ead9b94",
   "metadata": {},
   "outputs": [
    {
     "data": {
      "text/plain": [
       "bool"
      ]
     },
     "execution_count": 49,
     "metadata": {},
     "output_type": "execute_result"
    }
   ],
   "source": [
    "type(False)"
   ]
  },
  {
   "cell_type": "code",
   "execution_count": 56,
   "id": "e731fe1d",
   "metadata": {},
   "outputs": [
    {
     "ename": "NameError",
     "evalue": "name 'true' is not defined",
     "output_type": "error",
     "traceback": [
      "\u001b[1;31m---------------------------------------------------------------------------\u001b[0m",
      "\u001b[1;31mNameError\u001b[0m                                 Traceback (most recent call last)",
      "Input \u001b[1;32mIn [56]\u001b[0m, in \u001b[0;36m<cell line: 1>\u001b[1;34m()\u001b[0m\n\u001b[1;32m----> 1\u001b[0m \u001b[38;5;28mtype\u001b[39m(\u001b[43mtrue\u001b[49m)\n",
      "\u001b[1;31mNameError\u001b[0m: name 'true' is not defined"
     ]
    }
   ],
   "source": [
    "type(true) #소문자로 true를 입력하면 오류"
   ]
  },
  {
   "cell_type": "code",
   "execution_count": 51,
   "id": "fe1e36e8",
   "metadata": {},
   "outputs": [
    {
     "data": {
      "text/plain": [
       "int"
      ]
     },
     "execution_count": 51,
     "metadata": {},
     "output_type": "execute_result"
    }
   ],
   "source": [
    "type(1)"
   ]
  },
  {
   "cell_type": "code",
   "execution_count": 52,
   "id": "9299ade1",
   "metadata": {},
   "outputs": [
    {
     "data": {
      "text/plain": [
       "5.6"
      ]
     },
     "execution_count": 52,
     "metadata": {},
     "output_type": "execute_result"
    }
   ],
   "source": [
    "3.5+2.1"
   ]
  },
  {
   "cell_type": "code",
   "execution_count": 53,
   "id": "3bf8327b",
   "metadata": {},
   "outputs": [
    {
     "data": {
      "text/plain": [
       "7.5"
      ]
     },
     "execution_count": 53,
     "metadata": {},
     "output_type": "execute_result"
    }
   ],
   "source": [
    "3.5+4"
   ]
  },
  {
   "cell_type": "code",
   "execution_count": 54,
   "id": "8ac0b7ce",
   "metadata": {},
   "outputs": [
    {
     "data": {
      "text/plain": [
       "2.1999999999999997"
      ]
     },
     "execution_count": 54,
     "metadata": {},
     "output_type": "execute_result"
    }
   ],
   "source": [
    "4.3-2.1"
   ]
  },
  {
   "cell_type": "code",
   "execution_count": 57,
   "id": "264611b7",
   "metadata": {},
   "outputs": [
    {
     "data": {
      "text/plain": [
       "2.0999999999999996"
      ]
     },
     "execution_count": 57,
     "metadata": {},
     "output_type": "execute_result"
    }
   ],
   "source": [
    "3.4-1.3"
   ]
  },
  {
   "cell_type": "code",
   "execution_count": 58,
   "id": "414bc611",
   "metadata": {},
   "outputs": [
    {
     "data": {
      "text/plain": [
       "3.0"
      ]
     },
     "execution_count": 58,
     "metadata": {},
     "output_type": "execute_result"
    }
   ],
   "source": [
    "3.00000000000"
   ]
  },
  {
   "cell_type": "code",
   "execution_count": 59,
   "id": "0fcc72de",
   "metadata": {},
   "outputs": [],
   "source": [
    "# 실수와 실수를 계산시 오류가 날 수 있다\n",
    "#(메모리가 무한대의 숫자를 다 넣을 수 없어서 근사값을 넣어 계산해버린다.)"
   ]
  },
  {
   "cell_type": "markdown",
   "id": "3e82fa32",
   "metadata": {},
   "source": [
    "int(), float()\n",
    "- 원하는 숫자 자료형으로 바꿔준다!"
   ]
  },
  {
   "cell_type": "code",
   "execution_count": 60,
   "id": "659c1478",
   "metadata": {},
   "outputs": [
    {
     "data": {
      "text/plain": [
       "1"
      ]
     },
     "execution_count": 60,
     "metadata": {},
     "output_type": "execute_result"
    }
   ],
   "source": [
    "# int 정수\n",
    "int(1.2)"
   ]
  },
  {
   "cell_type": "code",
   "execution_count": 61,
   "id": "da1efecc",
   "metadata": {},
   "outputs": [
    {
     "data": {
      "text/plain": [
       "121.0"
      ]
     },
     "execution_count": 61,
     "metadata": {},
     "output_type": "execute_result"
    }
   ],
   "source": [
    "float(121)"
   ]
  },
  {
   "cell_type": "code",
   "execution_count": 62,
   "id": "0d502f97",
   "metadata": {},
   "outputs": [
    {
     "data": {
      "text/plain": [
       "0.8970421423999997"
      ]
     },
     "execution_count": 62,
     "metadata": {},
     "output_type": "execute_result"
    }
   ],
   "source": [
    "3.1012421424-2.2042"
   ]
  },
  {
   "cell_type": "code",
   "execution_count": 67,
   "id": "701063b7",
   "metadata": {},
   "outputs": [
    {
     "name": "stdout",
     "output_type": "stream",
     "text": [
      "1\n",
      "1\n"
     ]
    }
   ],
   "source": [
    " print(1)\n",
    "print(1)\n",
    "  #print(1)\n",
    "# 세 번째 줄을 주석처리 해보자. 언어를 쓸 때 들여쓰기는 두 번 이상 하면 오류 발생"
   ]
  },
  {
   "cell_type": "code",
   "execution_count": 64,
   "id": "64a8459d",
   "metadata": {},
   "outputs": [
    {
     "name": "stdout",
     "output_type": "stream",
     "text": [
      "hi\n"
     ]
    }
   ],
   "source": [
    "x=10\n",
    "if x==10:\n",
    "    print('hi')"
   ]
  },
  {
   "cell_type": "markdown",
   "id": "7fef6934",
   "metadata": {},
   "source": [
    "'=' # 변수에 할당하는 개념!\n",
    "\n",
    "'==' # 같다의 개념!\n",
    "\n",
    "'!=' # 다르다의 개념!"
   ]
  },
  {
   "cell_type": "code",
   "execution_count": 65,
   "id": "a1ee7433",
   "metadata": {},
   "outputs": [
    {
     "data": {
      "text/plain": [
       "False"
      ]
     },
     "execution_count": 65,
     "metadata": {},
     "output_type": "execute_result"
    }
   ],
   "source": [
    "10==11"
   ]
  },
  {
   "cell_type": "code",
   "execution_count": 66,
   "id": "84ac4ddc",
   "metadata": {},
   "outputs": [
    {
     "data": {
      "text/plain": [
       "True"
      ]
     },
     "execution_count": 66,
     "metadata": {},
     "output_type": "execute_result"
    }
   ],
   "source": [
    "10!=11"
   ]
  }
 ],
 "metadata": {
  "kernelspec": {
   "display_name": "Python 3 (ipykernel)",
   "language": "python",
   "name": "python3"
  },
  "language_info": {
   "codemirror_mode": {
    "name": "ipython",
    "version": 3
   },
   "file_extension": ".py",
   "mimetype": "text/x-python",
   "name": "python",
   "nbconvert_exporter": "python",
   "pygments_lexer": "ipython3",
   "version": "3.9.12"
  }
 },
 "nbformat": 4,
 "nbformat_minor": 5
}
