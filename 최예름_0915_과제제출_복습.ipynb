{
 "cells": [
  {
   "cell_type": "markdown",
   "id": "e366af13",
   "metadata": {},
   "source": [
    "### 저번 시간\n",
    "- 조건문 IF\n",
    "- 중첩 IF"
   ]
  },
  {
   "cell_type": "markdown",
   "id": "bd5e9abf",
   "metadata": {},
   "source": [
    "### 이번 시간: elif\n",
    "- 어떤 문제에 대해서 if만으로 설명이 어렵고 다양한 조건문을 짜야 하는 경우에는\n",
    "- elif를 사용해서 문제에 접근한다.\n",
    "- 500원을 넣어서 자판기를 누르는데,\n",
    "- 자판기에 사이다, 콜라, 환타가 있다.\n",
    "- 어떤 사람은 사이다를 누르고, 어떤 사람은 콜라를 누르고, 어떤 사람은 환타를 누를 것인데.\n",
    "- 이러한 조건ㅇ르 if문으로만 표현하면 한계가 있다."
   ]
  },
  {
   "cell_type": "markdown",
   "id": "ada20458",
   "metadata": {},
   "source": [
    "- if 조건식:\n",
    "    - 코드1\n",
    "- elif 조건식:\n",
    "    - 코드2"
   ]
  },
  {
   "cell_type": "code",
   "execution_count": 2,
   "id": "aaf0293d",
   "metadata": {},
   "outputs": [
    {
     "name": "stdout",
     "output_type": "stream",
     "text": [
      "hello\n"
     ]
    }
   ],
   "source": [
    "x = 15\n",
    "\n",
    "if x == 10:\n",
    "    print('hi')\n",
    "if x == 15:\n",
    "    print('hello')"
   ]
  },
  {
   "cell_type": "code",
   "execution_count": 3,
   "id": "ebb3dcb0",
   "metadata": {},
   "outputs": [
    {
     "name": "stdout",
     "output_type": "stream",
     "text": [
      "20입니다.\n"
     ]
    }
   ],
   "source": [
    "x = 20\n",
    "\n",
    "if x == 10:\n",
    "    print('10입니다.')\n",
    "elif x == 20:\n",
    "    print('20입니다.')"
   ]
  },
  {
   "cell_type": "markdown",
   "id": "87be22c4",
   "metadata": {},
   "source": [
    "### if, elif, else 세 가지를 모두 다 사용하자\n",
    "- if 조건식:\n",
    "    - 코드1\n",
    "- elif 조건식:\n",
    "    - 코드2\n",
    "- else:\n",
    "    - 코드3"
   ]
  },
  {
   "cell_type": "code",
   "execution_count": 4,
   "id": "32cea13d",
   "metadata": {},
   "outputs": [
    {
     "name": "stdout",
     "output_type": "stream",
     "text": [
      "30입니다.\n"
     ]
    }
   ],
   "source": [
    "x = 30\n",
    "\n",
    "if x == 10:\n",
    "    print('10입니다.')\n",
    "elif x == 20:\n",
    "    print('20입니다.')\n",
    "else:\n",
    "    print('30입니다.')"
   ]
  },
  {
   "cell_type": "code",
   "execution_count": 5,
   "id": "8d33bff3",
   "metadata": {},
   "outputs": [
    {
     "name": "stdout",
     "output_type": "stream",
     "text": [
      "20입니다.\n"
     ]
    }
   ],
   "source": [
    "x = 20\n",
    "\n",
    "if x == 10:\n",
    "    print('10입니다.')\n",
    "elif x == 20:\n",
    "    print('20입니다.')"
   ]
  },
  {
   "cell_type": "markdown",
   "id": "74f5dd39",
   "metadata": {},
   "source": [
    "- elif는 선두로 나갈 수는 없지만, if와 동등한 코드 라인에서 출발해야 한다!\n",
    "- else문도 if문 안에 들어갈 수 없고, if와 동등한 코드 라인에서 출발해야 한다!"
   ]
  },
  {
   "cell_type": "code",
   "execution_count": 6,
   "id": "928240f5",
   "metadata": {},
   "outputs": [
    {
     "ename": "SyntaxError",
     "evalue": "invalid syntax (402817205.py, line 6)",
     "output_type": "error",
     "traceback": [
      "\u001b[1;36m  Input \u001b[1;32mIn [6]\u001b[1;36m\u001b[0m\n\u001b[1;33m    elif x == 20:\u001b[0m\n\u001b[1;37m    ^\u001b[0m\n\u001b[1;31mSyntaxError\u001b[0m\u001b[1;31m:\u001b[0m invalid syntax\n"
     ]
    }
   ],
   "source": [
    "# 오류가 나는 예시\n",
    "x = 25\n",
    "\n",
    "if x > 10:\n",
    "    print('10입니다.')\n",
    "    elif x == 20:\n",
    "        print('20입니다.')\n",
    "        else:\n",
    "            print('30입니다.')"
   ]
  },
  {
   "cell_type": "markdown",
   "id": "680510cc",
   "metadata": {},
   "source": [
    "### 자판기 만들기!\n",
    "- 사용자에게 원하는 버튼을 요청해서\n",
    "- 1번을 입력하면 '콜라'\n",
    "- 2번을 입력하면 '사이다'\n",
    "- 3번을 입력하면 '환타'\n",
    "- 4번을 입력하면 '제로콜라'\n",
    "- 잘못된 번호를 입력하면 제공하지 않는 메뉴입니다."
   ]
  },
  {
   "cell_type": "code",
   "execution_count": 7,
   "id": "040b1eaf",
   "metadata": {},
   "outputs": [
    {
     "name": "stdout",
     "output_type": "stream",
     "text": [
      "원하는 번호를 입력하시오: 5\n",
      "제공하지 않는 메뉴입니다.\n"
     ]
    }
   ],
   "source": [
    "num = int(input(\"원하는 번호를 입력하시오: \"))\n",
    "if num == 1:\n",
    "    print(\"콜라\")\n",
    "elif num == 2:\n",
    "    print(\"사이다\")\n",
    "elif num == 3:\n",
    "    print(\"환타\")\n",
    "elif num == 4:\n",
    "    print(\"제로콜라\")\n",
    "else:\n",
    "    print(\"제공하지 않는 메뉴입니다.\")"
   ]
  },
  {
   "cell_type": "markdown",
   "id": "f81cc57a",
   "metadata": {},
   "source": [
    "### for 반복문에 대해서 알아보기!\n",
    "- 데이터 분석을 할 때 방대한 데이터를 분석해야 하기 때문에, 반복문 잘 이해하고 있어야 한다.\n",
    "\n",
    "\n",
    "- 단순한 업무인데 반복해야 하는 경우\n",
    "- 단순하지만 다양한 연산처리를 진행해야 하는 경우\n",
    "- 반복적으로 루틴한 업무를 진행해야 하는 경우\n",
    "\n",
    "\n",
    "- 반복문\n",
    "- for## 꼭 알고 있어야 하는 반복문\n",
    "- for 변수 in range(횟수):\n",
    "    - 반복할 코드\n",
    "- i 루프 인덱스이고, 반복문 업무를 진행하는 친구!"
   ]
  },
  {
   "cell_type": "code",
   "execution_count": 8,
   "id": "43b7f45a",
   "metadata": {},
   "outputs": [
    {
     "name": "stdout",
     "output_type": "stream",
     "text": [
      "과제를 꼭 해주세요! 0\n",
      "과제를 꼭 해주세요! 1\n",
      "과제를 꼭 해주세요! 2\n",
      "과제를 꼭 해주세요! 3\n",
      "과제를 꼭 해주세요! 4\n",
      "과제를 꼭 해주세요! 5\n",
      "과제를 꼭 해주세요! 6\n",
      "과제를 꼭 해주세요! 7\n",
      "과제를 꼭 해주세요! 8\n",
      "과제를 꼭 해주세요! 9\n"
     ]
    }
   ],
   "source": [
    "for i in range(10):\n",
    "    print(\"과제를 꼭 해주세요!\", i)"
   ]
  },
  {
   "cell_type": "code",
   "execution_count": 10,
   "id": "c5315cd9",
   "metadata": {},
   "outputs": [
    {
     "name": "stdout",
     "output_type": "stream",
     "text": [
      "과제를 꼭 해주세요! 0\n",
      "과제를 꼭 해주세요! 1\n",
      "과제를 꼭 해주세요! 2\n",
      "과제를 꼭 해주세요! 3\n",
      "과제를 꼭 해주세요! 4\n",
      "과제를 꼭 해주세요! 5\n",
      "과제를 꼭 해주세요! 6\n",
      "과제를 꼭 해주세요! 7\n",
      "과제를 꼭 해주세요! 8\n",
      "과제를 꼭 해주세요! 9\n"
     ]
    }
   ],
   "source": [
    "# i 말고 다른 변수가 들어가도 상관없다.\n",
    "for num in range(10):\n",
    "    print(\"과제를 꼭 해주세요!\", num)"
   ]
  }
 ],
 "metadata": {
  "kernelspec": {
   "display_name": "Python 3 (ipykernel)",
   "language": "python",
   "name": "python3"
  },
  "language_info": {
   "codemirror_mode": {
    "name": "ipython",
    "version": 3
   },
   "file_extension": ".py",
   "mimetype": "text/x-python",
   "name": "python",
   "nbconvert_exporter": "python",
   "pygments_lexer": "ipython3",
   "version": "3.9.12"
  }
 },
 "nbformat": 4,
 "nbformat_minor": 5
}
