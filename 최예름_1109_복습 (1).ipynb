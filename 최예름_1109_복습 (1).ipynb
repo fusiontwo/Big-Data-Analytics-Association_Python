{
 "cells": [
  {
   "cell_type": "markdown",
   "id": "d1c904bf",
   "metadata": {},
   "source": [
    "### 리스트와 튜플\n",
    "- 리스트에 대한 다양한 조작 방법"
   ]
  },
  {
   "cell_type": "markdown",
   "id": "e336b2e1",
   "metadata": {},
   "source": [
    "### 리스트에 요소를 추가하는 방법\n",
    "- append : 요소를 하나 추가하기\n",
    "- extend : 리스트를 연결하기\n",
    "- insert : 특정 인덱스에 요소를 추가하기"
   ]
  },
  {
   "cell_type": "code",
   "execution_count": 1,
   "id": "8a5ee8cd",
   "metadata": {},
   "outputs": [],
   "source": [
    "a = [1,2,3]"
   ]
  },
  {
   "cell_type": "code",
   "execution_count": 2,
   "id": "7b916ade",
   "metadata": {},
   "outputs": [],
   "source": [
    "a.append(4)"
   ]
  },
  {
   "cell_type": "code",
   "execution_count": 3,
   "id": "52f0136d",
   "metadata": {},
   "outputs": [
    {
     "data": {
      "text/plain": [
       "[1, 2, 3, 4]"
      ]
     },
     "execution_count": 3,
     "metadata": {},
     "output_type": "execute_result"
    }
   ],
   "source": [
    "a"
   ]
  },
  {
   "cell_type": "markdown",
   "id": "e8da123d",
   "metadata": {},
   "source": [
    "### 리스트 안에 리스트를 추가할 수 있다"
   ]
  },
  {
   "cell_type": "code",
   "execution_count": 4,
   "id": "af7e46dc",
   "metadata": {},
   "outputs": [],
   "source": [
    "a = [1,2,3]\n",
    "a.append([4,5])"
   ]
  },
  {
   "cell_type": "code",
   "execution_count": 5,
   "id": "7892a94c",
   "metadata": {},
   "outputs": [
    {
     "data": {
      "text/plain": [
       "[1, 2, 3, [4, 5]]"
      ]
     },
     "execution_count": 5,
     "metadata": {},
     "output_type": "execute_result"
    }
   ],
   "source": [
    "a"
   ]
  },
  {
   "cell_type": "code",
   "execution_count": 6,
   "id": "2c23601e",
   "metadata": {},
   "outputs": [
    {
     "data": {
      "text/plain": [
       "4"
      ]
     },
     "execution_count": 6,
     "metadata": {},
     "output_type": "execute_result"
    }
   ],
   "source": [
    "len(a)"
   ]
  },
  {
   "cell_type": "code",
   "execution_count": 7,
   "id": "1763d0fd",
   "metadata": {},
   "outputs": [
    {
     "data": {
      "text/plain": [
       "[4, 5]"
      ]
     },
     "execution_count": 7,
     "metadata": {},
     "output_type": "execute_result"
    }
   ],
   "source": [
    "a[3]"
   ]
  },
  {
   "cell_type": "code",
   "execution_count": 8,
   "id": "85966a3a",
   "metadata": {},
   "outputs": [
    {
     "data": {
      "text/plain": [
       "4"
      ]
     },
     "execution_count": 8,
     "metadata": {},
     "output_type": "execute_result"
    }
   ],
   "source": [
    "a[3][0]"
   ]
  },
  {
   "cell_type": "markdown",
   "id": "da027807",
   "metadata": {},
   "source": [
    "### 리스트 확장"
   ]
  },
  {
   "cell_type": "code",
   "execution_count": 10,
   "id": "d430ac61",
   "metadata": {},
   "outputs": [
    {
     "data": {
      "text/plain": [
       "[1, 2, 3, 4, 5]"
      ]
     },
     "execution_count": 10,
     "metadata": {},
     "output_type": "execute_result"
    }
   ],
   "source": [
    "a = [1,2,3]\n",
    "a.extend([4,5])  # 리스트를 연결한다.\n",
    "a"
   ]
  },
  {
   "cell_type": "code",
   "execution_count": 11,
   "id": "1b4bd4ae",
   "metadata": {},
   "outputs": [
    {
     "data": {
      "text/plain": [
       "5"
      ]
     },
     "execution_count": 11,
     "metadata": {},
     "output_type": "execute_result"
    }
   ],
   "source": [
    "len(a)"
   ]
  },
  {
   "cell_type": "markdown",
   "id": "5e48954c",
   "metadata": {},
   "source": [
    "### 리스트 특정 인덱스에 요소 추가"
   ]
  },
  {
   "cell_type": "code",
   "execution_count": 12,
   "id": "98f54cb0",
   "metadata": {},
   "outputs": [
    {
     "data": {
      "text/plain": [
       "[1, 100, 2, 3]"
      ]
     },
     "execution_count": 12,
     "metadata": {},
     "output_type": "execute_result"
    }
   ],
   "source": [
    "a = [1,2,3]\n",
    "a.insert(1,100)  # 리스트 1번째 요소에 100을 추가\n",
    "a"
   ]
  },
  {
   "cell_type": "code",
   "execution_count": 13,
   "id": "25d3758c",
   "metadata": {},
   "outputs": [
    {
     "data": {
      "text/plain": [
       "[1, [4, 5], 2, 3]"
      ]
     },
     "execution_count": 13,
     "metadata": {},
     "output_type": "execute_result"
    }
   ],
   "source": [
    "a = [1,2,3]\n",
    "a.insert(1,[4,5])  # 리스트 1번째 요소에 [4,5]를 추가\n",
    "a"
   ]
  },
  {
   "cell_type": "markdown",
   "id": "dbfcf396",
   "metadata": {},
   "source": [
    "### 리스트 값을 삭제하는 경우\n",
    "- pop: 마지막 요소 또는 특정 인덱스를 삭제\n",
    "- remove: 특정값을 찾아서 다 삭제"
   ]
  },
  {
   "cell_type": "code",
   "execution_count": 14,
   "id": "d2ca5813",
   "metadata": {},
   "outputs": [
    {
     "data": {
      "text/plain": [
       "3"
      ]
     },
     "execution_count": 14,
     "metadata": {},
     "output_type": "execute_result"
    }
   ],
   "source": [
    "a = [1,2,3]\n",
    "a.pop()"
   ]
  },
  {
   "cell_type": "code",
   "execution_count": 15,
   "id": "3c7d816c",
   "metadata": {},
   "outputs": [
    {
     "data": {
      "text/plain": [
       "[1, 2]"
      ]
     },
     "execution_count": 15,
     "metadata": {},
     "output_type": "execute_result"
    }
   ],
   "source": [
    "a  # 마지막 요소가 삭제된 리스트 a를 출력"
   ]
  },
  {
   "cell_type": "code",
   "execution_count": 16,
   "id": "d028ab51",
   "metadata": {},
   "outputs": [
    {
     "data": {
      "text/plain": [
       "[1, (4, 5), 2, 3]"
      ]
     },
     "execution_count": 16,
     "metadata": {},
     "output_type": "execute_result"
    }
   ],
   "source": [
    "a = [1,2,3]\n",
    "a.insert(1,(4,5))  # 인덱스 1에 요소를 추가\n",
    "a"
   ]
  },
  {
   "cell_type": "markdown",
   "id": "7a591f46",
   "metadata": {},
   "source": [
    "### remove"
   ]
  },
  {
   "cell_type": "code",
   "execution_count": 17,
   "id": "f298464d",
   "metadata": {},
   "outputs": [
    {
     "data": {
      "text/plain": [
       "[1, 2]"
      ]
     },
     "execution_count": 17,
     "metadata": {},
     "output_type": "execute_result"
    }
   ],
   "source": [
    "a = [1,2,3]\n",
    "a.remove(3)\n",
    "a"
   ]
  },
  {
   "cell_type": "code",
   "execution_count": 18,
   "id": "6b424243",
   "metadata": {},
   "outputs": [
    {
     "ename": "ValueError",
     "evalue": "list.remove(x): x not in list",
     "output_type": "error",
     "traceback": [
      "\u001b[1;31m---------------------------------------------------------------------------\u001b[0m",
      "\u001b[1;31mValueError\u001b[0m                                Traceback (most recent call last)",
      "Input \u001b[1;32mIn [18]\u001b[0m, in \u001b[0;36m<cell line: 2>\u001b[1;34m()\u001b[0m\n\u001b[0;32m      1\u001b[0m \u001b[38;5;66;03m# 없는 값을 제거하면 오류가 발생\u001b[39;00m\n\u001b[1;32m----> 2\u001b[0m \u001b[43ma\u001b[49m\u001b[38;5;241;43m.\u001b[39;49m\u001b[43mremove\u001b[49m\u001b[43m(\u001b[49m\u001b[38;5;241;43m10\u001b[39;49m\u001b[43m)\u001b[49m\n",
      "\u001b[1;31mValueError\u001b[0m: list.remove(x): x not in list"
     ]
    }
   ],
   "source": [
    "# 없는 값을 제거하면 오류가 발생\n",
    "a.remove(10)"
   ]
  },
  {
   "cell_type": "markdown",
   "id": "d7443331",
   "metadata": {},
   "source": [
    "### 스택과 큐에 대한 개념을 찾아보기"
   ]
  },
  {
   "cell_type": "markdown",
   "id": "4ac6a7ff",
   "metadata": {},
   "source": [
    "### 리스트에서 특정 값의 인덱스 구하기"
   ]
  },
  {
   "cell_type": "code",
   "execution_count": 19,
   "id": "8d94a69c",
   "metadata": {},
   "outputs": [],
   "source": [
    "a = [10,20,23,1,5]"
   ]
  },
  {
   "cell_type": "code",
   "execution_count": 20,
   "id": "8b571ae4",
   "metadata": {},
   "outputs": [
    {
     "data": {
      "text/plain": [
       "3"
      ]
     },
     "execution_count": 20,
     "metadata": {},
     "output_type": "execute_result"
    }
   ],
   "source": [
    "a.index(1)  # 값 1에 대한 인덱스가 무엇인지 출력"
   ]
  },
  {
   "cell_type": "markdown",
   "id": "41affca0",
   "metadata": {},
   "source": [
    "### count 특정 값의 개수 구하기"
   ]
  },
  {
   "cell_type": "code",
   "execution_count": 22,
   "id": "1b0587b4",
   "metadata": {},
   "outputs": [
    {
     "data": {
      "text/plain": [
       "3"
      ]
     },
     "execution_count": 22,
     "metadata": {},
     "output_type": "execute_result"
    }
   ],
   "source": [
    "a = [10,20,30,30,10,20,20]\n",
    "a.count(20)"
   ]
  },
  {
   "cell_type": "markdown",
   "id": "4cc879bc",
   "metadata": {},
   "source": [
    "### 리스트 요소 정렬하기\n",
    "- sort()\n",
    "- sort(reverse = False, True)"
   ]
  },
  {
   "cell_type": "code",
   "execution_count": 23,
   "id": "f0b3c731",
   "metadata": {},
   "outputs": [
    {
     "data": {
      "text/plain": [
       "[10, 23, 55, 2, 1, 66, 33, 111]"
      ]
     },
     "execution_count": 23,
     "metadata": {},
     "output_type": "execute_result"
    }
   ],
   "source": [
    "a = [10,23,55,2,1,66,33,111]\n",
    "a"
   ]
  },
  {
   "cell_type": "code",
   "execution_count": 24,
   "id": "060d7546",
   "metadata": {},
   "outputs": [
    {
     "data": {
      "text/plain": [
       "[1, 2, 10, 23, 33, 55, 66, 111]"
      ]
     },
     "execution_count": 24,
     "metadata": {},
     "output_type": "execute_result"
    }
   ],
   "source": [
    "a.sort()  # 오름차순\n",
    "a"
   ]
  },
  {
   "cell_type": "code",
   "execution_count": 25,
   "id": "06a7b2e1",
   "metadata": {},
   "outputs": [
    {
     "data": {
      "text/plain": [
       "[111, 66, 55, 33, 23, 10, 2, 1]"
      ]
     },
     "execution_count": 25,
     "metadata": {},
     "output_type": "execute_result"
    }
   ],
   "source": [
    "a.sort(reverse=True)  # 내림차순\n",
    "a"
   ]
  },
  {
   "cell_type": "markdown",
   "id": "b590f782",
   "metadata": {},
   "source": [
    "### 모든 값을 삭제하기"
   ]
  },
  {
   "cell_type": "code",
   "execution_count": 26,
   "id": "82dd767e",
   "metadata": {},
   "outputs": [
    {
     "data": {
      "text/plain": [
       "[111, 66, 55, 33, 23, 10, 2, 1]"
      ]
     },
     "execution_count": 26,
     "metadata": {},
     "output_type": "execute_result"
    }
   ],
   "source": [
    "a"
   ]
  },
  {
   "cell_type": "code",
   "execution_count": 27,
   "id": "46c8ed18",
   "metadata": {},
   "outputs": [
    {
     "data": {
      "text/plain": [
       "[]"
      ]
     },
     "execution_count": 27,
     "metadata": {},
     "output_type": "execute_result"
    }
   ],
   "source": [
    "a.clear()  # 모든 값을 삭제하기\n",
    "a"
   ]
  },
  {
   "cell_type": "code",
   "execution_count": 28,
   "id": "0f57dce2",
   "metadata": {},
   "outputs": [
    {
     "data": {
      "text/plain": [
       "[10, 23, 55, 2, 1, 66, 33, 111]"
      ]
     },
     "execution_count": 28,
     "metadata": {},
     "output_type": "execute_result"
    }
   ],
   "source": [
    "a = [10,23,55,2,1,66,33,111]\n",
    "a"
   ]
  },
  {
   "cell_type": "code",
   "execution_count": 29,
   "id": "9d642186",
   "metadata": {},
   "outputs": [
    {
     "data": {
      "text/plain": [
       "[10, 2, 1, 66, 33, 111]"
      ]
     },
     "execution_count": 29,
     "metadata": {},
     "output_type": "execute_result"
    }
   ],
   "source": [
    "del a[1:3]  # 슬라이스를 통한 원하는 값 제거\n",
    "a"
   ]
  },
  {
   "cell_type": "code",
   "execution_count": 30,
   "id": "0d92e73a",
   "metadata": {},
   "outputs": [
    {
     "data": {
      "text/plain": [
       "[]"
      ]
     },
     "execution_count": 30,
     "metadata": {},
     "output_type": "execute_result"
    }
   ],
   "source": [
    "del a[:]\n",
    "a"
   ]
  },
  {
   "cell_type": "markdown",
   "id": "807d04ab",
   "metadata": {},
   "source": [
    "### 할당과 복사"
   ]
  },
  {
   "cell_type": "code",
   "execution_count": 31,
   "id": "a11cd9d3",
   "metadata": {},
   "outputs": [
    {
     "data": {
      "text/plain": [
       "[1, 2, 3, 4, 5]"
      ]
     },
     "execution_count": 31,
     "metadata": {},
     "output_type": "execute_result"
    }
   ],
   "source": [
    "a = [1,2,3,4,5]\n",
    "a"
   ]
  },
  {
   "cell_type": "markdown",
   "id": "7ae228ec",
   "metadata": {},
   "source": [
    "- 할당의 개념은 b=a 새로운 변수에 기존 변수를 할당\n",
    "- (두 변수가 연결되어 하나를 바꾸면 다른 것도 모두 바뀜)"
   ]
  },
  {
   "cell_type": "code",
   "execution_count": 32,
   "id": "3d8d38ac",
   "metadata": {},
   "outputs": [
    {
     "data": {
      "text/plain": [
       "[1, 2, 3, 4, 5]"
      ]
     },
     "execution_count": 32,
     "metadata": {},
     "output_type": "execute_result"
    }
   ],
   "source": [
    "b = a\n",
    "a"
   ]
  },
  {
   "cell_type": "code",
   "execution_count": 33,
   "id": "d145835a",
   "metadata": {},
   "outputs": [
    {
     "data": {
      "text/plain": [
       "[1, 2, 3, 4, 5]"
      ]
     },
     "execution_count": 33,
     "metadata": {},
     "output_type": "execute_result"
    }
   ],
   "source": [
    "b"
   ]
  },
  {
   "cell_type": "code",
   "execution_count": 34,
   "id": "db64c969",
   "metadata": {},
   "outputs": [
    {
     "data": {
      "text/plain": [
       "[1, 2, 3, 111, 5]"
      ]
     },
     "execution_count": 34,
     "metadata": {},
     "output_type": "execute_result"
    }
   ],
   "source": [
    "b[3] = 111\n",
    "b"
   ]
  },
  {
   "cell_type": "code",
   "execution_count": 36,
   "id": "12a1e1cc",
   "metadata": {},
   "outputs": [
    {
     "data": {
      "text/plain": [
       "[1, 2, 3, 111, 5]"
      ]
     },
     "execution_count": 36,
     "metadata": {},
     "output_type": "execute_result"
    }
   ],
   "source": [
    "a  # 위에서 할당을 했고, b를 바꾸었기 때문에 a가 같이 바뀌었다."
   ]
  },
  {
   "cell_type": "markdown",
   "id": "b75e5b93",
   "metadata": {},
   "source": [
    "### 복사의 개념"
   ]
  },
  {
   "cell_type": "code",
   "execution_count": 37,
   "id": "6ae6f593",
   "metadata": {},
   "outputs": [],
   "source": [
    "a = [1,2,3,4,5]\n",
    "b = a.copy()"
   ]
  },
  {
   "cell_type": "code",
   "execution_count": 38,
   "id": "4b3e6fa8",
   "metadata": {},
   "outputs": [
    {
     "data": {
      "text/plain": [
       "[1, 2, 3, 4, 5]"
      ]
     },
     "execution_count": 38,
     "metadata": {},
     "output_type": "execute_result"
    }
   ],
   "source": [
    "a"
   ]
  },
  {
   "cell_type": "code",
   "execution_count": 39,
   "id": "c84ccf54",
   "metadata": {},
   "outputs": [
    {
     "data": {
      "text/plain": [
       "[1, 2, 3, 4, 5]"
      ]
     },
     "execution_count": 39,
     "metadata": {},
     "output_type": "execute_result"
    }
   ],
   "source": [
    "b"
   ]
  },
  {
   "cell_type": "code",
   "execution_count": 40,
   "id": "68928d8d",
   "metadata": {},
   "outputs": [
    {
     "data": {
      "text/plain": [
       "[1, 2, 3, 111, 5]"
      ]
     },
     "execution_count": 40,
     "metadata": {},
     "output_type": "execute_result"
    }
   ],
   "source": [
    "b[3] = 111\n",
    "b"
   ]
  },
  {
   "cell_type": "code",
   "execution_count": 41,
   "id": "e2f27249",
   "metadata": {},
   "outputs": [
    {
     "data": {
      "text/plain": [
       "[1, 2, 3, 4, 5]"
      ]
     },
     "execution_count": 41,
     "metadata": {},
     "output_type": "execute_result"
    }
   ],
   "source": [
    "a  # 리스트 a가 할당처럼 b와 함께 바뀌지는 않는다."
   ]
  },
  {
   "cell_type": "markdown",
   "id": "26957b16",
   "metadata": {},
   "source": [
    "### 퀴즈\n",
    "a = [11,23,1212,12414,5465,21]\n",
    "- 리스트 a 안의 값을 불러오는 반복문"
   ]
  },
  {
   "cell_type": "code",
   "execution_count": 42,
   "id": "eada2e7d",
   "metadata": {},
   "outputs": [
    {
     "name": "stdout",
     "output_type": "stream",
     "text": [
      "11\n",
      "23\n",
      "1212\n",
      "12414\n",
      "5465\n",
      "21\n"
     ]
    }
   ],
   "source": [
    "a = [11,23,1212,12414,5465,21]\n",
    "for i in a:\n",
    "    print(i)"
   ]
  },
  {
   "cell_type": "code",
   "execution_count": 43,
   "id": "2ae227d3",
   "metadata": {},
   "outputs": [
    {
     "name": "stdout",
     "output_type": "stream",
     "text": [
      "0 11\n",
      "1 23\n",
      "2 1212\n",
      "3 12414\n",
      "4 5465\n",
      "5 21\n"
     ]
    }
   ],
   "source": [
    "for i in a:\n",
    "    print(a.index(i), i)"
   ]
  },
  {
   "cell_type": "markdown",
   "id": "7a7cd67b",
   "metadata": {},
   "source": [
    "### 인덱스와 요소를 함께 출력하는 방법\n",
    "- enumerate\n",
    "- for 인덱스, 요소 in enumerate(리스트):\n",
    "    - print(인덱스, 요소)"
   ]
  },
  {
   "cell_type": "code",
   "execution_count": 45,
   "id": "8ebb85b5",
   "metadata": {},
   "outputs": [
    {
     "name": "stdout",
     "output_type": "stream",
     "text": [
      "0 11\n",
      "1 23\n",
      "2 1212\n",
      "3 12414\n",
      "4 5465\n",
      "5 21\n"
     ]
    }
   ],
   "source": [
    "for i in range(0, len(a)):\n",
    "    print(i, a[i])"
   ]
  },
  {
   "cell_type": "code",
   "execution_count": 46,
   "id": "c951e35a",
   "metadata": {},
   "outputs": [
    {
     "name": "stdout",
     "output_type": "stream",
     "text": [
      "0 11\n",
      "1 23\n",
      "2 1212\n",
      "3 12414\n",
      "4 5465\n",
      "5 21\n"
     ]
    }
   ],
   "source": [
    "for index, value in enumerate(a):\n",
    "    print(index, value)"
   ]
  },
  {
   "cell_type": "code",
   "execution_count": 47,
   "id": "89ab1fc6",
   "metadata": {},
   "outputs": [
    {
     "name": "stdout",
     "output_type": "stream",
     "text": [
      "1 11\n",
      "2 23\n",
      "3 1212\n",
      "4 12414\n",
      "5 5465\n",
      "6 21\n"
     ]
    }
   ],
   "source": [
    "for index, value in enumerate(a):\n",
    "    print(index+1, value)  # 인덱스를 1부터 시작하고 싶을 때"
   ]
  },
  {
   "cell_type": "code",
   "execution_count": 48,
   "id": "9711d80c",
   "metadata": {},
   "outputs": [
    {
     "name": "stdout",
     "output_type": "stream",
     "text": [
      "11\n",
      "23\n",
      "1212\n",
      "12414\n",
      "5465\n",
      "21\n"
     ]
    }
   ],
   "source": [
    "a = [11,23,1212,12414,5465,21]\n",
    "i = 0\n",
    "while i < len(a):\n",
    "    print(a[i])\n",
    "    i += 1"
   ]
  }
 ],
 "metadata": {
  "kernelspec": {
   "display_name": "Python 3 (ipykernel)",
   "language": "python",
   "name": "python3"
  },
  "language_info": {
   "codemirror_mode": {
    "name": "ipython",
    "version": 3
   },
   "file_extension": ".py",
   "mimetype": "text/x-python",
   "name": "python",
   "nbconvert_exporter": "python",
   "pygments_lexer": "ipython3",
   "version": "3.9.12"
  }
 },
 "nbformat": 4,
 "nbformat_minor": 5
}
