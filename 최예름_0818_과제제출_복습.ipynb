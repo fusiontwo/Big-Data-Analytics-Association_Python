{
 "cells": [
  {
   "cell_type": "markdown",
   "id": "b0f81561",
   "metadata": {},
   "source": [
    "## 변수에 대한 개념!"
   ]
  },
  {
   "cell_type": "markdown",
   "id": "9cc4a3e9",
   "metadata": {},
   "source": [
    "- 변수라는 건 할당이라는 개념, 할당이라는 건 바지 주머니가 있으면 그곳에 돈을 넣는다.\n",
    "\n",
    "내 바지주머니 <- 돈 10,000원 들어감\n",
    "\n",
    "내 바지주머니에는 10,000 원이 있는 상황!\n",
    "\n",
    "- 할당 개념\n",
    "\n",
    "x <- 10,000 넣으면 x의 변수에 10,000 값을 할당하는 것\n",
    "\n",
    "x는 결국 10,000 이란 뜻\n",
    "\n",
    "x = 10 (할당)\n",
    "\n",
    "x == 10 (같다, 다르다)\n",
    "\n",
    "x = 10000\n",
    "\n",
    "x라는 변수에 <- 10000을 넣는 개념\n",
    "\n",
    "변수에 할당의 순서를 꼭 기억해 주세요!\n",
    "\n",
    "> ## x = 10000\n",
    "> ## 오른쪽에 있는 값이 왼쪽에 있는 변수에 할당된다.\n",
    "> ## 약속!"
   ]
  },
  {
   "cell_type": "code",
   "execution_count": 1,
   "id": "fa517f75",
   "metadata": {},
   "outputs": [],
   "source": [
    "x = 10"
   ]
  },
  {
   "cell_type": "code",
   "execution_count": 3,
   "id": "e7aeea90",
   "metadata": {},
   "outputs": [
    {
     "name": "stdout",
     "output_type": "stream",
     "text": [
      "10\n"
     ]
    }
   ],
   "source": [
    "print(x)"
   ]
  },
  {
   "cell_type": "code",
   "execution_count": 4,
   "id": "0678327d",
   "metadata": {},
   "outputs": [
    {
     "ename": "SyntaxError",
     "evalue": "invalid syntax (1951360208.py, line 2)",
     "output_type": "error",
     "traceback": [
      "\u001b[1;36m  Input \u001b[1;32mIn [4]\u001b[1;36m\u001b[0m\n\u001b[1;33m    1. 영문 문자와 숫자를 사용할 수 있다.\u001b[0m\n\u001b[1;37m       ^\u001b[0m\n\u001b[1;31mSyntaxError\u001b[0m\u001b[1;31m:\u001b[0m invalid syntax\n"
     ]
    }
   ],
   "source": [
    "## 변수로 사용할 수 있는 규칙\n",
    "1. 영문 문자와 숫자를 사용할 수 있다.\n",
    "2. 대소문자를 구분한다.\n",
    "3. 문자부터 시작해야 하고 숫자로 시작하면 안 된다.\n",
    "4. _(밑줄문자)로 시작할 수 있다.\n",
    "5. 특수문자(&#$$*#@) 사용할 수 없다.)\n",
    "6. 파이썬 키워드, 약속어 print, if, for, sum 초록색 친구들은 사용하면 안 된다."
   ]
  },
  {
   "cell_type": "code",
   "execution_count": 5,
   "id": "9a6b5f5d",
   "metadata": {},
   "outputs": [],
   "source": [
    "abc = 10"
   ]
  },
  {
   "cell_type": "code",
   "execution_count": 6,
   "id": "063ed387",
   "metadata": {},
   "outputs": [],
   "source": [
    "Abc = 100"
   ]
  },
  {
   "cell_type": "code",
   "execution_count": 7,
   "id": "33831bb1",
   "metadata": {},
   "outputs": [
    {
     "name": "stdout",
     "output_type": "stream",
     "text": [
      "10\n",
      "100\n"
     ]
    }
   ],
   "source": [
    "print(abc)\n",
    "print(Abc)"
   ]
  },
  {
   "cell_type": "code",
   "execution_count": 8,
   "id": "a503f956",
   "metadata": {},
   "outputs": [
    {
     "ename": "SyntaxError",
     "evalue": "invalid syntax (1764144618.py, line 1)",
     "output_type": "error",
     "traceback": [
      "\u001b[1;36m  Input \u001b[1;32mIn [8]\u001b[1;36m\u001b[0m\n\u001b[1;33m    10abc = 10 # 변수명이 숫자로 시작하면 에러\u001b[0m\n\u001b[1;37m      ^\u001b[0m\n\u001b[1;31mSyntaxError\u001b[0m\u001b[1;31m:\u001b[0m invalid syntax\n"
     ]
    }
   ],
   "source": [
    "10abc = 10 # 변수명이 숫자로 시작하면 에러"
   ]
  },
  {
   "cell_type": "code",
   "execution_count": 9,
   "id": "a62717a2",
   "metadata": {},
   "outputs": [],
   "source": [
    "_abc = 10 # 변수명이 밑줄 문자로 시작해도 된다."
   ]
  },
  {
   "cell_type": "code",
   "execution_count": 10,
   "id": "f7265b37",
   "metadata": {},
   "outputs": [
    {
     "data": {
      "text/plain": [
       "10"
      ]
     },
     "execution_count": 10,
     "metadata": {},
     "output_type": "execute_result"
    }
   ],
   "source": [
    "_abc"
   ]
  },
  {
   "cell_type": "code",
   "execution_count": 11,
   "id": "a2693e32",
   "metadata": {},
   "outputs": [
    {
     "name": "stdout",
     "output_type": "stream",
     "text": [
      "10\n"
     ]
    }
   ],
   "source": [
    "print(10)"
   ]
  },
  {
   "cell_type": "code",
   "execution_count": 12,
   "id": "488c6fd0",
   "metadata": {},
   "outputs": [
    {
     "ename": "TypeError",
     "evalue": "'int' object is not callable",
     "output_type": "error",
     "traceback": [
      "\u001b[1;31m---------------------------------------------------------------------------\u001b[0m",
      "\u001b[1;31mTypeError\u001b[0m                                 Traceback (most recent call last)",
      "Input \u001b[1;32mIn [12]\u001b[0m, in \u001b[0;36m<cell line: 2>\u001b[1;34m()\u001b[0m\n\u001b[0;32m      1\u001b[0m \u001b[38;5;28mprint\u001b[39m \u001b[38;5;241m=\u001b[39m \u001b[38;5;241m10\u001b[39m\n\u001b[1;32m----> 2\u001b[0m \u001b[38;5;28;43mprint\u001b[39;49m\u001b[43m(\u001b[49m\u001b[38;5;241;43m10\u001b[39;49m\u001b[43m)\u001b[49m\n",
      "\u001b[1;31mTypeError\u001b[0m: 'int' object is not callable"
     ]
    }
   ],
   "source": [
    "print = 10\n",
    "print(10) # 변수명을 print로 지정해서 에러 발생, 커널을 restart 해야 한다."
   ]
  },
  {
   "cell_type": "code",
   "execution_count": 1,
   "id": "fd675224",
   "metadata": {},
   "outputs": [],
   "source": [
    "# 문자열 자체도 변수에 넣을 수 있음\n",
    "\n",
    "a = 'Hello Python'"
   ]
  },
  {
   "cell_type": "code",
   "execution_count": 2,
   "id": "594ad88b",
   "metadata": {},
   "outputs": [
    {
     "data": {
      "text/plain": [
       "'Hello Python'"
      ]
     },
     "execution_count": 2,
     "metadata": {},
     "output_type": "execute_result"
    }
   ],
   "source": [
    "a"
   ]
  },
  {
   "cell_type": "code",
   "execution_count": 3,
   "id": "a2038229",
   "metadata": {},
   "outputs": [],
   "source": [
    "a = '10'"
   ]
  },
  {
   "cell_type": "code",
   "execution_count": 4,
   "id": "e1fe0f00",
   "metadata": {},
   "outputs": [
    {
     "data": {
      "text/plain": [
       "'10'"
      ]
     },
     "execution_count": 4,
     "metadata": {},
     "output_type": "execute_result"
    }
   ],
   "source": [
    "a"
   ]
  },
  {
   "cell_type": "code",
   "execution_count": 5,
   "id": "10f2ef9b",
   "metadata": {},
   "outputs": [
    {
     "data": {
      "text/plain": [
       "str"
      ]
     },
     "execution_count": 5,
     "metadata": {},
     "output_type": "execute_result"
    }
   ],
   "source": [
    "type(a)"
   ]
  },
  {
   "cell_type": "code",
   "execution_count": 6,
   "id": "23e81eaa",
   "metadata": {},
   "outputs": [],
   "source": [
    "b = 10"
   ]
  },
  {
   "cell_type": "code",
   "execution_count": 7,
   "id": "6f00e5de",
   "metadata": {},
   "outputs": [
    {
     "data": {
      "text/plain": [
       "int"
      ]
     },
     "execution_count": 7,
     "metadata": {},
     "output_type": "execute_result"
    }
   ],
   "source": [
    "type(b)"
   ]
  },
  {
   "cell_type": "markdown",
   "id": "97fc11f4",
   "metadata": {},
   "source": [
    "## 변수에 대해서 여러 개를 한 번에 할당할 수 있다."
   ]
  },
  {
   "cell_type": "code",
   "execution_count": 9,
   "id": "f3157e24",
   "metadata": {},
   "outputs": [],
   "source": [
    "a, b, c = 10, 200, 30 # 순서에 따라 대응된다."
   ]
  },
  {
   "cell_type": "code",
   "execution_count": 10,
   "id": "349f925b",
   "metadata": {},
   "outputs": [
    {
     "name": "stdout",
     "output_type": "stream",
     "text": [
      "10\n",
      "200\n",
      "30\n"
     ]
    }
   ],
   "source": [
    "print(a)\n",
    "print(b)\n",
    "print(c)"
   ]
  },
  {
   "cell_type": "code",
   "execution_count": 11,
   "id": "079487a5",
   "metadata": {},
   "outputs": [
    {
     "ename": "ValueError",
     "evalue": "not enough values to unpack (expected 3, got 2)",
     "output_type": "error",
     "traceback": [
      "\u001b[1;31m---------------------------------------------------------------------------\u001b[0m",
      "\u001b[1;31mValueError\u001b[0m                                Traceback (most recent call last)",
      "Input \u001b[1;32mIn [11]\u001b[0m, in \u001b[0;36m<cell line: 1>\u001b[1;34m()\u001b[0m\n\u001b[1;32m----> 1\u001b[0m a, b, c \u001b[38;5;241m=\u001b[39m \u001b[38;5;241m10\u001b[39m, \u001b[38;5;241m200\u001b[39m\n",
      "\u001b[1;31mValueError\u001b[0m: not enough values to unpack (expected 3, got 2)"
     ]
    }
   ],
   "source": [
    "a, b, c = 10, 200 # 변수는 3개인데 값을 2개만 할당했다."
   ]
  },
  {
   "cell_type": "code",
   "execution_count": 13,
   "id": "8ab10687",
   "metadata": {},
   "outputs": [],
   "source": [
    "# 한 개의 값을 여러 변수에도 할당할 수 있다.\n",
    "\n",
    "x = y = z = 100"
   ]
  },
  {
   "cell_type": "code",
   "execution_count": 14,
   "id": "abd537a5",
   "metadata": {},
   "outputs": [
    {
     "name": "stdout",
     "output_type": "stream",
     "text": [
      "100\n",
      "100\n",
      "100\n"
     ]
    }
   ],
   "source": [
    "print(x)\n",
    "print(y)\n",
    "print(z)"
   ]
  },
  {
   "cell_type": "code",
   "execution_count": 15,
   "id": "30233b33",
   "metadata": {},
   "outputs": [
    {
     "data": {
      "text/plain": [
       "100"
      ]
     },
     "execution_count": 15,
     "metadata": {},
     "output_type": "execute_result"
    }
   ],
   "source": [
    "z"
   ]
  },
  {
   "cell_type": "code",
   "execution_count": 16,
   "id": "17ad6c9a",
   "metadata": {},
   "outputs": [
    {
     "data": {
      "text/plain": [
       "100"
      ]
     },
     "execution_count": 16,
     "metadata": {},
     "output_type": "execute_result"
    }
   ],
   "source": [
    "y"
   ]
  },
  {
   "cell_type": "code",
   "execution_count": 17,
   "id": "bdfffdfb",
   "metadata": {},
   "outputs": [
    {
     "data": {
      "text/plain": [
       "100"
      ]
     },
     "execution_count": 17,
     "metadata": {},
     "output_type": "execute_result"
    }
   ],
   "source": [
    "x"
   ]
  },
  {
   "cell_type": "markdown",
   "id": "3094acbb",
   "metadata": {},
   "source": [
    "## 직접 계산이 아닌 변수를 통한 계산이 가능하다!"
   ]
  },
  {
   "cell_type": "code",
   "execution_count": 18,
   "id": "56efb6a4",
   "metadata": {},
   "outputs": [],
   "source": [
    "a = 10\n",
    "b = 20\n",
    "c = 300"
   ]
  },
  {
   "cell_type": "code",
   "execution_count": 19,
   "id": "f1aa198b",
   "metadata": {},
   "outputs": [
    {
     "data": {
      "text/plain": [
       "330"
      ]
     },
     "execution_count": 19,
     "metadata": {},
     "output_type": "execute_result"
    }
   ],
   "source": [
    "a+b+c # 변수에 대한 연산이 가능하다!"
   ]
  },
  {
   "cell_type": "code",
   "execution_count": 20,
   "id": "1e9cb34a",
   "metadata": {},
   "outputs": [
    {
     "data": {
      "text/plain": [
       "110"
      ]
     },
     "execution_count": 20,
     "metadata": {},
     "output_type": "execute_result"
    }
   ],
   "source": [
    "# 할당 연산자\n",
    "a + 100"
   ]
  },
  {
   "cell_type": "code",
   "execution_count": 21,
   "id": "e270b77d",
   "metadata": {},
   "outputs": [
    {
     "data": {
      "text/plain": [
       "60"
      ]
     },
     "execution_count": 21,
     "metadata": {},
     "output_type": "execute_result"
    }
   ],
   "source": [
    "b*3"
   ]
  },
  {
   "cell_type": "code",
   "execution_count": 22,
   "id": "20626738",
   "metadata": {},
   "outputs": [],
   "source": [
    "a = a + 20"
   ]
  },
  {
   "cell_type": "code",
   "execution_count": 23,
   "id": "229b2fb5",
   "metadata": {},
   "outputs": [
    {
     "data": {
      "text/plain": [
       "30"
      ]
     },
     "execution_count": 23,
     "metadata": {},
     "output_type": "execute_result"
    }
   ],
   "source": [
    "a"
   ]
  },
  {
   "cell_type": "code",
   "execution_count": 24,
   "id": "c40d8ff5",
   "metadata": {},
   "outputs": [],
   "source": [
    "# 산술 후 바로 할당할 수 있는 연산자를 제공\n",
    "\n",
    "a = 10\n",
    "a += 20 # a = a + 20"
   ]
  },
  {
   "cell_type": "code",
   "execution_count": 25,
   "id": "e5fa5b11",
   "metadata": {},
   "outputs": [
    {
     "data": {
      "text/plain": [
       "30"
      ]
     },
     "execution_count": 25,
     "metadata": {},
     "output_type": "execute_result"
    }
   ],
   "source": [
    "a"
   ]
  },
  {
   "cell_type": "code",
   "execution_count": 26,
   "id": "30f09d30",
   "metadata": {},
   "outputs": [],
   "source": [
    "a = 10\n",
    "a -= 5"
   ]
  },
  {
   "cell_type": "code",
   "execution_count": 27,
   "id": "3acefeec",
   "metadata": {},
   "outputs": [
    {
     "data": {
      "text/plain": [
       "5"
      ]
     },
     "execution_count": 27,
     "metadata": {},
     "output_type": "execute_result"
    }
   ],
   "source": [
    "a"
   ]
  },
  {
   "cell_type": "markdown",
   "id": "fa467b44",
   "metadata": {},
   "source": [
    "### 곱하기, 나누기 다 가능하다!\n",
    "- 과제로 직접 해보기!\n",
    "\n",
    "#### 유저나, 사용자에게 입력을 요청하고 사용자가 입력한 값을 변수에 할당할 수 있다!\n",
    "- input()"
   ]
  },
  {
   "cell_type": "code",
   "execution_count": 28,
   "id": "9e450d0f",
   "metadata": {},
   "outputs": [
    {
     "name": "stdout",
     "output_type": "stream",
     "text": [
      "Hello Python\n"
     ]
    },
    {
     "data": {
      "text/plain": [
       "'Hello Python'"
      ]
     },
     "execution_count": 28,
     "metadata": {},
     "output_type": "execute_result"
    }
   ],
   "source": [
    "input()"
   ]
  },
  {
   "cell_type": "code",
   "execution_count": 29,
   "id": "8fb4dc3c",
   "metadata": {},
   "outputs": [
    {
     "name": "stdout",
     "output_type": "stream",
     "text": [
      "123\n"
     ]
    }
   ],
   "source": [
    "# 변수를 할당하는 개념은\n",
    "a = input() # default는 문자열로 저장이 된다."
   ]
  },
  {
   "cell_type": "code",
   "execution_count": 30,
   "id": "99ce566d",
   "metadata": {},
   "outputs": [
    {
     "data": {
      "text/plain": [
       "'123'"
      ]
     },
     "execution_count": 30,
     "metadata": {},
     "output_type": "execute_result"
    }
   ],
   "source": [
    "a"
   ]
  },
  {
   "cell_type": "code",
   "execution_count": 31,
   "id": "3b5455d0",
   "metadata": {},
   "outputs": [
    {
     "data": {
      "text/plain": [
       "str"
      ]
     },
     "execution_count": 31,
     "metadata": {},
     "output_type": "execute_result"
    }
   ],
   "source": [
    "type(a)"
   ]
  },
  {
   "cell_type": "code",
   "execution_count": 32,
   "id": "53abfe83",
   "metadata": {},
   "outputs": [
    {
     "ename": "TypeError",
     "evalue": "can only concatenate str (not \"int\") to str",
     "output_type": "error",
     "traceback": [
      "\u001b[1;31m---------------------------------------------------------------------------\u001b[0m",
      "\u001b[1;31mTypeError\u001b[0m                                 Traceback (most recent call last)",
      "Input \u001b[1;32mIn [32]\u001b[0m, in \u001b[0;36m<cell line: 1>\u001b[1;34m()\u001b[0m\n\u001b[1;32m----> 1\u001b[0m \u001b[43ma\u001b[49m\u001b[43m \u001b[49m\u001b[38;5;241;43m+\u001b[39;49m\u001b[43m \u001b[49m\u001b[38;5;241;43m10\u001b[39;49m\n",
      "\u001b[1;31mTypeError\u001b[0m: can only concatenate str (not \"int\") to str"
     ]
    }
   ],
   "source": [
    "a + 10 # a가 문자열로 저장되어 있어, 연산하면 에러가 발생"
   ]
  },
  {
   "cell_type": "code",
   "execution_count": 33,
   "id": "bfe02229",
   "metadata": {},
   "outputs": [
    {
     "name": "stdout",
     "output_type": "stream",
     "text": [
      "10\n",
      "20\n"
     ]
    }
   ],
   "source": [
    "# 숫자를 입력하세요!\n",
    "a = input()\n",
    "b = input()"
   ]
  },
  {
   "cell_type": "code",
   "execution_count": 34,
   "id": "728c165f",
   "metadata": {},
   "outputs": [
    {
     "data": {
      "text/plain": [
       "'10'"
      ]
     },
     "execution_count": 34,
     "metadata": {},
     "output_type": "execute_result"
    }
   ],
   "source": [
    "a"
   ]
  },
  {
   "cell_type": "code",
   "execution_count": 35,
   "id": "85a50250",
   "metadata": {},
   "outputs": [
    {
     "data": {
      "text/plain": [
       "'20'"
      ]
     },
     "execution_count": 35,
     "metadata": {},
     "output_type": "execute_result"
    }
   ],
   "source": [
    "b"
   ]
  },
  {
   "cell_type": "code",
   "execution_count": 36,
   "id": "b8352dae",
   "metadata": {},
   "outputs": [
    {
     "name": "stdout",
     "output_type": "stream",
     "text": [
      "1020\n"
     ]
    }
   ],
   "source": [
    "print(a+b) # a, b가 기본적으로 문자열로 저장되기 때문에, 연산이 되지 않고 문자열로 합쳐졌다."
   ]
  },
  {
   "cell_type": "markdown",
   "id": "6da6d1f3",
   "metadata": {},
   "source": [
    "## int 정수로 변환할 수 있음\n",
    "- 변수 = int(input())\n",
    "- 변수 = int(input('문자열'))"
   ]
  },
  {
   "cell_type": "code",
   "execution_count": 37,
   "id": "ca8e466c",
   "metadata": {},
   "outputs": [
    {
     "name": "stdout",
     "output_type": "stream",
     "text": [
      "10\n"
     ]
    }
   ],
   "source": [
    "a = int(input())"
   ]
  },
  {
   "cell_type": "code",
   "execution_count": 38,
   "id": "d9f7b52c",
   "metadata": {},
   "outputs": [
    {
     "data": {
      "text/plain": [
       "int"
      ]
     },
     "execution_count": 38,
     "metadata": {},
     "output_type": "execute_result"
    }
   ],
   "source": [
    "type(a)"
   ]
  },
  {
   "cell_type": "code",
   "execution_count": 39,
   "id": "950171c3",
   "metadata": {},
   "outputs": [],
   "source": [
    "a = int(10)"
   ]
  },
  {
   "cell_type": "code",
   "execution_count": 40,
   "id": "6916522b",
   "metadata": {},
   "outputs": [
    {
     "data": {
      "text/plain": [
       "int"
      ]
     },
     "execution_count": 40,
     "metadata": {},
     "output_type": "execute_result"
    }
   ],
   "source": [
    "type(a)"
   ]
  },
  {
   "cell_type": "markdown",
   "id": "16d7b288",
   "metadata": {},
   "source": [
    "### split\n",
    "\n",
    "- 값을 나눠주는 개념!\n",
    "\n",
    "\n",
    "- 변수1, 변수2 = input().split 사용한 변수 여러 개에 저장이 된다."
   ]
  },
  {
   "cell_type": "code",
   "execution_count": 41,
   "id": "72f3aa6f",
   "metadata": {},
   "outputs": [
    {
     "name": "stdout",
     "output_type": "stream",
     "text": [
      "문자열 두 개 입력하세요!df f\n"
     ]
    }
   ],
   "source": [
    "a, b = input('문자열 두 개 입력하세요!').split() # 공백을 기준으로 분리해준다."
   ]
  },
  {
   "cell_type": "code",
   "execution_count": 42,
   "id": "8425860f",
   "metadata": {},
   "outputs": [
    {
     "name": "stdout",
     "output_type": "stream",
     "text": [
      "df\n",
      "f\n"
     ]
    }
   ],
   "source": [
    "print(a)\n",
    "print(b)"
   ]
  },
  {
   "cell_type": "code",
   "execution_count": 43,
   "id": "88d9cc27",
   "metadata": {},
   "outputs": [
    {
     "name": "stdout",
     "output_type": "stream",
     "text": [
      "문자열 두 개 입력하세요!10 20\n"
     ]
    }
   ],
   "source": [
    "a, b = input('문자열 두 개 입력하세요!').split()"
   ]
  },
  {
   "cell_type": "code",
   "execution_count": 45,
   "id": "887c152b",
   "metadata": {},
   "outputs": [
    {
     "name": "stdout",
     "output_type": "stream",
     "text": [
      "10\n",
      "20\n"
     ]
    }
   ],
   "source": [
    "print(a)\n",
    "print(b)"
   ]
  },
  {
   "cell_type": "markdown",
   "id": "88170b6c",
   "metadata": {},
   "source": [
    "### split -> int\n",
    "- 수치형 데이터로 바꿔줘야 한다. 귀찮아서 한 번에 바꿔주는 기술\n",
    "- map 내가 원하는 값의 자료형으로 바꿔준다.\n",
    "\n",
    "변수1, 변수2 = map(int, input().split())"
   ]
  },
  {
   "cell_type": "code",
   "execution_count": 46,
   "id": "8b7b9553",
   "metadata": {},
   "outputs": [
    {
     "name": "stdout",
     "output_type": "stream",
     "text": [
      "20\n",
      "\n",
      "10\n"
     ]
    }
   ],
   "source": [
    "print(20)\n",
    "print() # 공백의 개념\n",
    "print(a)"
   ]
  },
  {
   "cell_type": "code",
   "execution_count": 47,
   "id": "619ac7e2",
   "metadata": {},
   "outputs": [
    {
     "name": "stdout",
     "output_type": "stream",
     "text": [
      "숫자 두 개 입력하세요!: 10 20\n"
     ]
    }
   ],
   "source": [
    "a, b = map(int, input('숫자 두 개 입력하세요!: ').split())"
   ]
  },
  {
   "cell_type": "code",
   "execution_count": 48,
   "id": "0282fc8e",
   "metadata": {},
   "outputs": [
    {
     "name": "stdout",
     "output_type": "stream",
     "text": [
      "30\n"
     ]
    }
   ],
   "source": [
    "print(a+b)"
   ]
  },
  {
   "cell_type": "code",
   "execution_count": 49,
   "id": "3730b318",
   "metadata": {},
   "outputs": [
    {
     "name": "stdout",
     "output_type": "stream",
     "text": [
      "숫자 두 개 입력하세요!: 10,20\n"
     ]
    }
   ],
   "source": [
    "a, b = map(int, input('숫자 두 개 입력하세요!: ').split(','))"
   ]
  },
  {
   "cell_type": "code",
   "execution_count": 50,
   "id": "1558a606",
   "metadata": {},
   "outputs": [
    {
     "name": "stdout",
     "output_type": "stream",
     "text": [
      "30\n"
     ]
    }
   ],
   "source": [
    "print(a+b)"
   ]
  },
  {
   "cell_type": "code",
   "execution_count": 51,
   "id": "bc7d12d2",
   "metadata": {},
   "outputs": [
    {
     "name": "stdout",
     "output_type": "stream",
     "text": [
      "숫자 두 개 입력하세요!: 10/20\n"
     ]
    }
   ],
   "source": [
    "a, b = map(int, input('숫자 두 개 입력하세요!: ').split('/'))"
   ]
  },
  {
   "cell_type": "code",
   "execution_count": 52,
   "id": "fdf60407",
   "metadata": {},
   "outputs": [
    {
     "name": "stdout",
     "output_type": "stream",
     "text": [
      "30\n"
     ]
    }
   ],
   "source": [
    "print(a+b)"
   ]
  },
  {
   "cell_type": "markdown",
   "id": "7ca57f81",
   "metadata": {},
   "source": [
    "### 출력방법!\n",
    "- print()\n",
    "- print(값, 값, 값)\n",
    "- print(변수, 변수, 변수)"
   ]
  },
  {
   "cell_type": "code",
   "execution_count": 53,
   "id": "39546e99",
   "metadata": {},
   "outputs": [
    {
     "name": "stdout",
     "output_type": "stream",
     "text": [
      "10\n",
      "20\n"
     ]
    }
   ],
   "source": [
    "print(a)\n",
    "print(b)"
   ]
  },
  {
   "cell_type": "code",
   "execution_count": 54,
   "id": "ad07f022",
   "metadata": {},
   "outputs": [
    {
     "name": "stdout",
     "output_type": "stream",
     "text": [
      "10 20\n"
     ]
    }
   ],
   "source": [
    "print(a, b)"
   ]
  },
  {
   "cell_type": "code",
   "execution_count": 55,
   "id": "efbddb2f",
   "metadata": {},
   "outputs": [
    {
     "name": "stdout",
     "output_type": "stream",
     "text": [
      "10 20 30\n"
     ]
    }
   ],
   "source": [
    "print(10, 20, 30)"
   ]
  },
  {
   "cell_type": "code",
   "execution_count": 56,
   "id": "99ded641",
   "metadata": {},
   "outputs": [
    {
     "name": "stdout",
     "output_type": "stream",
     "text": [
      "hi hi1\n"
     ]
    }
   ],
   "source": [
    "# 문자열도 가능\n",
    "\n",
    "print('hi', 'hi1')"
   ]
  },
  {
   "cell_type": "markdown",
   "id": "d11d4eca",
   "metadata": {},
   "source": [
    "### sep 값 사이에 문자를 넣을 수 있다.\n",
    "-print(값1, 값2 sep='문자 또는 문자열'\n",
    "\n",
    "-print(변수1, 변수2 sep='문자 또는 문자열')"
   ]
  },
  {
   "cell_type": "code",
   "execution_count": 57,
   "id": "2dc3e613",
   "metadata": {},
   "outputs": [
    {
     "name": "stdout",
     "output_type": "stream",
     "text": [
      "1,2,3\n"
     ]
    }
   ],
   "source": [
    "print(1, 2, 3, sep=',')"
   ]
  },
  {
   "cell_type": "code",
   "execution_count": 58,
   "id": "bf3da1a9",
   "metadata": {},
   "outputs": [
    {
     "name": "stdout",
     "output_type": "stream",
     "text": [
      "1_2_3\n"
     ]
    }
   ],
   "source": [
    "print(1, 2, 3, sep='_')"
   ]
  },
  {
   "cell_type": "code",
   "execution_count": 59,
   "id": "5eb21570",
   "metadata": {},
   "outputs": [
    {
     "name": "stdout",
     "output_type": "stream",
     "text": [
      "1aa2aa3\n"
     ]
    }
   ],
   "source": [
    "print(1, 2, 3, sep='aa')"
   ]
  },
  {
   "cell_type": "code",
   "execution_count": 60,
   "id": "cce67e30",
   "metadata": {},
   "outputs": [
    {
     "name": "stdout",
     "output_type": "stream",
     "text": [
      "100x200\n"
     ]
    }
   ],
   "source": [
    "print(100, 200, sep='x')"
   ]
  },
  {
   "cell_type": "markdown",
   "id": "082ad7f4",
   "metadata": {},
   "source": [
    "### 줄바꿈!!"
   ]
  },
  {
   "cell_type": "code",
   "execution_count": 61,
   "id": "d25ff625",
   "metadata": {},
   "outputs": [
    {
     "name": "stdout",
     "output_type": "stream",
     "text": [
      "1\n",
      "2\n",
      "3\n"
     ]
    }
   ],
   "source": [
    "print(1)\n",
    "print(2)\n",
    "print(3)"
   ]
  },
  {
   "cell_type": "code",
   "execution_count": 62,
   "id": "61460b86",
   "metadata": {},
   "outputs": [
    {
     "name": "stdout",
     "output_type": "stream",
     "text": [
      "1\n",
      "2\n",
      "3\n",
      "10\n"
     ]
    }
   ],
   "source": [
    "print(1,2,3,10, sep='\\n')"
   ]
  },
  {
   "cell_type": "markdown",
   "id": "26a26a09",
   "metadata": {},
   "source": [
    "### end 사용\n",
    "- 파이썬에서 기본적으로 print로 출력하면 값 끝에 \\n을 붙이는 개념, end를 통해서 값이 붙여진다.\n",
    "- print(값, end='문자 또는 문자열')\n",
    "- print(변수, end='문자 또는 문자열')"
   ]
  },
  {
   "cell_type": "code",
   "execution_count": 63,
   "id": "f8beea11",
   "metadata": {},
   "outputs": [
    {
     "name": "stdout",
     "output_type": "stream",
     "text": [
      "123\n"
     ]
    }
   ],
   "source": [
    "print(1, end='')\n",
    "print(2, end='')\n",
    "print(3)"
   ]
  },
  {
   "cell_type": "code",
   "execution_count": 64,
   "id": "89818381",
   "metadata": {},
   "outputs": [
    {
     "name": "stdout",
     "output_type": "stream",
     "text": [
      "1*2*3\n"
     ]
    }
   ],
   "source": [
    "print(1, end='*')\n",
    "print(2, end='*')\n",
    "print(3)"
   ]
  }
 ],
 "metadata": {
  "kernelspec": {
   "display_name": "Python 3 (ipykernel)",
   "language": "python",
   "name": "python3"
  },
  "language_info": {
   "codemirror_mode": {
    "name": "ipython",
    "version": 3
   },
   "file_extension": ".py",
   "mimetype": "text/x-python",
   "name": "python",
   "nbconvert_exporter": "python",
   "pygments_lexer": "ipython3",
   "version": "3.9.12"
  }
 },
 "nbformat": 4,
 "nbformat_minor": 5
}
