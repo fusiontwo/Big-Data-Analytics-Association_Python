{
 "cells": [
  {
   "cell_type": "code",
   "execution_count": 1,
   "id": "bc673bfb",
   "metadata": {},
   "outputs": [],
   "source": [
    "# 리스트\n",
    "a = [1,'1',1.0]"
   ]
  },
  {
   "cell_type": "code",
   "execution_count": 2,
   "id": "e6a37aa9",
   "metadata": {},
   "outputs": [
    {
     "data": {
      "text/plain": [
       "[1, '1', 1.0]"
      ]
     },
     "execution_count": 2,
     "metadata": {},
     "output_type": "execute_result"
    }
   ],
   "source": [
    "a"
   ]
  },
  {
   "cell_type": "markdown",
   "id": "8f6328a0",
   "metadata": {},
   "source": [
    "### 시퀀스 자료형\n",
    "- 리스트 안에 값이 계속 쌓이면서 순서가 발생하게 된다.\n",
    "\n",
    "- 리스트, 튜플, range, 문자열 연속적으로 이어지는 자료형을 시퀀스라고 한다\n",
    "\n",
    "- 시퀀스 자료형\n",
    "- - list\n",
    "- - tuple\n",
    "- - range\n",
    "- - str"
   ]
  },
  {
   "cell_type": "code",
   "execution_count": 3,
   "id": "f69fff43",
   "metadata": {},
   "outputs": [],
   "source": [
    "a = [1,45,3,5,6,9,4,454,5343,22,545443,1]"
   ]
  },
  {
   "cell_type": "code",
   "execution_count": 4,
   "id": "e235373f",
   "metadata": {},
   "outputs": [
    {
     "data": {
      "text/plain": [
       "[1, 45, 3, 5, 6, 9, 4, 454, 5343, 22, 545443, 1]"
      ]
     },
     "execution_count": 4,
     "metadata": {},
     "output_type": "execute_result"
    }
   ],
   "source": [
    "a"
   ]
  },
  {
   "cell_type": "code",
   "execution_count": 7,
   "id": "d53c7347",
   "metadata": {},
   "outputs": [],
   "source": [
    "a = ['Hello','Python','a','c']"
   ]
  },
  {
   "cell_type": "code",
   "execution_count": 8,
   "id": "c7d7038f",
   "metadata": {},
   "outputs": [
    {
     "data": {
      "text/plain": [
       "['Hello', 'Python', 'a', 'c']"
      ]
     },
     "execution_count": 8,
     "metadata": {},
     "output_type": "execute_result"
    }
   ],
   "source": [
    "a"
   ]
  },
  {
   "cell_type": "markdown",
   "id": "543e308a",
   "metadata": {},
   "source": [
    "### 시퀀스 자료형의 기능"
   ]
  },
  {
   "cell_type": "code",
   "execution_count": 9,
   "id": "52f166b6",
   "metadata": {},
   "outputs": [],
   "source": [
    "a = [1,5,68,86468,99,45,256,14]"
   ]
  },
  {
   "cell_type": "code",
   "execution_count": 10,
   "id": "b948e292",
   "metadata": {},
   "outputs": [
    {
     "data": {
      "text/plain": [
       "True"
      ]
     },
     "execution_count": 10,
     "metadata": {},
     "output_type": "execute_result"
    }
   ],
   "source": [
    "# a 안에 99가 있니?\n",
    "99 in a # in을 이용!"
   ]
  },
  {
   "cell_type": "code",
   "execution_count": 11,
   "id": "3d9421e2",
   "metadata": {},
   "outputs": [
    {
     "data": {
      "text/plain": [
       "False"
      ]
     },
     "execution_count": 11,
     "metadata": {},
     "output_type": "execute_result"
    }
   ],
   "source": [
    "999 in a"
   ]
  },
  {
   "cell_type": "code",
   "execution_count": 12,
   "id": "18c72e00",
   "metadata": {},
   "outputs": [
    {
     "data": {
      "text/plain": [
       "True"
      ]
     },
     "execution_count": 12,
     "metadata": {},
     "output_type": "execute_result"
    }
   ],
   "source": [
    "999 not in a"
   ]
  },
  {
   "cell_type": "code",
   "execution_count": 14,
   "id": "3731206d",
   "metadata": {},
   "outputs": [
    {
     "data": {
      "text/plain": [
       "False"
      ]
     },
     "execution_count": 14,
     "metadata": {},
     "output_type": "execute_result"
    }
   ],
   "source": [
    "12 in (1,2,3,4,5,6) # 튜플도 동일하게 in 사용 가능"
   ]
  },
  {
   "cell_type": "code",
   "execution_count": 15,
   "id": "02d20551",
   "metadata": {},
   "outputs": [
    {
     "data": {
      "text/plain": [
       "True"
      ]
     },
     "execution_count": 15,
     "metadata": {},
     "output_type": "execute_result"
    }
   ],
   "source": [
    "1 in range(10)"
   ]
  },
  {
   "cell_type": "markdown",
   "id": "7b1f8426",
   "metadata": {},
   "source": [
    "### 시퀀스 객체의 특징\n",
    "- 연결 가능하다!\n",
    "\n",
    "- 시퀀스 객체1 + 시퀀스 객체2 가 서로 연결이 가능하다"
   ]
  },
  {
   "cell_type": "code",
   "execution_count": 16,
   "id": "8a5b7d7b",
   "metadata": {},
   "outputs": [],
   "source": [
    "a = [1,2,3]\n",
    "b = [4,5,6]"
   ]
  },
  {
   "cell_type": "code",
   "execution_count": 17,
   "id": "08f993b2",
   "metadata": {},
   "outputs": [
    {
     "name": "stdout",
     "output_type": "stream",
     "text": [
      "[1, 2, 3]\n",
      "[4, 5, 6]\n"
     ]
    }
   ],
   "source": [
    "print(a)\n",
    "print(b)"
   ]
  },
  {
   "cell_type": "code",
   "execution_count": 19,
   "id": "7770a8b5",
   "metadata": {},
   "outputs": [],
   "source": [
    "x = 1\n",
    "y = 4"
   ]
  },
  {
   "cell_type": "code",
   "execution_count": 23,
   "id": "d8aa7cd4",
   "metadata": {},
   "outputs": [
    {
     "data": {
      "text/plain": [
       "5"
      ]
     },
     "execution_count": 23,
     "metadata": {},
     "output_type": "execute_result"
    }
   ],
   "source": [
    "x+y # 일반 덧셈"
   ]
  },
  {
   "cell_type": "code",
   "execution_count": 22,
   "id": "04040e07",
   "metadata": {},
   "outputs": [
    {
     "data": {
      "text/plain": [
       "[1, 2, 3, 4, 5, 6]"
      ]
     },
     "execution_count": 22,
     "metadata": {},
     "output_type": "execute_result"
    }
   ],
   "source": [
    "a+b # 시퀀스 객체는 연결이 된다."
   ]
  },
  {
   "cell_type": "code",
   "execution_count": 24,
   "id": "a5dd225a",
   "metadata": {},
   "outputs": [
    {
     "data": {
      "text/plain": [
       "[1, 2, 3, 4, 5, 6]"
      ]
     },
     "execution_count": 24,
     "metadata": {},
     "output_type": "execute_result"
    }
   ],
   "source": [
    "[1,2,3]+[4,5,6]"
   ]
  },
  {
   "cell_type": "code",
   "execution_count": 26,
   "id": "a968b638",
   "metadata": {},
   "outputs": [
    {
     "data": {
      "text/plain": [
       "[0, 1, 2, 3, 4, 5, 6, 7, 8, 9, 11, 12, 13, 14, 15, 16, 17, 18, 19]"
      ]
     },
     "execution_count": 26,
     "metadata": {},
     "output_type": "execute_result"
    }
   ],
   "source": [
    "# range를 이용해서 시퀀스 객체를 연결할 수 있음\n",
    "list(range(0,10))+list(range(11,20)) # 시퀀스 객체 더해지는 현상!"
   ]
  },
  {
   "cell_type": "code",
   "execution_count": 28,
   "id": "d5d7fd87",
   "metadata": {},
   "outputs": [
    {
     "data": {
      "text/plain": [
       "'여러분, 과제를 꼭 해주세요 제발!'"
      ]
     },
     "execution_count": 28,
     "metadata": {},
     "output_type": "execute_result"
    }
   ],
   "source": [
    "# 문자열도 가능한가요? YES\n",
    "'여러분,'+' 과제를 꼭 해주세요 제발!'"
   ]
  },
  {
   "cell_type": "markdown",
   "id": "91e8e3a5",
   "metadata": {},
   "source": [
    "### 시퀀스 객체 특징\n",
    "- 반복하기\n",
    "\n",
    "- 시퀀스 객체 * 정수\n",
    "- 정수 * 시퀀스 객체"
   ]
  },
  {
   "cell_type": "code",
   "execution_count": 29,
   "id": "8e91d846",
   "metadata": {},
   "outputs": [],
   "source": [
    "a = [1,2,3]"
   ]
  },
  {
   "cell_type": "code",
   "execution_count": 31,
   "id": "23dcb637",
   "metadata": {},
   "outputs": [
    {
     "data": {
      "text/plain": [
       "[1, 2, 3, 1, 2, 3, 1, 2, 3]"
      ]
     },
     "execution_count": 31,
     "metadata": {},
     "output_type": "execute_result"
    }
   ],
   "source": [
    "a*3"
   ]
  },
  {
   "cell_type": "code",
   "execution_count": 32,
   "id": "4435c828",
   "metadata": {},
   "outputs": [
    {
     "data": {
      "text/plain": [
       "[4, 5, 6, 4, 5, 6, 4, 5, 6]"
      ]
     },
     "execution_count": 32,
     "metadata": {},
     "output_type": "execute_result"
    }
   ],
   "source": [
    "b*3"
   ]
  },
  {
   "cell_type": "code",
   "execution_count": 33,
   "id": "e1cb7306",
   "metadata": {},
   "outputs": [
    {
     "data": {
      "text/plain": [
       "[1,\n",
       " 2,\n",
       " 3,\n",
       " 4,\n",
       " 5,\n",
       " 6,\n",
       " 1,\n",
       " 2,\n",
       " 3,\n",
       " 4,\n",
       " 5,\n",
       " 6,\n",
       " 1,\n",
       " 2,\n",
       " 3,\n",
       " 4,\n",
       " 5,\n",
       " 6,\n",
       " 1,\n",
       " 2,\n",
       " 3,\n",
       " 4,\n",
       " 5,\n",
       " 6,\n",
       " 1,\n",
       " 2,\n",
       " 3,\n",
       " 4,\n",
       " 5,\n",
       " 6]"
      ]
     },
     "execution_count": 33,
     "metadata": {},
     "output_type": "execute_result"
    }
   ],
   "source": [
    "(a+b) * 5"
   ]
  },
  {
   "cell_type": "code",
   "execution_count": 34,
   "id": "d18d1ef6",
   "metadata": {},
   "outputs": [
    {
     "data": {
      "text/plain": [
       "[1, 2, 3]"
      ]
     },
     "execution_count": 34,
     "metadata": {},
     "output_type": "execute_result"
    }
   ],
   "source": [
    "a"
   ]
  },
  {
   "cell_type": "code",
   "execution_count": 35,
   "id": "972ce3aa",
   "metadata": {},
   "outputs": [
    {
     "data": {
      "text/plain": [
       "[4, 5, 6]"
      ]
     },
     "execution_count": 35,
     "metadata": {},
     "output_type": "execute_result"
    }
   ],
   "source": [
    "b"
   ]
  },
  {
   "cell_type": "code",
   "execution_count": 36,
   "id": "ca1bda63",
   "metadata": {},
   "outputs": [
    {
     "ename": "TypeError",
     "evalue": "can't multiply sequence by non-int of type 'list'",
     "output_type": "error",
     "traceback": [
      "\u001b[1;31m---------------------------------------------------------------------------\u001b[0m",
      "\u001b[1;31mTypeError\u001b[0m                                 Traceback (most recent call last)",
      "Input \u001b[1;32mIn [36]\u001b[0m, in \u001b[0;36m<cell line: 1>\u001b[1;34m()\u001b[0m\n\u001b[1;32m----> 1\u001b[0m \u001b[43ma\u001b[49m\u001b[38;5;241;43m*\u001b[39;49m\u001b[43mb\u001b[49m\n",
      "\u001b[1;31mTypeError\u001b[0m: can't multiply sequence by non-int of type 'list'"
     ]
    }
   ],
   "source": [
    "a*b"
   ]
  },
  {
   "cell_type": "code",
   "execution_count": 37,
   "id": "8b5f8854",
   "metadata": {},
   "outputs": [
    {
     "ename": "TypeError",
     "evalue": "unsupported operand type(s) for -: 'list' and 'list'",
     "output_type": "error",
     "traceback": [
      "\u001b[1;31m---------------------------------------------------------------------------\u001b[0m",
      "\u001b[1;31mTypeError\u001b[0m                                 Traceback (most recent call last)",
      "Input \u001b[1;32mIn [37]\u001b[0m, in \u001b[0;36m<cell line: 1>\u001b[1;34m()\u001b[0m\n\u001b[1;32m----> 1\u001b[0m \u001b[43ma\u001b[49m\u001b[38;5;241;43m-\u001b[39;49m\u001b[43mb\u001b[49m\n",
      "\u001b[1;31mTypeError\u001b[0m: unsupported operand type(s) for -: 'list' and 'list'"
     ]
    }
   ],
   "source": [
    "a-b"
   ]
  },
  {
   "cell_type": "markdown",
   "id": "bd4f583a",
   "metadata": {},
   "source": [
    "### 시퀀스 객체 요소 개수 구하기\n",
    "\n",
    "- len(시퀀스 객체)"
   ]
  },
  {
   "cell_type": "code",
   "execution_count": 41,
   "id": "721606da",
   "metadata": {},
   "outputs": [],
   "source": [
    "a = [1,2,3]\n",
    "b = [i for i in range(100)]"
   ]
  },
  {
   "cell_type": "code",
   "execution_count": 39,
   "id": "35e41eba",
   "metadata": {},
   "outputs": [
    {
     "data": {
      "text/plain": [
       "[1, 2, 3]"
      ]
     },
     "execution_count": 39,
     "metadata": {},
     "output_type": "execute_result"
    }
   ],
   "source": [
    "a"
   ]
  },
  {
   "cell_type": "code",
   "execution_count": 42,
   "id": "55a145d3",
   "metadata": {},
   "outputs": [
    {
     "data": {
      "text/plain": [
       "[0,\n",
       " 1,\n",
       " 2,\n",
       " 3,\n",
       " 4,\n",
       " 5,\n",
       " 6,\n",
       " 7,\n",
       " 8,\n",
       " 9,\n",
       " 10,\n",
       " 11,\n",
       " 12,\n",
       " 13,\n",
       " 14,\n",
       " 15,\n",
       " 16,\n",
       " 17,\n",
       " 18,\n",
       " 19,\n",
       " 20,\n",
       " 21,\n",
       " 22,\n",
       " 23,\n",
       " 24,\n",
       " 25,\n",
       " 26,\n",
       " 27,\n",
       " 28,\n",
       " 29,\n",
       " 30,\n",
       " 31,\n",
       " 32,\n",
       " 33,\n",
       " 34,\n",
       " 35,\n",
       " 36,\n",
       " 37,\n",
       " 38,\n",
       " 39,\n",
       " 40,\n",
       " 41,\n",
       " 42,\n",
       " 43,\n",
       " 44,\n",
       " 45,\n",
       " 46,\n",
       " 47,\n",
       " 48,\n",
       " 49,\n",
       " 50,\n",
       " 51,\n",
       " 52,\n",
       " 53,\n",
       " 54,\n",
       " 55,\n",
       " 56,\n",
       " 57,\n",
       " 58,\n",
       " 59,\n",
       " 60,\n",
       " 61,\n",
       " 62,\n",
       " 63,\n",
       " 64,\n",
       " 65,\n",
       " 66,\n",
       " 67,\n",
       " 68,\n",
       " 69,\n",
       " 70,\n",
       " 71,\n",
       " 72,\n",
       " 73,\n",
       " 74,\n",
       " 75,\n",
       " 76,\n",
       " 77,\n",
       " 78,\n",
       " 79,\n",
       " 80,\n",
       " 81,\n",
       " 82,\n",
       " 83,\n",
       " 84,\n",
       " 85,\n",
       " 86,\n",
       " 87,\n",
       " 88,\n",
       " 89,\n",
       " 90,\n",
       " 91,\n",
       " 92,\n",
       " 93,\n",
       " 94,\n",
       " 95,\n",
       " 96,\n",
       " 97,\n",
       " 98,\n",
       " 99]"
      ]
     },
     "execution_count": 42,
     "metadata": {},
     "output_type": "execute_result"
    }
   ],
   "source": [
    "b"
   ]
  },
  {
   "cell_type": "code",
   "execution_count": 43,
   "id": "e9df713b",
   "metadata": {},
   "outputs": [
    {
     "data": {
      "text/plain": [
       "3"
      ]
     },
     "execution_count": 43,
     "metadata": {},
     "output_type": "execute_result"
    }
   ],
   "source": [
    "len(a)"
   ]
  },
  {
   "cell_type": "code",
   "execution_count": 44,
   "id": "a4d35403",
   "metadata": {},
   "outputs": [
    {
     "data": {
      "text/plain": [
       "100"
      ]
     },
     "execution_count": 44,
     "metadata": {},
     "output_type": "execute_result"
    }
   ],
   "source": [
    "len(b)"
   ]
  },
  {
   "cell_type": "code",
   "execution_count": 47,
   "id": "db5676da",
   "metadata": {},
   "outputs": [
    {
     "data": {
      "text/plain": [
       "5"
      ]
     },
     "execution_count": 47,
     "metadata": {},
     "output_type": "execute_result"
    }
   ],
   "source": [
    "len(range(0,10,2)) # 0,2,4,6,8"
   ]
  },
  {
   "cell_type": "code",
   "execution_count": 48,
   "id": "ac3ae478",
   "metadata": {},
   "outputs": [],
   "source": [
    "c = 'Hello, Python! 여러분 과제를 꼭 해주세요!!'"
   ]
  },
  {
   "cell_type": "code",
   "execution_count": 50,
   "id": "d500dcc6",
   "metadata": {},
   "outputs": [
    {
     "data": {
      "text/plain": [
       "31"
      ]
     },
     "execution_count": 50,
     "metadata": {},
     "output_type": "execute_result"
    }
   ],
   "source": [
    "len(c) # 문자열 개수도 알 수 있다."
   ]
  },
  {
   "cell_type": "markdown",
   "id": "c224c96e",
   "metadata": {},
   "source": [
    "### 인덱스 (너무 중요함)\n",
    "- 시퀀스 객체의 요소의 순서\n",
    "- 그 순서를 인덱스라고 한다!\n",
    "\n",
    "\n",
    "- 시퀀스 객체[인덱스]"
   ]
  },
  {
   "cell_type": "code",
   "execution_count": 53,
   "id": "415154ec",
   "metadata": {},
   "outputs": [],
   "source": [
    "a = [1,2,3,4,5] # 인덱스는 0부터 시작!"
   ]
  },
  {
   "cell_type": "code",
   "execution_count": 52,
   "id": "8894f7f0",
   "metadata": {},
   "outputs": [
    {
     "data": {
      "text/plain": [
       "[1, 2, 3, 4, 5]"
      ]
     },
     "execution_count": 52,
     "metadata": {},
     "output_type": "execute_result"
    }
   ],
   "source": [
    "a"
   ]
  },
  {
   "cell_type": "code",
   "execution_count": 54,
   "id": "3f408c95",
   "metadata": {},
   "outputs": [
    {
     "data": {
      "text/plain": [
       "1"
      ]
     },
     "execution_count": 54,
     "metadata": {},
     "output_type": "execute_result"
    }
   ],
   "source": [
    "a[0]"
   ]
  },
  {
   "cell_type": "code",
   "execution_count": 55,
   "id": "19f8ed54",
   "metadata": {},
   "outputs": [
    {
     "data": {
      "text/plain": [
       "2"
      ]
     },
     "execution_count": 55,
     "metadata": {},
     "output_type": "execute_result"
    }
   ],
   "source": [
    "a[1]"
   ]
  },
  {
   "cell_type": "code",
   "execution_count": 56,
   "id": "a114a739",
   "metadata": {},
   "outputs": [
    {
     "data": {
      "text/plain": [
       "5"
      ]
     },
     "execution_count": 56,
     "metadata": {},
     "output_type": "execute_result"
    }
   ],
   "source": [
    "a[4]"
   ]
  },
  {
   "cell_type": "code",
   "execution_count": 58,
   "id": "6573d9d7",
   "metadata": {},
   "outputs": [
    {
     "ename": "IndexError",
     "evalue": "list index out of range",
     "output_type": "error",
     "traceback": [
      "\u001b[1;31m---------------------------------------------------------------------------\u001b[0m",
      "\u001b[1;31mIndexError\u001b[0m                                Traceback (most recent call last)",
      "Input \u001b[1;32mIn [58]\u001b[0m, in \u001b[0;36m<cell line: 1>\u001b[1;34m()\u001b[0m\n\u001b[1;32m----> 1\u001b[0m \u001b[43ma\u001b[49m\u001b[43m[\u001b[49m\u001b[38;5;241;43m5\u001b[39;49m\u001b[43m]\u001b[49m\n",
      "\u001b[1;31mIndexError\u001b[0m: list index out of range"
     ]
    }
   ],
   "source": [
    "a[5] # range 범위를 넘어가면 오류"
   ]
  },
  {
   "cell_type": "markdown",
   "id": "5b439d74",
   "metadata": {},
   "source": [
    "#### 튜플도 동일하게 적용!"
   ]
  },
  {
   "cell_type": "code",
   "execution_count": 59,
   "id": "6f6bd3ea",
   "metadata": {},
   "outputs": [],
   "source": [
    "b = (1,2,3,4,5)"
   ]
  },
  {
   "cell_type": "code",
   "execution_count": 60,
   "id": "47e20790",
   "metadata": {},
   "outputs": [
    {
     "data": {
      "text/plain": [
       "2"
      ]
     },
     "execution_count": 60,
     "metadata": {},
     "output_type": "execute_result"
    }
   ],
   "source": [
    "b[1]"
   ]
  },
  {
   "cell_type": "code",
   "execution_count": 63,
   "id": "e3cba5ac",
   "metadata": {},
   "outputs": [
    {
     "data": {
      "text/plain": [
       "6"
      ]
     },
     "execution_count": 63,
     "metadata": {},
     "output_type": "execute_result"
    }
   ],
   "source": [
    "r = range(0,10,2)\n",
    "r[3]"
   ]
  },
  {
   "cell_type": "code",
   "execution_count": 64,
   "id": "352d1ba2",
   "metadata": {},
   "outputs": [],
   "source": [
    "c = '여러분 피곤하시죠 ㅠㅠ! 30분 남았어요!'"
   ]
  },
  {
   "cell_type": "code",
   "execution_count": 65,
   "id": "f55310d8",
   "metadata": {},
   "outputs": [
    {
     "data": {
      "text/plain": [
       "'분'"
      ]
     },
     "execution_count": 65,
     "metadata": {},
     "output_type": "execute_result"
    }
   ],
   "source": [
    "c[16]"
   ]
  },
  {
   "cell_type": "code",
   "execution_count": 66,
   "id": "256d28a8",
   "metadata": {},
   "outputs": [
    {
     "data": {
      "text/plain": [
       "5"
      ]
     },
     "execution_count": 66,
     "metadata": {},
     "output_type": "execute_result"
    }
   ],
   "source": [
    "a[-1] # 음수는 맨 끝 값"
   ]
  },
  {
   "cell_type": "code",
   "execution_count": 67,
   "id": "2acc5bb9",
   "metadata": {},
   "outputs": [
    {
     "data": {
      "text/plain": [
       "4"
      ]
     },
     "execution_count": 67,
     "metadata": {},
     "output_type": "execute_result"
    }
   ],
   "source": [
    "a[-2]"
   ]
  },
  {
   "cell_type": "code",
   "execution_count": 68,
   "id": "423f3f94",
   "metadata": {},
   "outputs": [
    {
     "data": {
      "text/plain": [
       "1"
      ]
     },
     "execution_count": 68,
     "metadata": {},
     "output_type": "execute_result"
    }
   ],
   "source": [
    "a[-5]"
   ]
  },
  {
   "cell_type": "code",
   "execution_count": 69,
   "id": "f9704673",
   "metadata": {},
   "outputs": [
    {
     "data": {
      "text/plain": [
       "[1, 2, 3, 4, 5]"
      ]
     },
     "execution_count": 69,
     "metadata": {},
     "output_type": "execute_result"
    }
   ],
   "source": [
    "a"
   ]
  },
  {
   "cell_type": "code",
   "execution_count": 70,
   "id": "2fc74ca2",
   "metadata": {},
   "outputs": [
    {
     "data": {
      "text/plain": [
       "5"
      ]
     },
     "execution_count": 70,
     "metadata": {},
     "output_type": "execute_result"
    }
   ],
   "source": [
    "len(a)"
   ]
  },
  {
   "cell_type": "markdown",
   "id": "1eea675a",
   "metadata": {},
   "source": [
    "### 끝 인덱스의 값을 찾을 때 len 함수를 사용한다!"
   ]
  },
  {
   "cell_type": "code",
   "execution_count": 71,
   "id": "4f39820f",
   "metadata": {},
   "outputs": [
    {
     "ename": "IndexError",
     "evalue": "list index out of range",
     "output_type": "error",
     "traceback": [
      "\u001b[1;31m---------------------------------------------------------------------------\u001b[0m",
      "\u001b[1;31mIndexError\u001b[0m                                Traceback (most recent call last)",
      "Input \u001b[1;32mIn [71]\u001b[0m, in \u001b[0;36m<cell line: 1>\u001b[1;34m()\u001b[0m\n\u001b[1;32m----> 1\u001b[0m \u001b[43ma\u001b[49m\u001b[43m[\u001b[49m\u001b[38;5;28;43mlen\u001b[39;49m\u001b[43m(\u001b[49m\u001b[43ma\u001b[49m\u001b[43m)\u001b[49m\u001b[43m]\u001b[49m\n",
      "\u001b[1;31mIndexError\u001b[0m: list index out of range"
     ]
    }
   ],
   "source": [
    "a[len(a)] "
   ]
  },
  {
   "cell_type": "code",
   "execution_count": 72,
   "id": "60369422",
   "metadata": {},
   "outputs": [
    {
     "data": {
      "text/plain": [
       "5"
      ]
     },
     "execution_count": 72,
     "metadata": {},
     "output_type": "execute_result"
    }
   ],
   "source": [
    "a[len(a)-1]"
   ]
  },
  {
   "cell_type": "markdown",
   "id": "8c85d271",
   "metadata": {},
   "source": [
    "### 인덱스를 이용해서 요소에 값을 할당\n",
    "\n",
    "- 시퀀스 객체[인덱스] = 값"
   ]
  },
  {
   "cell_type": "code",
   "execution_count": 74,
   "id": "d7991de4",
   "metadata": {},
   "outputs": [
    {
     "data": {
      "text/plain": [
       "[1, 2, 3, 4, 5]"
      ]
     },
     "execution_count": 74,
     "metadata": {},
     "output_type": "execute_result"
    }
   ],
   "source": [
    "a"
   ]
  },
  {
   "cell_type": "code",
   "execution_count": 77,
   "id": "2e8a53be",
   "metadata": {},
   "outputs": [],
   "source": [
    "a[0] = 100\n",
    "a[4] = 200 # 인덱스에 다른 값을 할당"
   ]
  },
  {
   "cell_type": "code",
   "execution_count": 76,
   "id": "f92ab611",
   "metadata": {},
   "outputs": [
    {
     "data": {
      "text/plain": [
       "[100, 2, 3, 4, 200]"
      ]
     },
     "execution_count": 76,
     "metadata": {},
     "output_type": "execute_result"
    }
   ],
   "source": [
    "a"
   ]
  },
  {
   "cell_type": "code",
   "execution_count": 78,
   "id": "abfc7861",
   "metadata": {},
   "outputs": [
    {
     "ename": "IndexError",
     "evalue": "list assignment index out of range",
     "output_type": "error",
     "traceback": [
      "\u001b[1;31m---------------------------------------------------------------------------\u001b[0m",
      "\u001b[1;31mIndexError\u001b[0m                                Traceback (most recent call last)",
      "Input \u001b[1;32mIn [78]\u001b[0m, in \u001b[0;36m<cell line: 1>\u001b[1;34m()\u001b[0m\n\u001b[1;32m----> 1\u001b[0m a[\u001b[38;5;241m6\u001b[39m] \u001b[38;5;241m=\u001b[39m \u001b[38;5;241m10\u001b[39m\n",
      "\u001b[1;31mIndexError\u001b[0m: list assignment index out of range"
     ]
    }
   ],
   "source": [
    "a[6] = 10 # 인덱스 범위를 넘어가서 할당하면 오류"
   ]
  },
  {
   "cell_type": "markdown",
   "id": "c40720cc",
   "metadata": {},
   "source": [
    "#### 인덱스를 이용해서 요소를 지울 때\n",
    "- del 시퀀스 객체[인덱스]"
   ]
  },
  {
   "cell_type": "code",
   "execution_count": 79,
   "id": "e46e2315",
   "metadata": {},
   "outputs": [],
   "source": [
    "del a[0]"
   ]
  },
  {
   "cell_type": "code",
   "execution_count": 80,
   "id": "b3e83db6",
   "metadata": {},
   "outputs": [
    {
     "data": {
      "text/plain": [
       "[2, 3, 4, 200]"
      ]
     },
     "execution_count": 80,
     "metadata": {},
     "output_type": "execute_result"
    }
   ],
   "source": [
    "a"
   ]
  },
  {
   "cell_type": "markdown",
   "id": "34729335",
   "metadata": {},
   "source": [
    "### 슬라이스 사용하기! 너무 너무 중요함!\n",
    "- 시퀀스 객체[시작 인덱스:끝 인덱스]"
   ]
  },
  {
   "cell_type": "code",
   "execution_count": 81,
   "id": "b3b204fd",
   "metadata": {},
   "outputs": [],
   "source": [
    "a = [1,2,3,4,5,56,7,7,8,86,4,2,34234,1231]"
   ]
  },
  {
   "cell_type": "code",
   "execution_count": 82,
   "id": "56122544",
   "metadata": {},
   "outputs": [
    {
     "data": {
      "text/plain": [
       "[1, 2, 3, 4, 5, 56, 7, 7, 8, 86, 4, 2, 34234, 1231]"
      ]
     },
     "execution_count": 82,
     "metadata": {},
     "output_type": "execute_result"
    }
   ],
   "source": [
    "a"
   ]
  },
  {
   "cell_type": "code",
   "execution_count": 85,
   "id": "df2a25b3",
   "metadata": {},
   "outputs": [
    {
     "data": {
      "text/plain": [
       "[1, 2, 3, 4, 5]"
      ]
     },
     "execution_count": 85,
     "metadata": {},
     "output_type": "execute_result"
    }
   ],
   "source": [
    "a[0:5] # 앞의 값 이상, 뒤의 값 미만"
   ]
  },
  {
   "cell_type": "code",
   "execution_count": 86,
   "id": "0ce09b3c",
   "metadata": {},
   "outputs": [
    {
     "data": {
      "text/plain": [
       "[1, 2]"
      ]
     },
     "execution_count": 86,
     "metadata": {},
     "output_type": "execute_result"
    }
   ],
   "source": [
    "a[0:2]"
   ]
  },
  {
   "cell_type": "code",
   "execution_count": 87,
   "id": "29de553d",
   "metadata": {},
   "outputs": [
    {
     "data": {
      "text/plain": [
       "[0, 1, 2, 3, 4, 5, 6, 7, 8, 9]"
      ]
     },
     "execution_count": 87,
     "metadata": {},
     "output_type": "execute_result"
    }
   ],
   "source": [
    "list(range(10))"
   ]
  },
  {
   "cell_type": "code",
   "execution_count": 88,
   "id": "d0dac9d4",
   "metadata": {},
   "outputs": [
    {
     "data": {
      "text/plain": [
       "[2]"
      ]
     },
     "execution_count": 88,
     "metadata": {},
     "output_type": "execute_result"
    }
   ],
   "source": [
    "a[1:2]"
   ]
  },
  {
   "cell_type": "code",
   "execution_count": 90,
   "id": "e23054b8",
   "metadata": {},
   "outputs": [
    {
     "data": {
      "text/plain": [
       "[1, 2, 3, 4, 5, 56, 7, 7, 8, 86, 4, 2, 34234, 1231]"
      ]
     },
     "execution_count": 90,
     "metadata": {},
     "output_type": "execute_result"
    }
   ],
   "source": [
    "a[0:55] # 슬라이싱할 때 끝의 인덱스는 범위를 넘어도 오류 X"
   ]
  },
  {
   "cell_type": "code",
   "execution_count": 91,
   "id": "f210fc3d",
   "metadata": {},
   "outputs": [
    {
     "data": {
      "text/plain": [
       "[1, 2, 3, 4, 5, 56, 7, 7, 8, 86, 4, 2, 34234, 1231]"
      ]
     },
     "execution_count": 91,
     "metadata": {},
     "output_type": "execute_result"
    }
   ],
   "source": [
    "a[0:5555]"
   ]
  },
  {
   "cell_type": "code",
   "execution_count": 93,
   "id": "f6a2b89c",
   "metadata": {},
   "outputs": [
    {
     "data": {
      "text/plain": [
       "[4, 5, 56]"
      ]
     },
     "execution_count": 93,
     "metadata": {},
     "output_type": "execute_result"
    }
   ],
   "source": [
    "a[3:6]"
   ]
  },
  {
   "cell_type": "code",
   "execution_count": 95,
   "id": "76a9254a",
   "metadata": {},
   "outputs": [
    {
     "data": {
      "text/plain": [
       "[5, 56, 7, 7, 8, 86, 4, 2, 34234]"
      ]
     },
     "execution_count": 95,
     "metadata": {},
     "output_type": "execute_result"
    }
   ],
   "source": [
    "a[4:-1]"
   ]
  },
  {
   "cell_type": "code",
   "execution_count": 96,
   "id": "da6d283f",
   "metadata": {},
   "outputs": [
    {
     "data": {
      "text/plain": [
       "34234"
      ]
     },
     "execution_count": 96,
     "metadata": {},
     "output_type": "execute_result"
    }
   ],
   "source": [
    "a[-2]"
   ]
  },
  {
   "cell_type": "code",
   "execution_count": 97,
   "id": "a2f6d29a",
   "metadata": {},
   "outputs": [
    {
     "data": {
      "text/plain": [
       "[1, 2, 3, 4, 5, 56, 7, 7, 8, 86, 4, 2, 34234, 1231]"
      ]
     },
     "execution_count": 97,
     "metadata": {},
     "output_type": "execute_result"
    }
   ],
   "source": [
    "a"
   ]
  },
  {
   "cell_type": "markdown",
   "id": "c14127d7",
   "metadata": {},
   "source": [
    "### 증가폭도 가능\n",
    "- range와 같다"
   ]
  },
  {
   "cell_type": "code",
   "execution_count": 98,
   "id": "3a26c774",
   "metadata": {},
   "outputs": [
    {
     "data": {
      "text/plain": [
       "[1, 3, 5]"
      ]
     },
     "execution_count": 98,
     "metadata": {},
     "output_type": "execute_result"
    }
   ],
   "source": [
    "a[0:6:2]"
   ]
  },
  {
   "cell_type": "code",
   "execution_count": 99,
   "id": "4520f72c",
   "metadata": {},
   "outputs": [
    {
     "data": {
      "text/plain": [
       "[1, 2, 3, 4, 5, 56, 7, 7, 8, 86, 4, 2, 34234, 1231]"
      ]
     },
     "execution_count": 99,
     "metadata": {},
     "output_type": "execute_result"
    }
   ],
   "source": [
    "a"
   ]
  },
  {
   "cell_type": "markdown",
   "id": "58e1055f",
   "metadata": {},
   "source": [
    "### 인덱스 생략하기\n",
    "- 인덱스를 생략한 건 전체 길이를 알 필요 없이 그냥 다 보여달라!"
   ]
  },
  {
   "cell_type": "code",
   "execution_count": 100,
   "id": "f3c64356",
   "metadata": {},
   "outputs": [
    {
     "data": {
      "text/plain": [
       "[1, 2, 3, 4, 5, 56, 7, 7, 8, 86, 4, 2, 34234, 1231]"
      ]
     },
     "execution_count": 100,
     "metadata": {},
     "output_type": "execute_result"
    }
   ],
   "source": [
    "a[0:] # 생략했다."
   ]
  },
  {
   "cell_type": "code",
   "execution_count": 101,
   "id": "6e171394",
   "metadata": {},
   "outputs": [
    {
     "data": {
      "text/plain": [
       "[1, 2, 3, 4, 5, 56, 7]"
      ]
     },
     "execution_count": 101,
     "metadata": {},
     "output_type": "execute_result"
    }
   ],
   "source": [
    "a[:7]"
   ]
  },
  {
   "cell_type": "code",
   "execution_count": 103,
   "id": "4aaac02d",
   "metadata": {},
   "outputs": [
    {
     "data": {
      "text/plain": [
       "[1, 2, 3, 4, 5, 56, 7, 7, 8, 86, 4, 2, 34234, 1231]"
      ]
     },
     "execution_count": 103,
     "metadata": {},
     "output_type": "execute_result"
    }
   ],
   "source": [
    "a[:] # 그냥 전체를 다 보여달라"
   ]
  },
  {
   "cell_type": "code",
   "execution_count": 105,
   "id": "1cb7f8dc",
   "metadata": {},
   "outputs": [
    {
     "data": {
      "text/plain": [
       "[1, 3, 5, 7]"
      ]
     },
     "execution_count": 105,
     "metadata": {},
     "output_type": "execute_result"
    }
   ],
   "source": [
    "a[:7:2] # 인덱스 0부터 6까지 2씩 증가폭으로 출력"
   ]
  },
  {
   "cell_type": "code",
   "execution_count": 107,
   "id": "55257dd2",
   "metadata": {},
   "outputs": [
    {
     "data": {
      "text/plain": [
       "[1, 2, 3, 4, 5, 56, 7, 7, 8, 86, 4, 2, 34234, 1231]"
      ]
     },
     "execution_count": 107,
     "metadata": {},
     "output_type": "execute_result"
    }
   ],
   "source": [
    "a[::] # 처음, 끝, 증가폭 모두 필요없이 다 보여달라"
   ]
  },
  {
   "cell_type": "code",
   "execution_count": 108,
   "id": "3dd1c2f8",
   "metadata": {},
   "outputs": [
    {
     "data": {
      "text/plain": [
       "14"
      ]
     },
     "execution_count": 108,
     "metadata": {},
     "output_type": "execute_result"
    }
   ],
   "source": [
    "len(a)"
   ]
  },
  {
   "cell_type": "code",
   "execution_count": 109,
   "id": "226decdd",
   "metadata": {},
   "outputs": [
    {
     "data": {
      "text/plain": [
       "1231"
      ]
     },
     "execution_count": 109,
     "metadata": {},
     "output_type": "execute_result"
    }
   ],
   "source": [
    "a[len(a)-1]"
   ]
  },
  {
   "cell_type": "code",
   "execution_count": 110,
   "id": "305644b7",
   "metadata": {},
   "outputs": [
    {
     "data": {
      "text/plain": [
       "[1, 2, 3, 4, 5, 56, 7, 7, 8, 86, 4, 2, 34234, 1231]"
      ]
     },
     "execution_count": 110,
     "metadata": {},
     "output_type": "execute_result"
    }
   ],
   "source": [
    "a[:len(a)]"
   ]
  },
  {
   "cell_type": "code",
   "execution_count": 112,
   "id": "a86b47c1",
   "metadata": {},
   "outputs": [
    {
     "data": {
      "text/plain": [
       "[1, 2, 3, 4, 5, 56, 7, 7, 8, 86, 4, 2, 34234, 1231]"
      ]
     },
     "execution_count": 112,
     "metadata": {},
     "output_type": "execute_result"
    }
   ],
   "source": [
    "a[:5555]"
   ]
  },
  {
   "cell_type": "markdown",
   "id": "7b51d8dc",
   "metadata": {},
   "source": [
    "## 맨 끝 값이 꼭 인덱스의 끝 값이 아니더라도(초과하더라도) 끝에 있는 인덱스라고 생각하고 값을 반환한다."
   ]
  },
  {
   "cell_type": "markdown",
   "id": "1aa9b873",
   "metadata": {},
   "source": [
    "## 과제1. 튜플을 위에 배운 내용 동일하게 적용해서 반환 값에 대한 설명을 주석처리로 진행해주세요!\n",
    "## 과제2. 문자열도 위에 배운 내용 동일하게~"
   ]
  },
  {
   "cell_type": "markdown",
   "id": "b5bd106d",
   "metadata": {},
   "source": [
    "### 슬라이스로 할당하기!\n",
    "- 시퀀스 객체[시작인덱스:끝인덱스]=시퀀스 객체"
   ]
  },
  {
   "cell_type": "code",
   "execution_count": 121,
   "id": "d5dd940f",
   "metadata": {},
   "outputs": [],
   "source": [
    "a = [1,2,3,4,5,56,7,7,8,86,4,2,34234,1231]"
   ]
  },
  {
   "cell_type": "code",
   "execution_count": 122,
   "id": "c54c978a",
   "metadata": {},
   "outputs": [
    {
     "data": {
      "text/plain": [
       "[1, 2, 3, 4, 5]"
      ]
     },
     "execution_count": 122,
     "metadata": {},
     "output_type": "execute_result"
    }
   ],
   "source": [
    "a[0:5]"
   ]
  },
  {
   "cell_type": "code",
   "execution_count": 123,
   "id": "edc48eac",
   "metadata": {},
   "outputs": [],
   "source": [
    "a[0:5] = ['a','b','c','d'] # 슬라이싱한 값보다 작은 인덱스 수의 값을 넣어도 매칭이 된다."
   ]
  },
  {
   "cell_type": "code",
   "execution_count": 124,
   "id": "dcfddb1a",
   "metadata": {},
   "outputs": [
    {
     "data": {
      "text/plain": [
       "['a', 'b', 'c', 'd', 56, 7, 7, 8, 86, 4, 2, 34234, 1231]"
      ]
     },
     "execution_count": 124,
     "metadata": {},
     "output_type": "execute_result"
    }
   ],
   "source": [
    "a"
   ]
  },
  {
   "cell_type": "code",
   "execution_count": 125,
   "id": "80b6f6c4",
   "metadata": {},
   "outputs": [],
   "source": [
    "a[0:10]=['안녕']"
   ]
  },
  {
   "cell_type": "code",
   "execution_count": 126,
   "id": "496a4da1",
   "metadata": {},
   "outputs": [
    {
     "data": {
      "text/plain": [
       "['안녕', 2, 34234, 1231]"
      ]
     },
     "execution_count": 126,
     "metadata": {},
     "output_type": "execute_result"
    }
   ],
   "source": [
    "a"
   ]
  },
  {
   "cell_type": "code",
   "execution_count": 127,
   "id": "2b8604aa",
   "metadata": {},
   "outputs": [],
   "source": [
    "a = (1,2,3,4,5)"
   ]
  },
  {
   "cell_type": "code",
   "execution_count": 130,
   "id": "eb0fc330",
   "metadata": {},
   "outputs": [
    {
     "ename": "TypeError",
     "evalue": "'tuple' object does not support item assignment",
     "output_type": "error",
     "traceback": [
      "\u001b[1;31m---------------------------------------------------------------------------\u001b[0m",
      "\u001b[1;31mTypeError\u001b[0m                                 Traceback (most recent call last)",
      "Input \u001b[1;32mIn [130]\u001b[0m, in \u001b[0;36m<cell line: 1>\u001b[1;34m()\u001b[0m\n\u001b[1;32m----> 1\u001b[0m a[\u001b[38;5;241m0\u001b[39m:\u001b[38;5;241m3\u001b[39m] \u001b[38;5;241m=\u001b[39m (\u001b[38;5;241m1\u001b[39m,\u001b[38;5;241m2\u001b[39m)\n",
      "\u001b[1;31mTypeError\u001b[0m: 'tuple' object does not support item assignment"
     ]
    }
   ],
   "source": [
    "a[0:3] = (1,2) # 튜플에서는 불가능"
   ]
  },
  {
   "cell_type": "markdown",
   "id": "be2e6106",
   "metadata": {},
   "source": [
    "#### 에러가 나면 주석처리를 해보면서 어떤 부분이 문제인지 알아가도록 한다."
   ]
  }
 ],
 "metadata": {
  "kernelspec": {
   "display_name": "Python 3 (ipykernel)",
   "language": "python",
   "name": "python3"
  },
  "language_info": {
   "codemirror_mode": {
    "name": "ipython",
    "version": 3
   },
   "file_extension": ".py",
   "mimetype": "text/x-python",
   "name": "python",
   "nbconvert_exporter": "python",
   "pygments_lexer": "ipython3",
   "version": "3.9.12"
  }
 },
 "nbformat": 4,
 "nbformat_minor": 5
}
