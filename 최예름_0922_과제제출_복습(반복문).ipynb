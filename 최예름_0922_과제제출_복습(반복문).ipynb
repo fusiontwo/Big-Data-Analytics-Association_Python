{
 "cells": [
  {
   "cell_type": "code",
   "execution_count": 1,
   "id": "06370572",
   "metadata": {},
   "outputs": [
    {
     "name": "stdout",
     "output_type": "stream",
     "text": [
      "안녕하세요! 0\n",
      "안녕하세요! 1\n",
      "안녕하세요! 2\n",
      "안녕하세요! 3\n",
      "안녕하세요! 4\n",
      "안녕하세요! 5\n",
      "안녕하세요! 6\n",
      "안녕하세요! 7\n",
      "안녕하세요! 8\n",
      "안녕하세요! 9\n"
     ]
    }
   ],
   "source": [
    "# 반복문\n",
    "for i in range(10):\n",
    "    print('안녕하세요!', i)"
   ]
  },
  {
   "cell_type": "code",
   "execution_count": 2,
   "id": "3f2f2d8e",
   "metadata": {},
   "outputs": [
    {
     "name": "stdout",
     "output_type": "stream",
     "text": [
      "안녕하세요! 1\n",
      "안녕하세요! 2\n",
      "안녕하세요! 3\n",
      "안녕하세요! 4\n",
      "안녕하세요! 5\n",
      "안녕하세요! 6\n",
      "안녕하세요! 7\n",
      "안녕하세요! 8\n",
      "안녕하세요! 9\n"
     ]
    }
   ],
   "source": [
    "# for, range 응용\n",
    "# range(시작, 끝)\n",
    "for i in range(1,10):\n",
    "    print('안녕하세요!', i)"
   ]
  },
  {
   "cell_type": "code",
   "execution_count": 3,
   "id": "19c75813",
   "metadata": {},
   "outputs": [
    {
     "name": "stdout",
     "output_type": "stream",
     "text": [
      "안녕하세요! 0\n",
      "안녕하세요! 2\n",
      "안녕하세요! 4\n",
      "안녕하세요! 6\n",
      "안녕하세요! 8\n"
     ]
    }
   ],
   "source": [
    "# for, range 응용\n",
    "# range(시작,끝,증가폭)\n",
    "for i in range(0,10,2):\n",
    "    print('안녕하세요!', i)"
   ]
  },
  {
   "cell_type": "code",
   "execution_count": 4,
   "id": "9ef9ff32",
   "metadata": {},
   "outputs": [],
   "source": [
    "# 숫자를 감소시켜야 하는 경우\n",
    "for i in range(10,0):\n",
    "    print('안녕하세요!', i)"
   ]
  },
  {
   "cell_type": "code",
   "execution_count": 5,
   "id": "5a8d4721",
   "metadata": {},
   "outputs": [
    {
     "name": "stdout",
     "output_type": "stream",
     "text": [
      "안녕하세요! 10\n",
      "안녕하세요! 8\n",
      "안녕하세요! 6\n",
      "안녕하세요! 4\n",
      "안녕하세요! 2\n"
     ]
    }
   ],
   "source": [
    "# 숫자를 감소시켜야 하는 경우 (감소폭을 적어야 한다!)\n",
    "for i in range(10,0,-2):\n",
    "    print('안녕하세요!', i)"
   ]
  },
  {
   "cell_type": "code",
   "execution_count": 8,
   "id": "958122c7",
   "metadata": {},
   "outputs": [
    {
     "name": "stdout",
     "output_type": "stream",
     "text": [
      "안녕하세요! 0\n",
      "안녕하세요! 1\n",
      "안녕하세요! 2\n",
      "안녕하세요! 3\n",
      "안녕하세요! 4\n",
      "안녕하세요! 5\n",
      "안녕하세요! 6\n",
      "안녕하세요! 7\n",
      "안녕하세요! 8\n",
      "안녕하세요! 9\n"
     ]
    }
   ],
   "source": [
    "for i in range(10):\n",
    "    print('안녕하세요!', i)"
   ]
  },
  {
   "cell_type": "code",
   "execution_count": 9,
   "id": "4909aa50",
   "metadata": {},
   "outputs": [
    {
     "name": "stdout",
     "output_type": "stream",
     "text": [
      "안녕하세요! 9\n",
      "안녕하세요! 8\n",
      "안녕하세요! 7\n",
      "안녕하세요! 6\n",
      "안녕하세요! 5\n",
      "안녕하세요! 4\n",
      "안녕하세요! 3\n",
      "안녕하세요! 2\n",
      "안녕하세요! 1\n",
      "안녕하세요! 0\n"
     ]
    }
   ],
   "source": [
    "for i in reversed(range(10)):\n",
    "    print('안녕하세요!', i)"
   ]
  },
  {
   "cell_type": "code",
   "execution_count": 10,
   "id": "291d2ac9",
   "metadata": {},
   "outputs": [],
   "source": [
    "# 유저에게 입력값을 받고 그 값만큼 반복하는 코드를 작성해보자!\n",
    "# 유저에게 반복할 횟수를 받아서 변수에 넣고 그 변수의 반복 횟수만큼 진행되는 반복문을 만들어주세요!"
   ]
  },
  {
   "cell_type": "code",
   "execution_count": 11,
   "id": "7931b92d",
   "metadata": {},
   "outputs": [
    {
     "name": "stdout",
     "output_type": "stream",
     "text": [
      "반복횟수를 입력하시오: 4\n",
      "반복 중입니다. 0\n",
      "반복 중입니다. 1\n",
      "반복 중입니다. 2\n",
      "반복 중입니다. 3\n"
     ]
    }
   ],
   "source": [
    "count = int(input(\"반복횟수를 입력하시오: \"))\n",
    "\n",
    "for i in range(count):\n",
    "    print('반복 중입니다.', i)"
   ]
  },
  {
   "cell_type": "markdown",
   "id": "e4841160",
   "metadata": {},
   "source": [
    "### 시퀀스 객체"
   ]
  },
  {
   "cell_type": "code",
   "execution_count": 12,
   "id": "6da50576",
   "metadata": {},
   "outputs": [],
   "source": [
    "a = ['a','b','c','d','e','f']"
   ]
  },
  {
   "cell_type": "code",
   "execution_count": 13,
   "id": "318e0119",
   "metadata": {},
   "outputs": [
    {
     "data": {
      "text/plain": [
       "['a', 'b', 'c', 'd', 'e', 'f']"
      ]
     },
     "execution_count": 13,
     "metadata": {},
     "output_type": "execute_result"
    }
   ],
   "source": [
    "a"
   ]
  },
  {
   "cell_type": "code",
   "execution_count": 14,
   "id": "5c44c688",
   "metadata": {},
   "outputs": [
    {
     "name": "stdout",
     "output_type": "stream",
     "text": [
      "a\n",
      "b\n",
      "c\n",
      "d\n",
      "e\n",
      "f\n"
     ]
    }
   ],
   "source": [
    "for i in a:\n",
    "    print(i)"
   ]
  },
  {
   "cell_type": "code",
   "execution_count": 15,
   "id": "66cb63b5",
   "metadata": {},
   "outputs": [
    {
     "name": "stdout",
     "output_type": "stream",
     "text": [
      "안녕하세요 0\n",
      "안녕하세요 1\n",
      "안녕하세요 2\n",
      "안녕하세요 3\n",
      "안녕하세요 4\n"
     ]
    }
   ],
   "source": [
    "for i in range(5):\n",
    "    print('안녕하세요', i)"
   ]
  },
  {
   "cell_type": "code",
   "execution_count": 16,
   "id": "71f51ead",
   "metadata": {},
   "outputs": [
    {
     "name": "stdout",
     "output_type": "stream",
     "text": [
      "안녕하세요 a\n",
      "안녕하세요 b\n",
      "안녕하세요 c\n",
      "안녕하세요 d\n",
      "안녕하세요 e\n",
      "안녕하세요 f\n"
     ]
    }
   ],
   "source": [
    "for i in a:  # 시퀀스 객체의 값을 가져와서 출력\n",
    "    print('안녕하세요', i)"
   ]
  },
  {
   "cell_type": "code",
   "execution_count": 17,
   "id": "fbb8b00c",
   "metadata": {},
   "outputs": [
    {
     "name": "stdout",
     "output_type": "stream",
     "text": [
      "a\n",
      "b\n"
     ]
    }
   ],
   "source": [
    "print(a[0])\n",
    "print(a[1])"
   ]
  },
  {
   "cell_type": "code",
   "execution_count": 18,
   "id": "e07b70ff",
   "metadata": {},
   "outputs": [],
   "source": [
    "abc = 4"
   ]
  },
  {
   "cell_type": "code",
   "execution_count": 19,
   "id": "4a1ea74b",
   "metadata": {},
   "outputs": [
    {
     "ename": "TypeError",
     "evalue": "'int' object is not iterable",
     "output_type": "error",
     "traceback": [
      "\u001b[1;31m---------------------------------------------------------------------------\u001b[0m",
      "\u001b[1;31mTypeError\u001b[0m                                 Traceback (most recent call last)",
      "Input \u001b[1;32mIn [19]\u001b[0m, in \u001b[0;36m<cell line: 2>\u001b[1;34m()\u001b[0m\n\u001b[0;32m      1\u001b[0m \u001b[38;5;66;03m# 오류 예시: 반복 횟수를 적을 때는 in range를 반드시 써야 한다.\u001b[39;00m\n\u001b[1;32m----> 2\u001b[0m \u001b[38;5;28;01mfor\u001b[39;00m i \u001b[38;5;129;01min\u001b[39;00m abc:\n\u001b[0;32m      3\u001b[0m     \u001b[38;5;28mprint\u001b[39m(\u001b[38;5;124m'\u001b[39m\u001b[38;5;124m안녕하세요\u001b[39m\u001b[38;5;124m'\u001b[39m, i)\n",
      "\u001b[1;31mTypeError\u001b[0m: 'int' object is not iterable"
     ]
    }
   ],
   "source": [
    "# 오류 예시: 반복 횟수를 적을 때는 in range를 반드시 써야 한다.\n",
    "for i in abc:\n",
    "    print('안녕하세요', i)"
   ]
  },
  {
   "cell_type": "code",
   "execution_count": 20,
   "id": "6886c2e7",
   "metadata": {},
   "outputs": [
    {
     "data": {
      "text/plain": [
       "5"
      ]
     },
     "execution_count": 20,
     "metadata": {},
     "output_type": "execute_result"
    }
   ],
   "source": [
    "5"
   ]
  },
  {
   "cell_type": "code",
   "execution_count": 21,
   "id": "c09a38fc",
   "metadata": {},
   "outputs": [
    {
     "data": {
      "text/plain": [
       "range(0, 5)"
      ]
     },
     "execution_count": 21,
     "metadata": {},
     "output_type": "execute_result"
    }
   ],
   "source": [
    "range(5)"
   ]
  },
  {
   "cell_type": "code",
   "execution_count": 22,
   "id": "17757276",
   "metadata": {},
   "outputs": [],
   "source": [
    "# 튜플로 반복문\n",
    "abc = ('apple', 'banana', 'orange', 'grape')"
   ]
  },
  {
   "cell_type": "code",
   "execution_count": 23,
   "id": "dc2c2aa8",
   "metadata": {},
   "outputs": [
    {
     "data": {
      "text/plain": [
       "('apple', 'banana', 'orange', 'grape')"
      ]
     },
     "execution_count": 23,
     "metadata": {},
     "output_type": "execute_result"
    }
   ],
   "source": [
    "abc"
   ]
  },
  {
   "cell_type": "code",
   "execution_count": 24,
   "id": "9fb6e5ea",
   "metadata": {},
   "outputs": [
    {
     "name": "stdout",
     "output_type": "stream",
     "text": [
      "apple\n",
      "banana\n",
      "orange\n",
      "grape\n"
     ]
    }
   ],
   "source": [
    "for j in abc:\n",
    "    print(j)"
   ]
  },
  {
   "cell_type": "code",
   "execution_count": 25,
   "id": "38d87c65",
   "metadata": {},
   "outputs": [
    {
     "name": "stdout",
     "output_type": "stream",
     "text": [
      "a b c s d f s d f s d f "
     ]
    }
   ],
   "source": [
    "# 문자열로 반복문을 만들면?\n",
    "for v in 'abcsdfsdfsdf':  # 시퀀스 객체에 대한 반복문 작동\n",
    "    print(v, end=' ')"
   ]
  },
  {
   "cell_type": "markdown",
   "id": "f6a1f39e",
   "metadata": {},
   "source": [
    "### while문을 이용해서 반복문 출력하기!\n",
    "- 초기식\n",
    "- while 조건식:\n",
    "- - 반복할 코드\n",
    "- - 변화식\n",
    "- 반복할 횟수를 조건식에 적어서 그만큼 반복을 하고 끝낸다!\n",
    "- while 문은 조건식이 True(참)이면 계속 반복되고 False(거짓)이 되는 순간 멈춘다."
   ]
  },
  {
   "cell_type": "code",
   "execution_count": 26,
   "id": "bd7c6753",
   "metadata": {},
   "outputs": [
    {
     "name": "stdout",
     "output_type": "stream",
     "text": [
      "안녕하세요\n",
      "안녕하세요\n",
      "안녕하세요\n",
      "안녕하세요\n",
      "안녕하세요\n",
      "안녕하세요\n",
      "안녕하세요\n",
      "안녕하세요\n",
      "안녕하세요\n",
      "안녕하세요\n"
     ]
    }
   ],
   "source": [
    "i = 0\n",
    "while i < 10:\n",
    "    print('안녕하세요')\n",
    "    i += 1"
   ]
  },
  {
   "cell_type": "code",
   "execution_count": 27,
   "id": "34619235",
   "metadata": {},
   "outputs": [
    {
     "name": "stdout",
     "output_type": "stream",
     "text": [
      "안녕하세요\n",
      "안녕하세요\n",
      "안녕하세요\n",
      "안녕하세요\n",
      "안녕하세요\n",
      "안녕하세요\n",
      "안녕하세요\n",
      "안녕하세요\n",
      "안녕하세요\n",
      "안녕하세요\n"
     ]
    }
   ],
   "source": [
    "for i in range(10):\n",
    "    print('안녕하세요')"
   ]
  },
  {
   "cell_type": "code",
   "execution_count": 28,
   "id": "df9c1406",
   "metadata": {},
   "outputs": [],
   "source": [
    "i = 101"
   ]
  },
  {
   "cell_type": "code",
   "execution_count": null,
   "id": "543e4984",
   "metadata": {},
   "outputs": [],
   "source": [
    "# i가 0이라서 i<10을 만족하므로 무한 루프\n",
    "i = 0\n",
    "while i<10:\n",
    "    print('안녕하세요!')"
   ]
  },
  {
   "cell_type": "code",
   "execution_count": null,
   "id": "84281c4c",
   "metadata": {},
   "outputs": [],
   "source": [
    "while False:\n",
    "    print('안녕하세요', i)"
   ]
  },
  {
   "cell_type": "markdown",
   "id": "2464771d",
   "metadata": {},
   "source": [
    "### 시작이 1부터 끝이 100까지 반복하는 while문을 적어주세요!"
   ]
  },
  {
   "cell_type": "code",
   "execution_count": 1,
   "id": "39a820d3",
   "metadata": {},
   "outputs": [
    {
     "name": "stdout",
     "output_type": "stream",
     "text": [
      "안녕하세요 1\n",
      "안녕하세요 2\n",
      "안녕하세요 3\n",
      "안녕하세요 4\n",
      "안녕하세요 5\n",
      "안녕하세요 6\n",
      "안녕하세요 7\n",
      "안녕하세요 8\n",
      "안녕하세요 9\n",
      "안녕하세요 10\n",
      "안녕하세요 11\n",
      "안녕하세요 12\n",
      "안녕하세요 13\n",
      "안녕하세요 14\n",
      "안녕하세요 15\n",
      "안녕하세요 16\n",
      "안녕하세요 17\n",
      "안녕하세요 18\n",
      "안녕하세요 19\n",
      "안녕하세요 20\n",
      "안녕하세요 21\n",
      "안녕하세요 22\n",
      "안녕하세요 23\n",
      "안녕하세요 24\n",
      "안녕하세요 25\n",
      "안녕하세요 26\n",
      "안녕하세요 27\n",
      "안녕하세요 28\n",
      "안녕하세요 29\n",
      "안녕하세요 30\n",
      "안녕하세요 31\n",
      "안녕하세요 32\n",
      "안녕하세요 33\n",
      "안녕하세요 34\n",
      "안녕하세요 35\n",
      "안녕하세요 36\n",
      "안녕하세요 37\n",
      "안녕하세요 38\n",
      "안녕하세요 39\n",
      "안녕하세요 40\n",
      "안녕하세요 41\n",
      "안녕하세요 42\n",
      "안녕하세요 43\n",
      "안녕하세요 44\n",
      "안녕하세요 45\n",
      "안녕하세요 46\n",
      "안녕하세요 47\n",
      "안녕하세요 48\n",
      "안녕하세요 49\n",
      "안녕하세요 50\n",
      "안녕하세요 51\n",
      "안녕하세요 52\n",
      "안녕하세요 53\n",
      "안녕하세요 54\n",
      "안녕하세요 55\n",
      "안녕하세요 56\n",
      "안녕하세요 57\n",
      "안녕하세요 58\n",
      "안녕하세요 59\n",
      "안녕하세요 60\n",
      "안녕하세요 61\n",
      "안녕하세요 62\n",
      "안녕하세요 63\n",
      "안녕하세요 64\n",
      "안녕하세요 65\n",
      "안녕하세요 66\n",
      "안녕하세요 67\n",
      "안녕하세요 68\n",
      "안녕하세요 69\n",
      "안녕하세요 70\n",
      "안녕하세요 71\n",
      "안녕하세요 72\n",
      "안녕하세요 73\n",
      "안녕하세요 74\n",
      "안녕하세요 75\n",
      "안녕하세요 76\n",
      "안녕하세요 77\n",
      "안녕하세요 78\n",
      "안녕하세요 79\n",
      "안녕하세요 80\n",
      "안녕하세요 81\n",
      "안녕하세요 82\n",
      "안녕하세요 83\n",
      "안녕하세요 84\n",
      "안녕하세요 85\n",
      "안녕하세요 86\n",
      "안녕하세요 87\n",
      "안녕하세요 88\n",
      "안녕하세요 89\n",
      "안녕하세요 90\n",
      "안녕하세요 91\n",
      "안녕하세요 92\n",
      "안녕하세요 93\n",
      "안녕하세요 94\n",
      "안녕하세요 95\n",
      "안녕하세요 96\n",
      "안녕하세요 97\n",
      "안녕하세요 98\n",
      "안녕하세요 99\n",
      "안녕하세요 100\n"
     ]
    }
   ],
   "source": [
    "i = 1\n",
    "while i <= 100:\n",
    "    print('안녕하세요', i)\n",
    "    i += 1"
   ]
  },
  {
   "cell_type": "markdown",
   "id": "57fdb14d",
   "metadata": {},
   "source": [
    "## 모듈\n",
    "- import 모듈"
   ]
  },
  {
   "cell_type": "code",
   "execution_count": 2,
   "id": "d463831e",
   "metadata": {},
   "outputs": [],
   "source": [
    "import random"
   ]
  },
  {
   "cell_type": "code",
   "execution_count": 3,
   "id": "15636ae1",
   "metadata": {},
   "outputs": [
    {
     "data": {
      "text/plain": [
       "0.6454460206563257"
      ]
     },
     "execution_count": 3,
     "metadata": {},
     "output_type": "execute_result"
    }
   ],
   "source": [
    "random.random()"
   ]
  },
  {
   "cell_type": "markdown",
   "id": "3562404e",
   "metadata": {},
   "source": [
    "### 주사위 게임\n",
    "- random.randint(a,b)\n",
    "- 난수를 생성할 범위를 지정하고 범위에 지정된 숫자도 난수에 포함된다."
   ]
  },
  {
   "cell_type": "code",
   "execution_count": 4,
   "id": "75e12bce",
   "metadata": {},
   "outputs": [
    {
     "data": {
      "text/plain": [
       "5"
      ]
     },
     "execution_count": 4,
     "metadata": {},
     "output_type": "execute_result"
    }
   ],
   "source": [
    "random.randint(1,6)"
   ]
  },
  {
   "cell_type": "code",
   "execution_count": 5,
   "id": "14b88e3d",
   "metadata": {},
   "outputs": [
    {
     "data": {
      "text/plain": [
       "1"
      ]
     },
     "execution_count": 5,
     "metadata": {},
     "output_type": "execute_result"
    }
   ],
   "source": [
    "random.randint(1,6)"
   ]
  },
  {
   "cell_type": "code",
   "execution_count": 6,
   "id": "8e326456",
   "metadata": {},
   "outputs": [],
   "source": [
    "# while문을 이용해서 반복하는 동안 특정 값이 나오면 멈추는 반복문을 만들어주세요!\n",
    "# Random 함수를 이용할 것이고, 값은 5가 나오면 멈추는 while문을 만들어 주세요!"
   ]
  },
  {
   "cell_type": "code",
   "execution_count": 7,
   "id": "2c4d547b",
   "metadata": {},
   "outputs": [
    {
     "name": "stdout",
     "output_type": "stream",
     "text": [
      "3\n",
      "6\n",
      "6\n",
      "6\n",
      "6\n",
      "5\n"
     ]
    }
   ],
   "source": [
    "# 내가 적은 코드\n",
    "import random\n",
    "while True:\n",
    "    num = random.randint(1,6)\n",
    "    print(num)\n",
    "    if num == 5:\n",
    "        break"
   ]
  },
  {
   "cell_type": "code",
   "execution_count": 10,
   "id": "be198c21",
   "metadata": {},
   "outputs": [
    {
     "name": "stdout",
     "output_type": "stream",
     "text": [
      "랜덤으로 값을 출력합니다! 3\n",
      "랜덤으로 값을 출력합니다! 2\n",
      "랜덤으로 값을 출력합니다! 5\n"
     ]
    }
   ],
   "source": [
    "# 모범 답안\n",
    "import random\n",
    "x = 0\n",
    "while x != 5:\n",
    "    x = random.randint(1,6)\n",
    "    print(\"랜덤으로 값을 출력합니다!\", x)"
   ]
  },
  {
   "cell_type": "markdown",
   "id": "64e437ec",
   "metadata": {},
   "source": [
    "### break, continue로 반복문을 제어해보자!\n",
    "- break: 반복문의 흐름을 중단\n",
    "- continue: 반복문 흐름은 유지, 실행 코드만 건너뛴다."
   ]
  },
  {
   "cell_type": "code",
   "execution_count": 11,
   "id": "975b8d00",
   "metadata": {},
   "outputs": [
    {
     "name": "stdout",
     "output_type": "stream",
     "text": [
      "0\n",
      "1\n",
      "2\n",
      "3\n",
      "4\n",
      "5\n",
      "6\n",
      "7\n",
      "8\n",
      "9\n"
     ]
    }
   ],
   "source": [
    "# while문을 break를 이용해서 멈추기!\n",
    "# 조건식은 if를 사용해야 한다.\n",
    "i = 0\n",
    "while True:\n",
    "    print(i)\n",
    "    i += 1  # 변화식\n",
    "    if i == 10:  # 조건식이 i가 10인 경우\n",
    "        break  # 중단"
   ]
  },
  {
   "cell_type": "code",
   "execution_count": 12,
   "id": "84eb2962",
   "metadata": {},
   "outputs": [],
   "source": [
    "# for 문에 break를 이용해서 멈추기!\n",
    "\n",
    "# 1부터 100까지 출력하는 for문을 작성하시고, 루프 인덱스가 53일 때 반복을 멈추는 코드를 작성해 주세요!"
   ]
  },
  {
   "cell_type": "code",
   "execution_count": 13,
   "id": "c2fddb64",
   "metadata": {},
   "outputs": [
    {
     "name": "stdout",
     "output_type": "stream",
     "text": [
      "안녕하세요 1\n",
      "안녕하세요 2\n",
      "안녕하세요 3\n",
      "안녕하세요 4\n",
      "안녕하세요 5\n",
      "안녕하세요 6\n",
      "안녕하세요 7\n",
      "안녕하세요 8\n",
      "안녕하세요 9\n",
      "안녕하세요 10\n",
      "안녕하세요 11\n",
      "안녕하세요 12\n",
      "안녕하세요 13\n",
      "안녕하세요 14\n",
      "안녕하세요 15\n",
      "안녕하세요 16\n",
      "안녕하세요 17\n",
      "안녕하세요 18\n",
      "안녕하세요 19\n",
      "안녕하세요 20\n",
      "안녕하세요 21\n",
      "안녕하세요 22\n",
      "안녕하세요 23\n",
      "안녕하세요 24\n",
      "안녕하세요 25\n",
      "안녕하세요 26\n",
      "안녕하세요 27\n",
      "안녕하세요 28\n",
      "안녕하세요 29\n",
      "안녕하세요 30\n",
      "안녕하세요 31\n",
      "안녕하세요 32\n",
      "안녕하세요 33\n",
      "안녕하세요 34\n",
      "안녕하세요 35\n",
      "안녕하세요 36\n",
      "안녕하세요 37\n",
      "안녕하세요 38\n",
      "안녕하세요 39\n",
      "안녕하세요 40\n",
      "안녕하세요 41\n",
      "안녕하세요 42\n",
      "안녕하세요 43\n",
      "안녕하세요 44\n",
      "안녕하세요 45\n",
      "안녕하세요 46\n",
      "안녕하세요 47\n",
      "안녕하세요 48\n",
      "안녕하세요 49\n",
      "안녕하세요 50\n",
      "안녕하세요 51\n",
      "안녕하세요 52\n",
      "안녕하세요 53\n"
     ]
    }
   ],
   "source": [
    "for i in range(1,101):\n",
    "    print('안녕하세요', i)\n",
    "    if i == 53:\n",
    "        break"
   ]
  }
 ],
 "metadata": {
  "kernelspec": {
   "display_name": "Python 3 (ipykernel)",
   "language": "python",
   "name": "python3"
  },
  "language_info": {
   "codemirror_mode": {
    "name": "ipython",
    "version": 3
   },
   "file_extension": ".py",
   "mimetype": "text/x-python",
   "name": "python",
   "nbconvert_exporter": "python",
   "pygments_lexer": "ipython3",
   "version": "3.9.12"
  }
 },
 "nbformat": 4,
 "nbformat_minor": 5
}
