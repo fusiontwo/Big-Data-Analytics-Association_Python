{
 "cells": [
  {
   "cell_type": "markdown",
   "id": "6cb93772",
   "metadata": {},
   "source": [
    "### 과제1. 논리 연산자를 사용한 식 10개 만들기 (논리 연산자를 5개 이상 사용)"
   ]
  },
  {
   "cell_type": "code",
   "execution_count": 5,
   "id": "9ef5abeb",
   "metadata": {},
   "outputs": [
    {
     "data": {
      "text/plain": [
       "False"
      ]
     },
     "execution_count": 5,
     "metadata": {},
     "output_type": "execute_result"
    }
   ],
   "source": [
    "True and False or False or True and True and False"
   ]
  },
  {
   "cell_type": "code",
   "execution_count": 8,
   "id": "059f7c0f",
   "metadata": {
    "scrolled": true
   },
   "outputs": [
    {
     "data": {
      "text/plain": [
       "True"
      ]
     },
     "execution_count": 8,
     "metadata": {},
     "output_type": "execute_result"
    }
   ],
   "source": [
    "200 != 201 and True or 1>5 and False or 0 and 1"
   ]
  },
  {
   "cell_type": "code",
   "execution_count": 12,
   "id": "00d641f0",
   "metadata": {},
   "outputs": [
    {
     "data": {
      "text/plain": [
       "123"
      ]
     },
     "execution_count": 12,
     "metadata": {},
     "output_type": "execute_result"
    }
   ],
   "source": [
    "True and 123 or 0 or 1 and 1 or 0"
   ]
  },
  {
   "cell_type": "code",
   "execution_count": 14,
   "id": "bd8b6f29",
   "metadata": {},
   "outputs": [
    {
     "data": {
      "text/plain": [
       "1"
      ]
     },
     "execution_count": 14,
     "metadata": {},
     "output_type": "execute_result"
    }
   ],
   "source": [
    "0 and False or 1 and True and 1 or False"
   ]
  },
  {
   "cell_type": "code",
   "execution_count": 15,
   "id": "92f984b5",
   "metadata": {},
   "outputs": [
    {
     "data": {
      "text/plain": [
       "True"
      ]
     },
     "execution_count": 15,
     "metadata": {},
     "output_type": "execute_result"
    }
   ],
   "source": [
    "6 == 6 or 1!= 0 or 4 >= 3 and True and False"
   ]
  },
  {
   "cell_type": "code",
   "execution_count": 19,
   "id": "e1f025c2",
   "metadata": {},
   "outputs": [
    {
     "data": {
      "text/plain": [
       "1"
      ]
     },
     "execution_count": 19,
     "metadata": {},
     "output_type": "execute_result"
    }
   ],
   "source": [
    "1 or 0 and 1 or 0 or 1 or True"
   ]
  },
  {
   "cell_type": "code",
   "execution_count": 20,
   "id": "8df70ea5",
   "metadata": {},
   "outputs": [
    {
     "data": {
      "text/plain": [
       "True"
      ]
     },
     "execution_count": 20,
     "metadata": {},
     "output_type": "execute_result"
    }
   ],
   "source": [
    "True or 1 and 0 or 0 and 1 and 0"
   ]
  },
  {
   "cell_type": "code",
   "execution_count": 24,
   "id": "89c140ed",
   "metadata": {},
   "outputs": [
    {
     "data": {
      "text/plain": [
       "0"
      ]
     },
     "execution_count": 24,
     "metadata": {},
     "output_type": "execute_result"
    }
   ],
   "source": [
    "88 % 9 == 0 and True and 2 and False or 0"
   ]
  },
  {
   "cell_type": "code",
   "execution_count": 29,
   "id": "f045403b",
   "metadata": {},
   "outputs": [
    {
     "data": {
      "text/plain": [
       "True"
      ]
     },
     "execution_count": 29,
     "metadata": {},
     "output_type": "execute_result"
    }
   ],
   "source": [
    "False or True or 0 or 1 or '안녕히계세요' and True"
   ]
  },
  {
   "cell_type": "code",
   "execution_count": 34,
   "id": "e9dc8528",
   "metadata": {},
   "outputs": [
    {
     "data": {
      "text/plain": [
       "False"
      ]
     },
     "execution_count": 34,
     "metadata": {},
     "output_type": "execute_result"
    }
   ],
   "source": [
    "(1 == 0) and (5 <= 8) or (1 == 2) and True or False"
   ]
  },
  {
   "cell_type": "markdown",
   "id": "ec55cc01",
   "metadata": {},
   "source": [
    "### 과제2. 리스트와 튜플을 이용하여 3가지 답변 완성하기\n",
    "- 본인이 좋아하는 과일\n",
    "- 본인이 좋아하는 노래\n",
    "- 본인이 좋아하는 색깔"
   ]
  },
  {
   "cell_type": "code",
   "execution_count": 40,
   "id": "cd22c5e9",
   "metadata": {},
   "outputs": [
    {
     "data": {
      "text/plain": [
       "['orange', 'grape']"
      ]
     },
     "execution_count": 40,
     "metadata": {},
     "output_type": "execute_result"
    }
   ],
   "source": [
    "like_fruit = list()\n",
    "like_fruit.append('orange')\n",
    "like_fruit.append('grape')\n",
    "like_fruit"
   ]
  },
  {
   "cell_type": "code",
   "execution_count": 41,
   "id": "f122717f",
   "metadata": {},
   "outputs": [
    {
     "data": {
      "text/plain": [
       "['스물다섯 스물하나(자우림)', 'Celebrity(아이유)', '바람의 노래(소향)']"
      ]
     },
     "execution_count": 41,
     "metadata": {},
     "output_type": "execute_result"
    }
   ],
   "source": [
    "like_song = ['스물다섯 스물하나(자우림)','Celebrity(아이유)','바람의 노래(소향)']\n",
    "like_song"
   ]
  },
  {
   "cell_type": "code",
   "execution_count": 43,
   "id": "958dd188",
   "metadata": {},
   "outputs": [
    {
     "data": {
      "text/plain": [
       "('sky blue', 'black', 'white', 'yellow')"
      ]
     },
     "execution_count": 43,
     "metadata": {},
     "output_type": "execute_result"
    }
   ],
   "source": [
    "like_color = ('sky blue','black','white','yellow')\n",
    "like_color"
   ]
  },
  {
   "cell_type": "code",
   "execution_count": 44,
   "id": "e2a650a4",
   "metadata": {},
   "outputs": [
    {
     "data": {
      "text/plain": [
       "('sky blue', 'black', 'white', 'yellow')"
      ]
     },
     "execution_count": 44,
     "metadata": {},
     "output_type": "execute_result"
    }
   ],
   "source": [
    "'sky blue','black','white','yellow'"
   ]
  }
 ],
 "metadata": {
  "kernelspec": {
   "display_name": "Python 3 (ipykernel)",
   "language": "python",
   "name": "python3"
  },
  "language_info": {
   "codemirror_mode": {
    "name": "ipython",
    "version": 3
   },
   "file_extension": ".py",
   "mimetype": "text/x-python",
   "name": "python",
   "nbconvert_exporter": "python",
   "pygments_lexer": "ipython3",
   "version": "3.9.12"
  }
 },
 "nbformat": 4,
 "nbformat_minor": 5
}
